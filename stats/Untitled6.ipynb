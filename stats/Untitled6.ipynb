{
 "cells": [
  {
   "cell_type": "code",
   "execution_count": null,
   "metadata": {},
   "outputs": [],
   "source": [
    "con <-dbConnect(odbc()),\n",
    "                Driver =\"Sql Server\",\n",
    "                Server = \"DESKTOP-F1Q7Q52\\SQLEXPRESS\",\n",
    "                Database =\"boxOffice\",\n",
    "                Trusted_Connection = \"True\")"
   ]
  }
 ],
 "metadata": {
  "kernelspec": {
   "display_name": "R",
   "language": "R",
   "name": "ir"
  }
 },
 "nbformat": 4,
 "nbformat_minor": 2
}
