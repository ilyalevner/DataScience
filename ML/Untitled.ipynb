{
 "cells": [
  {
   "cell_type": "code",
   "execution_count": 2,
   "metadata": {
    "scrolled": true
   },
   "outputs": [
    {
     "name": "stderr",
     "output_type": "stream",
     "text": [
      "\n",
      "Attaching package: 'dplyr'\n",
      "\n",
      "The following objects are masked from 'package:stats':\n",
      "\n",
      "    filter, lag\n",
      "\n",
      "The following objects are masked from 'package:base':\n",
      "\n",
      "    intersect, setdiff, setequal, union\n",
      "\n"
     ]
    }
   ],
   "source": [
    "library(readr)\n",
    "library(mechkar)\n",
    "library(dplyr)\n",
    "library(ggplot2)"
   ]
  },
  {
   "cell_type": "code",
   "execution_count": 3,
   "metadata": {},
   "outputs": [
    {
     "name": "stderr",
     "output_type": "stream",
     "text": [
      "Warning message:\n",
      "\"`as_data_frame()` is deprecated, use `as_tibble()` (but mind the new semantics).\n",
      "\u001b[90mThis warning is displayed once per session.\u001b[39m\""
     ]
    }
   ],
   "source": [
    "nasa2<-as_data_frame(nasa)"
   ]
  },
  {
   "cell_type": "code",
   "execution_count": 4,
   "metadata": {},
   "outputs": [],
   "source": [
    "help(nasa)"
   ]
  },
  {
   "cell_type": "code",
   "execution_count": 5,
   "metadata": {},
   "outputs": [
    {
     "data": {
      "text/html": [
       "<table>\n",
       "<caption>A tibble: 6 × 11</caption>\n",
       "<thead>\n",
       "\t<tr><th scope=col>lat</th><th scope=col>long</th><th scope=col>month</th><th scope=col>year</th><th scope=col>cloudhigh</th><th scope=col>cloudlow</th><th scope=col>cloudmid</th><th scope=col>ozone</th><th scope=col>pressure</th><th scope=col>surftemp</th><th scope=col>temperature</th></tr>\n",
       "\t<tr><th scope=col>&lt;dbl&gt;</th><th scope=col>&lt;dbl&gt;</th><th scope=col>&lt;int&gt;</th><th scope=col>&lt;int&gt;</th><th scope=col>&lt;dbl&gt;</th><th scope=col>&lt;dbl&gt;</th><th scope=col>&lt;dbl&gt;</th><th scope=col>&lt;dbl&gt;</th><th scope=col>&lt;dbl&gt;</th><th scope=col>&lt;dbl&gt;</th><th scope=col>&lt;dbl&gt;</th></tr>\n",
       "</thead>\n",
       "<tbody>\n",
       "\t<tr><td>36.20000</td><td>-113.8</td><td>1</td><td>1995</td><td>26.0</td><td> 7.5</td><td>34.5</td><td>304</td><td> 835</td><td>272.7</td><td>272.1</td></tr>\n",
       "\t<tr><td>33.70435</td><td>-113.8</td><td>1</td><td>1995</td><td>20.0</td><td>11.5</td><td>32.5</td><td>304</td><td> 940</td><td>279.5</td><td>282.2</td></tr>\n",
       "\t<tr><td>31.20870</td><td>-113.8</td><td>1</td><td>1995</td><td>16.0</td><td>16.5</td><td>26.0</td><td>298</td><td> 960</td><td>284.7</td><td>285.2</td></tr>\n",
       "\t<tr><td>28.71304</td><td>-113.8</td><td>1</td><td>1995</td><td>13.0</td><td>20.5</td><td>14.5</td><td>276</td><td> 990</td><td>289.3</td><td>290.7</td></tr>\n",
       "\t<tr><td>26.21739</td><td>-113.8</td><td>1</td><td>1995</td><td> 7.5</td><td>26.0</td><td>10.5</td><td>274</td><td>1000</td><td>292.2</td><td>292.7</td></tr>\n",
       "\t<tr><td>23.72174</td><td>-113.8</td><td>1</td><td>1995</td><td> 8.0</td><td>30.0</td><td> 9.5</td><td>264</td><td>1000</td><td>294.1</td><td>293.6</td></tr>\n",
       "</tbody>\n",
       "</table>\n"
      ],
      "text/latex": [
       "A tibble: 6 × 11\n",
       "\\begin{tabular}{lllllllllll}\n",
       " lat & long & month & year & cloudhigh & cloudlow & cloudmid & ozone & pressure & surftemp & temperature\\\\\n",
       " <dbl> & <dbl> & <int> & <int> & <dbl> & <dbl> & <dbl> & <dbl> & <dbl> & <dbl> & <dbl>\\\\\n",
       "\\hline\n",
       "\t 36.20000 & -113.8 & 1 & 1995 & 26.0 &  7.5 & 34.5 & 304 &  835 & 272.7 & 272.1\\\\\n",
       "\t 33.70435 & -113.8 & 1 & 1995 & 20.0 & 11.5 & 32.5 & 304 &  940 & 279.5 & 282.2\\\\\n",
       "\t 31.20870 & -113.8 & 1 & 1995 & 16.0 & 16.5 & 26.0 & 298 &  960 & 284.7 & 285.2\\\\\n",
       "\t 28.71304 & -113.8 & 1 & 1995 & 13.0 & 20.5 & 14.5 & 276 &  990 & 289.3 & 290.7\\\\\n",
       "\t 26.21739 & -113.8 & 1 & 1995 &  7.5 & 26.0 & 10.5 & 274 & 1000 & 292.2 & 292.7\\\\\n",
       "\t 23.72174 & -113.8 & 1 & 1995 &  8.0 & 30.0 &  9.5 & 264 & 1000 & 294.1 & 293.6\\\\\n",
       "\\end{tabular}\n"
      ],
      "text/markdown": [
       "\n",
       "A tibble: 6 × 11\n",
       "\n",
       "| lat &lt;dbl&gt; | long &lt;dbl&gt; | month &lt;int&gt; | year &lt;int&gt; | cloudhigh &lt;dbl&gt; | cloudlow &lt;dbl&gt; | cloudmid &lt;dbl&gt; | ozone &lt;dbl&gt; | pressure &lt;dbl&gt; | surftemp &lt;dbl&gt; | temperature &lt;dbl&gt; |\n",
       "|---|---|---|---|---|---|---|---|---|---|---|\n",
       "| 36.20000 | -113.8 | 1 | 1995 | 26.0 |  7.5 | 34.5 | 304 |  835 | 272.7 | 272.1 |\n",
       "| 33.70435 | -113.8 | 1 | 1995 | 20.0 | 11.5 | 32.5 | 304 |  940 | 279.5 | 282.2 |\n",
       "| 31.20870 | -113.8 | 1 | 1995 | 16.0 | 16.5 | 26.0 | 298 |  960 | 284.7 | 285.2 |\n",
       "| 28.71304 | -113.8 | 1 | 1995 | 13.0 | 20.5 | 14.5 | 276 |  990 | 289.3 | 290.7 |\n",
       "| 26.21739 | -113.8 | 1 | 1995 |  7.5 | 26.0 | 10.5 | 274 | 1000 | 292.2 | 292.7 |\n",
       "| 23.72174 | -113.8 | 1 | 1995 |  8.0 | 30.0 |  9.5 | 264 | 1000 | 294.1 | 293.6 |\n",
       "\n"
      ],
      "text/plain": [
       "  lat      long   month year cloudhigh cloudlow cloudmid ozone pressure\n",
       "1 36.20000 -113.8 1     1995 26.0       7.5     34.5     304    835    \n",
       "2 33.70435 -113.8 1     1995 20.0      11.5     32.5     304    940    \n",
       "3 31.20870 -113.8 1     1995 16.0      16.5     26.0     298    960    \n",
       "4 28.71304 -113.8 1     1995 13.0      20.5     14.5     276    990    \n",
       "5 26.21739 -113.8 1     1995  7.5      26.0     10.5     274   1000    \n",
       "6 23.72174 -113.8 1     1995  8.0      30.0      9.5     264   1000    \n",
       "  surftemp temperature\n",
       "1 272.7    272.1      \n",
       "2 279.5    282.2      \n",
       "3 284.7    285.2      \n",
       "4 289.3    290.7      \n",
       "5 292.2    292.7      \n",
       "6 294.1    293.6      "
      ]
     },
     "metadata": {},
     "output_type": "display_data"
    }
   ],
   "source": [
    "head(nasa2)"
   ]
  },
  {
   "cell_type": "code",
   "execution_count": 6,
   "metadata": {},
   "outputs": [],
   "source": [
    "df_2<-nasa2"
   ]
  },
  {
   "cell_type": "code",
   "execution_count": 7,
   "metadata": {},
   "outputs": [
    {
     "name": "stderr",
     "output_type": "stream",
     "text": [
      "Dataset partitioned into:\n",
      " + Train dataset: train\n",
      " + Test dataset: test\n"
     ]
    },
    {
     "name": "stdout",
     "output_type": "stream",
     "text": [
      "  |================================================================      |  92%"
     ]
    },
    {
     "name": "stderr",
     "output_type": "stream",
     "text": [
      "You got a perfectly balanced training and test datasets\n",
      " \n"
     ]
    },
    {
     "data": {
      "text/html": [
       "<table>\n",
       "<caption>A tibble: 26 × 6</caption>\n",
       "<thead>\n",
       "\t<tr><th scope=col>V1</th><th scope=col>V2</th><th scope=col>Pop</th><th scope=col>1</th><th scope=col>2</th><th scope=col>pval</th></tr>\n",
       "\t<tr><th scope=col>&lt;chr&gt;</th><th scope=col>&lt;chr&gt;</th><th scope=col>&lt;chr&gt;</th><th scope=col>&lt;fct&gt;</th><th scope=col>&lt;fct&gt;</th><th scope=col>&lt;fct&gt;</th></tr>\n",
       "</thead>\n",
       "<tbody>\n",
       "\t<tr><td>Individuals   </td><td>n           </td><td>41472                    </td><td>29030                    </td><td>12442                    </td><td>NA   </td></tr>\n",
       "\t<tr><td>lat           </td><td>Mean (SD)   </td><td>7.5 (17.3)               </td><td>7.5 (17.3)               </td><td>7.5 (17.2)               </td><td>NA   </td></tr>\n",
       "\t<tr><td>lat           </td><td>Median (IQR)</td><td>7.5 (-6.9-21.9)          </td><td>7.5 (-6.2-23.7)          </td><td>7.5 (-8.7-21.2)          </td><td>0.92 </td></tr>\n",
       "\t<tr><td>long          </td><td>Mean (SD)   </td><td>-85.0 (17.3)             </td><td>-85.0 (17.3)             </td><td>-85.0 (17.4)             </td><td>NA   </td></tr>\n",
       "\t<tr><td>long          </td><td>Median (IQR)</td><td>-85.0 (-99.4--70.6)      </td><td>-83.7 (-98.8--71.2)      </td><td>-86.3 (-101.3--68.7)     </td><td>0.933</td></tr>\n",
       "\t<tr><td>month         </td><td>Mean (SD)   </td><td>6.5 (3.5)                </td><td>6.5 (3.5)                </td><td>6.5 (3.5)                </td><td>NA   </td></tr>\n",
       "\t<tr><td>month         </td><td>Median (IQR)</td><td>6.5 (3.8-9.2)            </td><td>6.0 (4.0-9.0)            </td><td>7.0 (3.0-10.0)           </td><td>0.756</td></tr>\n",
       "\t<tr><td>year          </td><td>Mean (SD)   </td><td>1,997.5 (1.7)            </td><td>1,997.5 (1.7)            </td><td>1,997.5 (1.7)            </td><td>NA   </td></tr>\n",
       "\t<tr><td>year          </td><td>Median (IQR)</td><td>1,997.5 (1,996.0-1,999.0)</td><td>1,998.0 (1,996.0-1,999.0)</td><td>1,997.0 (1,996.0-1,999.0)</td><td>0.243</td></tr>\n",
       "\t<tr><td>cloudhigh     </td><td>Mean (SD)   </td><td>12.0 (12.4)              </td><td>11.9 (12.3)              </td><td>12.2 (12.5)              </td><td>NA   </td></tr>\n",
       "\t<tr><td>cloudhigh     </td><td>Median (IQR)</td><td>8.5 (1.5-18.5)           </td><td>8.0 (1.5-18.0)           </td><td>8.5 (1.5-18.5)           </td><td>0.02 </td></tr>\n",
       "\t<tr><td>cloudlow      </td><td>Mean (SD)   </td><td>26.2 (14.8)              </td><td>26.3 (14.8)              </td><td>26.2 (14.8)              </td><td>NA   </td></tr>\n",
       "\t<tr><td>cloudlow      </td><td>Median (IQR)</td><td>23.5 (15.0-34.5)         </td><td>23.5 (15.0-34.5)         </td><td>23.5 (15.0-34.5)         </td><td>0.564</td></tr>\n",
       "\t<tr><td>cloudlow      </td><td>Missing (%) </td><td>110 (0.3%)               </td><td>84 (0.3%)                </td><td>26 (0.2%)                </td><td>NA   </td></tr>\n",
       "\t<tr><td>cloudmid      </td><td>Mean (SD)   </td><td>15.3 (9.7)               </td><td>15.3 (9.7)               </td><td>15.3 (9.7)               </td><td>NA   </td></tr>\n",
       "\t<tr><td>cloudmid      </td><td>Median (IQR)</td><td>14.0 (7.5-22.0)          </td><td>14.0 (7.5-22.0)          </td><td>14.5 (7.5-22.0)          </td><td>0.541</td></tr>\n",
       "\t<tr><td>ozone         </td><td>Mean (SD)   </td><td>267.2 (19.0)             </td><td>267.2 (19.0)             </td><td>267.1 (18.9)             </td><td>NA   </td></tr>\n",
       "\t<tr><td>ozone         </td><td>Median (IQR)</td><td>264.0 (254.0-276.0)      </td><td>264.0 (254.0-276.0)      </td><td>264.0 (254.0-276.0)      </td><td>0.638</td></tr>\n",
       "\t<tr><td>pressure      </td><td>Mean (SD)   </td><td>985.4 (45.2)             </td><td>985.5 (45.3)             </td><td>985.4 (45.0)             </td><td>NA   </td></tr>\n",
       "\t<tr><td>pressure      </td><td>Median (IQR)</td><td>1,000.0 (995.0-1,000.0)  </td><td>1,000.0 (995.0-1,000.0)  </td><td>1,000.0 (995.0-1,000.0)  </td><td>0.924</td></tr>\n",
       "\t<tr><td>surftemp      </td><td>Mean (SD)   </td><td>296.2 (4.7)              </td><td>296.2 (4.7)              </td><td>296.2 (4.7)              </td><td>NA   </td></tr>\n",
       "\t<tr><td>surftemp      </td><td>Median (IQR)</td><td>296.9 (294.1-299.2)      </td><td>296.9 (294.1-299.2)      </td><td>296.9 (293.6-299.2)      </td><td>0.973</td></tr>\n",
       "\t<tr><td>temperature   </td><td>Mean (SD)   </td><td>297.9 (4.7)              </td><td>297.9 (4.7)              </td><td>297.9 (4.7)              </td><td>NA   </td></tr>\n",
       "\t<tr><td>temperature   </td><td>Median (IQR)</td><td>299.2 (295.5-301.4)      </td><td>299.2 (295.5-301.4)      </td><td>299.2 (295.5-301.4)      </td><td>0.811</td></tr>\n",
       "\t<tr><td>traintest_ind_</td><td>Mean (SD)   </td><td>1.3 (0.5)                </td><td>NA                       </td><td>NA                       </td><td>NA   </td></tr>\n",
       "\t<tr><td>traintest_ind_</td><td>Median (IQR)</td><td>1.0 (1.0-2.0)            </td><td>NA                       </td><td>NA                       </td><td>0    </td></tr>\n",
       "</tbody>\n",
       "</table>\n"
      ],
      "text/latex": [
       "A tibble: 26 × 6\n",
       "\\begin{tabular}{llllll}\n",
       " V1 & V2 & Pop & 1 & 2 & pval\\\\\n",
       " <chr> & <chr> & <chr> & <fct> & <fct> & <fct>\\\\\n",
       "\\hline\n",
       "\t Individuals    & n            & 41472                     & 29030                     & 12442                     & NA   \\\\\n",
       "\t lat            & Mean (SD)    & 7.5 (17.3)                & 7.5 (17.3)                & 7.5 (17.2)                & NA   \\\\\n",
       "\t lat            & Median (IQR) & 7.5 (-6.9-21.9)           & 7.5 (-6.2-23.7)           & 7.5 (-8.7-21.2)           & 0.92 \\\\\n",
       "\t long           & Mean (SD)    & -85.0 (17.3)              & -85.0 (17.3)              & -85.0 (17.4)              & NA   \\\\\n",
       "\t long           & Median (IQR) & -85.0 (-99.4--70.6)       & -83.7 (-98.8--71.2)       & -86.3 (-101.3--68.7)      & 0.933\\\\\n",
       "\t month          & Mean (SD)    & 6.5 (3.5)                 & 6.5 (3.5)                 & 6.5 (3.5)                 & NA   \\\\\n",
       "\t month          & Median (IQR) & 6.5 (3.8-9.2)             & 6.0 (4.0-9.0)             & 7.0 (3.0-10.0)            & 0.756\\\\\n",
       "\t year           & Mean (SD)    & 1,997.5 (1.7)             & 1,997.5 (1.7)             & 1,997.5 (1.7)             & NA   \\\\\n",
       "\t year           & Median (IQR) & 1,997.5 (1,996.0-1,999.0) & 1,998.0 (1,996.0-1,999.0) & 1,997.0 (1,996.0-1,999.0) & 0.243\\\\\n",
       "\t cloudhigh      & Mean (SD)    & 12.0 (12.4)               & 11.9 (12.3)               & 12.2 (12.5)               & NA   \\\\\n",
       "\t cloudhigh      & Median (IQR) & 8.5 (1.5-18.5)            & 8.0 (1.5-18.0)            & 8.5 (1.5-18.5)            & 0.02 \\\\\n",
       "\t cloudlow       & Mean (SD)    & 26.2 (14.8)               & 26.3 (14.8)               & 26.2 (14.8)               & NA   \\\\\n",
       "\t cloudlow       & Median (IQR) & 23.5 (15.0-34.5)          & 23.5 (15.0-34.5)          & 23.5 (15.0-34.5)          & 0.564\\\\\n",
       "\t cloudlow       & Missing (\\%)  & 110 (0.3\\%)                & 84 (0.3\\%)                 & 26 (0.2\\%)                 & NA   \\\\\n",
       "\t cloudmid       & Mean (SD)    & 15.3 (9.7)                & 15.3 (9.7)                & 15.3 (9.7)                & NA   \\\\\n",
       "\t cloudmid       & Median (IQR) & 14.0 (7.5-22.0)           & 14.0 (7.5-22.0)           & 14.5 (7.5-22.0)           & 0.541\\\\\n",
       "\t ozone          & Mean (SD)    & 267.2 (19.0)              & 267.2 (19.0)              & 267.1 (18.9)              & NA   \\\\\n",
       "\t ozone          & Median (IQR) & 264.0 (254.0-276.0)       & 264.0 (254.0-276.0)       & 264.0 (254.0-276.0)       & 0.638\\\\\n",
       "\t pressure       & Mean (SD)    & 985.4 (45.2)              & 985.5 (45.3)              & 985.4 (45.0)              & NA   \\\\\n",
       "\t pressure       & Median (IQR) & 1,000.0 (995.0-1,000.0)   & 1,000.0 (995.0-1,000.0)   & 1,000.0 (995.0-1,000.0)   & 0.924\\\\\n",
       "\t surftemp       & Mean (SD)    & 296.2 (4.7)               & 296.2 (4.7)               & 296.2 (4.7)               & NA   \\\\\n",
       "\t surftemp       & Median (IQR) & 296.9 (294.1-299.2)       & 296.9 (294.1-299.2)       & 296.9 (293.6-299.2)       & 0.973\\\\\n",
       "\t temperature    & Mean (SD)    & 297.9 (4.7)               & 297.9 (4.7)               & 297.9 (4.7)               & NA   \\\\\n",
       "\t temperature    & Median (IQR) & 299.2 (295.5-301.4)       & 299.2 (295.5-301.4)       & 299.2 (295.5-301.4)       & 0.811\\\\\n",
       "\t traintest\\_ind\\_ & Mean (SD)    & 1.3 (0.5)                 & NA                        & NA                        & NA   \\\\\n",
       "\t traintest\\_ind\\_ & Median (IQR) & 1.0 (1.0-2.0)             & NA                        & NA                        & 0    \\\\\n",
       "\\end{tabular}\n"
      ],
      "text/markdown": [
       "\n",
       "A tibble: 26 × 6\n",
       "\n",
       "| V1 &lt;chr&gt; | V2 &lt;chr&gt; | Pop &lt;chr&gt; | 1 &lt;fct&gt; | 2 &lt;fct&gt; | pval &lt;fct&gt; |\n",
       "|---|---|---|---|---|---|\n",
       "| Individuals    | n            | 41472                     | 29030                     | 12442                     | NA    |\n",
       "| lat            | Mean (SD)    | 7.5 (17.3)                | 7.5 (17.3)                | 7.5 (17.2)                | NA    |\n",
       "| lat            | Median (IQR) | 7.5 (-6.9-21.9)           | 7.5 (-6.2-23.7)           | 7.5 (-8.7-21.2)           | 0.92  |\n",
       "| long           | Mean (SD)    | -85.0 (17.3)              | -85.0 (17.3)              | -85.0 (17.4)              | NA    |\n",
       "| long           | Median (IQR) | -85.0 (-99.4--70.6)       | -83.7 (-98.8--71.2)       | -86.3 (-101.3--68.7)      | 0.933 |\n",
       "| month          | Mean (SD)    | 6.5 (3.5)                 | 6.5 (3.5)                 | 6.5 (3.5)                 | NA    |\n",
       "| month          | Median (IQR) | 6.5 (3.8-9.2)             | 6.0 (4.0-9.0)             | 7.0 (3.0-10.0)            | 0.756 |\n",
       "| year           | Mean (SD)    | 1,997.5 (1.7)             | 1,997.5 (1.7)             | 1,997.5 (1.7)             | NA    |\n",
       "| year           | Median (IQR) | 1,997.5 (1,996.0-1,999.0) | 1,998.0 (1,996.0-1,999.0) | 1,997.0 (1,996.0-1,999.0) | 0.243 |\n",
       "| cloudhigh      | Mean (SD)    | 12.0 (12.4)               | 11.9 (12.3)               | 12.2 (12.5)               | NA    |\n",
       "| cloudhigh      | Median (IQR) | 8.5 (1.5-18.5)            | 8.0 (1.5-18.0)            | 8.5 (1.5-18.5)            | 0.02  |\n",
       "| cloudlow       | Mean (SD)    | 26.2 (14.8)               | 26.3 (14.8)               | 26.2 (14.8)               | NA    |\n",
       "| cloudlow       | Median (IQR) | 23.5 (15.0-34.5)          | 23.5 (15.0-34.5)          | 23.5 (15.0-34.5)          | 0.564 |\n",
       "| cloudlow       | Missing (%)  | 110 (0.3%)                | 84 (0.3%)                 | 26 (0.2%)                 | NA    |\n",
       "| cloudmid       | Mean (SD)    | 15.3 (9.7)                | 15.3 (9.7)                | 15.3 (9.7)                | NA    |\n",
       "| cloudmid       | Median (IQR) | 14.0 (7.5-22.0)           | 14.0 (7.5-22.0)           | 14.5 (7.5-22.0)           | 0.541 |\n",
       "| ozone          | Mean (SD)    | 267.2 (19.0)              | 267.2 (19.0)              | 267.1 (18.9)              | NA    |\n",
       "| ozone          | Median (IQR) | 264.0 (254.0-276.0)       | 264.0 (254.0-276.0)       | 264.0 (254.0-276.0)       | 0.638 |\n",
       "| pressure       | Mean (SD)    | 985.4 (45.2)              | 985.5 (45.3)              | 985.4 (45.0)              | NA    |\n",
       "| pressure       | Median (IQR) | 1,000.0 (995.0-1,000.0)   | 1,000.0 (995.0-1,000.0)   | 1,000.0 (995.0-1,000.0)   | 0.924 |\n",
       "| surftemp       | Mean (SD)    | 296.2 (4.7)               | 296.2 (4.7)               | 296.2 (4.7)               | NA    |\n",
       "| surftemp       | Median (IQR) | 296.9 (294.1-299.2)       | 296.9 (294.1-299.2)       | 296.9 (293.6-299.2)       | 0.973 |\n",
       "| temperature    | Mean (SD)    | 297.9 (4.7)               | 297.9 (4.7)               | 297.9 (4.7)               | NA    |\n",
       "| temperature    | Median (IQR) | 299.2 (295.5-301.4)       | 299.2 (295.5-301.4)       | 299.2 (295.5-301.4)       | 0.811 |\n",
       "| traintest_ind_ | Mean (SD)    | 1.3 (0.5)                 | NA                        | NA                        | NA    |\n",
       "| traintest_ind_ | Median (IQR) | 1.0 (1.0-2.0)             | NA                        | NA                        | 0     |\n",
       "\n"
      ],
      "text/plain": [
       "   V1             V2           Pop                      \n",
       "1  Individuals    n            41472                    \n",
       "2  lat            Mean (SD)    7.5 (17.3)               \n",
       "3  lat            Median (IQR) 7.5 (-6.9-21.9)          \n",
       "4  long           Mean (SD)    -85.0 (17.3)             \n",
       "5  long           Median (IQR) -85.0 (-99.4--70.6)      \n",
       "6  month          Mean (SD)    6.5 (3.5)                \n",
       "7  month          Median (IQR) 6.5 (3.8-9.2)            \n",
       "8  year           Mean (SD)    1,997.5 (1.7)            \n",
       "9  year           Median (IQR) 1,997.5 (1,996.0-1,999.0)\n",
       "10 cloudhigh      Mean (SD)    12.0 (12.4)              \n",
       "11 cloudhigh      Median (IQR) 8.5 (1.5-18.5)           \n",
       "12 cloudlow       Mean (SD)    26.2 (14.8)              \n",
       "13 cloudlow       Median (IQR) 23.5 (15.0-34.5)         \n",
       "14 cloudlow       Missing (%)  110 (0.3%)               \n",
       "15 cloudmid       Mean (SD)    15.3 (9.7)               \n",
       "16 cloudmid       Median (IQR) 14.0 (7.5-22.0)          \n",
       "17 ozone          Mean (SD)    267.2 (19.0)             \n",
       "18 ozone          Median (IQR) 264.0 (254.0-276.0)      \n",
       "19 pressure       Mean (SD)    985.4 (45.2)             \n",
       "20 pressure       Median (IQR) 1,000.0 (995.0-1,000.0)  \n",
       "21 surftemp       Mean (SD)    296.2 (4.7)              \n",
       "22 surftemp       Median (IQR) 296.9 (294.1-299.2)      \n",
       "23 temperature    Mean (SD)    297.9 (4.7)              \n",
       "24 temperature    Median (IQR) 299.2 (295.5-301.4)      \n",
       "25 traintest_ind_ Mean (SD)    1.3 (0.5)                \n",
       "26 traintest_ind_ Median (IQR) 1.0 (1.0-2.0)            \n",
       "   1                         2                         pval \n",
       "1  29030                     12442                     NA   \n",
       "2  7.5 (17.3)                7.5 (17.2)                NA   \n",
       "3  7.5 (-6.2-23.7)           7.5 (-8.7-21.2)           0.92 \n",
       "4  -85.0 (17.3)              -85.0 (17.4)              NA   \n",
       "5  -83.7 (-98.8--71.2)       -86.3 (-101.3--68.7)      0.933\n",
       "6  6.5 (3.5)                 6.5 (3.5)                 NA   \n",
       "7  6.0 (4.0-9.0)             7.0 (3.0-10.0)            0.756\n",
       "8  1,997.5 (1.7)             1,997.5 (1.7)             NA   \n",
       "9  1,998.0 (1,996.0-1,999.0) 1,997.0 (1,996.0-1,999.0) 0.243\n",
       "10 11.9 (12.3)               12.2 (12.5)               NA   \n",
       "11 8.0 (1.5-18.0)            8.5 (1.5-18.5)            0.02 \n",
       "12 26.3 (14.8)               26.2 (14.8)               NA   \n",
       "13 23.5 (15.0-34.5)          23.5 (15.0-34.5)          0.564\n",
       "14 84 (0.3%)                 26 (0.2%)                 NA   \n",
       "15 15.3 (9.7)                15.3 (9.7)                NA   \n",
       "16 14.0 (7.5-22.0)           14.5 (7.5-22.0)           0.541\n",
       "17 267.2 (19.0)              267.1 (18.9)              NA   \n",
       "18 264.0 (254.0-276.0)       264.0 (254.0-276.0)       0.638\n",
       "19 985.5 (45.3)              985.4 (45.0)              NA   \n",
       "20 1,000.0 (995.0-1,000.0)   1,000.0 (995.0-1,000.0)   0.924\n",
       "21 296.2 (4.7)               296.2 (4.7)               NA   \n",
       "22 296.9 (294.1-299.2)       296.9 (293.6-299.2)       0.973\n",
       "23 297.9 (4.7)               297.9 (4.7)               NA   \n",
       "24 299.2 (295.5-301.4)       299.2 (295.5-301.4)       0.811\n",
       "25 NA                        NA                        NA   \n",
       "26 NA                        NA                        0    "
      ]
     },
     "metadata": {},
     "output_type": "display_data"
    }
   ],
   "source": [
    "train_test(data=df_2,train_name=\"train\",test_name=\"test\",prop=0.7,seed=5,tableone=TRUE)"
   ]
  },
  {
   "cell_type": "code",
   "execution_count": 8,
   "metadata": {
    "scrolled": true
   },
   "outputs": [
    {
     "name": "stdout",
     "output_type": "stream",
     "text": [
      "[[1]]\n",
      "       var na_count rate\n",
      "1 cloudlow      110  0.3\n",
      "\n",
      "[[2]]\n",
      "[1] \"This dataset has 41362 (99.7%) complete rows. Original data has 41472 rows.\"\n",
      "\n"
     ]
    },
    {
     "data": {
      "text/html": [
       "<dl>\n",
       "\t<dt>$missingness</dt>\n",
       "\t\t<dd><table>\n",
       "<caption>A data.frame: 1 × 3</caption>\n",
       "<thead>\n",
       "\t<tr><th scope=col>var</th><th scope=col>na_count</th><th scope=col>rate</th></tr>\n",
       "\t<tr><th scope=col>&lt;fct&gt;</th><th scope=col>&lt;dbl&gt;</th><th scope=col>&lt;dbl&gt;</th></tr>\n",
       "</thead>\n",
       "<tbody>\n",
       "\t<tr><td>cloudlow</td><td>110</td><td>0.3</td></tr>\n",
       "</tbody>\n",
       "</table>\n",
       "</dd>\n",
       "\t<dt>$message</dt>\n",
       "\t\t<dd>'This dataset has 41362 (99.7%) complete rows. Original data has 41472 rows.'</dd>\n",
       "\t<dt>$rows</dt>\n",
       "\t\t<dd>NULL</dd>\n",
       "</dl>\n"
      ],
      "text/latex": [
       "\\begin{description}\n",
       "\\item[\\$missingness] A data.frame: 1 × 3\n",
       "\\begin{tabular}{lll}\n",
       " var & na\\_count & rate\\\\\n",
       " <fct> & <dbl> & <dbl>\\\\\n",
       "\\hline\n",
       "\t cloudlow & 110 & 0.3\\\\\n",
       "\\end{tabular}\n",
       "\n",
       "\\item[\\$message] 'This dataset has 41362 (99.7\\%) complete rows. Original data has 41472 rows.'\n",
       "\\item[\\$rows] NULL\n",
       "\\end{description}\n"
      ],
      "text/markdown": [
       "$missingness\n",
       ":   \n",
       "A data.frame: 1 × 3\n",
       "\n",
       "| var &lt;fct&gt; | na_count &lt;dbl&gt; | rate &lt;dbl&gt; |\n",
       "|---|---|---|\n",
       "| cloudlow | 110 | 0.3 |\n",
       "\n",
       "\n",
       "$message\n",
       ":   'This dataset has 41362 (99.7%) complete rows. Original data has 41472 rows.'\n",
       "$rows\n",
       ":   NULL\n",
       "\n",
       "\n"
      ],
      "text/plain": [
       "$missingness\n",
       "       var na_count rate\n",
       "1 cloudlow      110  0.3\n",
       "\n",
       "$message\n",
       "[1] \"This dataset has 41362 (99.7%) complete rows. Original data has 41472 rows.\"\n",
       "\n",
       "$rows\n",
       "NULL\n"
      ]
     },
     "metadata": {},
     "output_type": "display_data"
    }
   ],
   "source": [
    "getMissingness(df_2)"
   ]
  },
  {
   "cell_type": "code",
   "execution_count": 9,
   "metadata": {},
   "outputs": [],
   "source": [
    "### The error we will use is the RMSE and RMSLE\n",
    "rmse <- function(y,y_hat) {\n",
    "    err <- sqrt(sum((y_hat-y)^2,na.rm=T)/length(y))\n",
    "    return(err)\n",
    "}\n",
    "\n",
    "rmsle <- function(y,y_hat) {\n",
    "    err <- sqrt(sum((log(y_hat+1)-log(y+1))^2,na.rm=T)/length(y))\n",
    "    return(err)\n",
    "}"
   ]
  },
  {
   "cell_type": "code",
   "execution_count": 10,
   "metadata": {},
   "outputs": [],
   "source": [
    "err_res_df_2 <- NULL"
   ]
  },
  {
   "cell_type": "code",
   "execution_count": 12,
   "metadata": {},
   "outputs": [
    {
     "data": {
      "text/plain": [
       "\n",
       "Call:\n",
       "lm(formula = temperature ~ ., data = train[, 1:11])\n",
       "\n",
       "Residuals:\n",
       "     Min       1Q   Median       3Q      Max \n",
       "-14.5414  -1.1222   0.0124   1.1644  16.2124 \n",
       "\n",
       "Coefficients:\n",
       "              Estimate Std. Error t value Pr(>|t|)    \n",
       "(Intercept) -4.250e+02  1.322e+01 -32.149  < 2e-16 ***\n",
       "lat         -3.642e-02  9.181e-04 -39.669  < 2e-16 ***\n",
       "long         3.360e-03  7.010e-04   4.793 1.65e-06 ***\n",
       "month        1.148e-01  3.253e-03  35.273  < 2e-16 ***\n",
       "year         2.484e-01  6.629e-03  37.473  < 2e-16 ***\n",
       "cloudhigh    2.858e-02  1.317e-03  21.704  < 2e-16 ***\n",
       "cloudlow    -8.402e-02  1.077e-03 -78.026  < 2e-16 ***\n",
       "cloudmid     6.319e-03  1.684e-03   3.753 0.000175 ***\n",
       "ozone       -2.617e-02  8.087e-04 -32.354  < 2e-16 ***\n",
       "pressure     3.378e-02  3.151e-04 107.206  < 2e-16 ***\n",
       "surftemp     6.822e-01  3.006e-03 226.936  < 2e-16 ***\n",
       "---\n",
       "Signif. codes:  0 '***' 0.001 '**' 0.01 '*' 0.05 '.' 0.1 ' ' 1\n",
       "\n",
       "Residual standard error: 1.893 on 28935 degrees of freedom\n",
       "  (84 observations deleted due to missingness)\n",
       "Multiple R-squared:  0.8329,\tAdjusted R-squared:  0.8329 \n",
       "F-statistic: 1.443e+04 on 10 and 28935 DF,  p-value: < 2.2e-16\n"
      ]
     },
     "metadata": {},
     "output_type": "display_data"
    }
   ],
   "source": [
    "## model with only the original variables\n",
    "mod1 <- lm(temperature ~., data=train[,1:11])\n",
    "summary(mod1)"
   ]
  },
  {
   "cell_type": "code",
   "execution_count": 13,
   "metadata": {},
   "outputs": [
    {
     "data": {
      "text/html": [
       "1.88718571275707"
      ],
      "text/latex": [
       "1.88718571275707"
      ],
      "text/markdown": [
       "1.88718571275707"
      ],
      "text/plain": [
       "[1] 1.887186"
      ]
     },
     "metadata": {},
     "output_type": "display_data"
    },
    {
     "data": {
      "text/html": [
       "0.00636722391465117"
      ],
      "text/latex": [
       "0.00636722391465117"
      ],
      "text/markdown": [
       "0.00636722391465117"
      ],
      "text/plain": [
       "[1] 0.006367224"
      ]
     },
     "metadata": {},
     "output_type": "display_data"
    },
    {
     "data": {
      "text/html": [
       "1.88955993369058"
      ],
      "text/latex": [
       "1.88955993369058"
      ],
      "text/markdown": [
       "1.88955993369058"
      ],
      "text/plain": [
       "[1] 1.88956"
      ]
     },
     "metadata": {},
     "output_type": "display_data"
    },
    {
     "data": {
      "text/html": [
       "0.00637304272700676"
      ],
      "text/latex": [
       "0.00637304272700676"
      ],
      "text/markdown": [
       "0.00637304272700676"
      ],
      "text/plain": [
       "[1] 0.006373043"
      ]
     },
     "metadata": {},
     "output_type": "display_data"
    }
   ],
   "source": [
    "pred1a <- predict(mod1,newdata=test)\n",
    "pred1b <- predict(mod1,newdata=train)\n",
    "\n",
    "rmse(test$temperature,pred1a)\n",
    "rmsle(test$temperature,pred1a)\n",
    "rmse(train$temperature,pred1b)\n",
    "rmsle(train$temperature,pred1b)\n",
    "err_res_df_2 <- rbind(err_res_df_2, data.frame(Name=\"Base Linear regression\", Model=\"mod1\", \n",
    "                                     RMSE=rmse(test$temperature,pred1a), \n",
    "                                     RMSLE=rmsle(test$temperature,pred1a),\n",
    "                                    RMSE=rmse(train$temperature,pred1b), \n",
    "                                     RMSLE=rmsle(train$temperature,pred1b)))"
   ]
  },
  {
   "cell_type": "code",
   "execution_count": 27,
   "metadata": {},
   "outputs": [
    {
     "data": {
      "text/plain": [
       "\n",
       "Call:\n",
       "lm(formula = temperature ~ ., data = train)\n",
       "\n",
       "Residuals:\n",
       "     Min       1Q   Median       3Q      Max \n",
       "-14.5414  -1.1222   0.0124   1.1644  16.2124 \n",
       "\n",
       "Coefficients:\n",
       "              Estimate Std. Error t value Pr(>|t|)    \n",
       "(Intercept) -4.250e+02  1.322e+01 -32.149  < 2e-16 ***\n",
       "lat         -3.642e-02  9.181e-04 -39.669  < 2e-16 ***\n",
       "long         3.360e-03  7.010e-04   4.793 1.65e-06 ***\n",
       "month        1.148e-01  3.253e-03  35.273  < 2e-16 ***\n",
       "year         2.484e-01  6.629e-03  37.473  < 2e-16 ***\n",
       "cloudhigh    2.858e-02  1.317e-03  21.704  < 2e-16 ***\n",
       "cloudlow    -8.402e-02  1.077e-03 -78.026  < 2e-16 ***\n",
       "cloudmid     6.319e-03  1.684e-03   3.753 0.000175 ***\n",
       "ozone       -2.617e-02  8.087e-04 -32.354  < 2e-16 ***\n",
       "pressure     3.378e-02  3.151e-04 107.206  < 2e-16 ***\n",
       "surftemp     6.822e-01  3.006e-03 226.936  < 2e-16 ***\n",
       "---\n",
       "Signif. codes:  0 ‘***’ 0.001 ‘**’ 0.01 ‘*’ 0.05 ‘.’ 0.1 ‘ ’ 1\n",
       "\n",
       "Residual standard error: 1.893 on 28935 degrees of freedom\n",
       "  (84 observations deleted due to missingness)\n",
       "Multiple R-squared:  0.8329,\tAdjusted R-squared:  0.8329 \n",
       "F-statistic: 1.443e+04 on 10 and 28935 DF,  p-value: < 2.2e-16\n"
      ]
     },
     "metadata": {},
     "output_type": "display_data"
    }
   ],
   "source": [
    "mod2 <- lm(temperature ~., data=train)\n",
    "summary(mod2)"
   ]
  },
  {
   "cell_type": "code",
   "execution_count": 28,
   "metadata": {},
   "outputs": [],
   "source": [
    "library(tree)\n",
    "library(rpart)"
   ]
  },
  {
   "cell_type": "code",
   "execution_count": 30,
   "metadata": {},
   "outputs": [
    {
     "data": {
      "text/plain": [
       "node), split, n, deviance, yval\n",
       "      * denotes terminal node\n",
       "\n",
       " 1) root 28946 620500 298.0  \n",
       "   2) surftemp < 293.4 6247 160600 292.3  \n",
       "     4) surftemp < 286.55 969  19500 284.5 *\n",
       "     5) surftemp > 286.55 5278  71540 293.7  \n",
       "      10) lat < 27.4652 4018  45850 294.6  \n",
       "        20) pressure < 817.5 201   3221 286.8 *\n",
       "        21) pressure > 817.5 3817  29710 295.0  \n",
       "          42) cloudhigh < 31.75 3304  19480 294.5 *\n",
       "          43) cloudhigh > 31.75 513   3535 298.4 *\n",
       "      11) lat > 27.4652 1260  12500 290.9 *\n",
       "   3) surftemp > 293.4 22699 201100 299.5  \n",
       "     6) surftemp < 297.6 10470  93940 298.0  \n",
       "      12) cloudlow < 18.75 3978  31390 300.1  \n",
       "        24) pressure < 947.5 315   5619 294.5 *\n",
       "        25) pressure > 947.5 3663  15170 300.6 *\n",
       "      13) cloudlow > 18.75 6492  34370 296.7  \n",
       "        26) lat < 24.9696 5196  19240 297.2 *\n",
       "        27) lat > 24.9696 1296   8526 294.7 *\n",
       "     7) surftemp > 297.6 12229  59790 300.9  \n",
       "      14) surftemp < 300.3 7235  32530 300.2 *\n",
       "      15) surftemp > 300.3 4994  18490 301.9 *"
      ]
     },
     "metadata": {},
     "output_type": "display_data"
    }
   ],
   "source": [
    "mod3 <- tree(temperature  ~., data=train)\n",
    "mod3"
   ]
  },
  {
   "cell_type": "code",
   "execution_count": 35,
   "metadata": {},
   "outputs": [
    {
     "data": {
      "text/html": [
       "2.36089223860961"
      ],
      "text/latex": [
       "2.36089223860961"
      ],
      "text/markdown": [
       "2.36089223860961"
      ],
      "text/plain": [
       "[1] 2.360892"
      ]
     },
     "metadata": {},
     "output_type": "display_data"
    },
    {
     "data": {
      "text/html": [
       "0.00798603906055428"
      ],
      "text/latex": [
       "0.00798603906055428"
      ],
      "text/markdown": [
       "0.00798603906055428"
      ],
      "text/plain": [
       "[1] 0.007986039"
      ]
     },
     "metadata": {},
     "output_type": "display_data"
    },
    {
     "data": {
      "text/html": [
       "2.36674709473332"
      ],
      "text/latex": [
       "2.36674709473332"
      ],
      "text/markdown": [
       "2.36674709473332"
      ],
      "text/plain": [
       "[1] 2.366747"
      ]
     },
     "metadata": {},
     "output_type": "display_data"
    },
    {
     "data": {
      "text/html": [
       "0.00800634016213519"
      ],
      "text/latex": [
       "0.00800634016213519"
      ],
      "text/markdown": [
       "0.00800634016213519"
      ],
      "text/plain": [
       "[1] 0.00800634"
      ]
     },
     "metadata": {},
     "output_type": "display_data"
    }
   ],
   "source": [
    "pred3a <- predict(mod3,newdata=test)\n",
    "pred3b <- predict(mod3,newdata=train)\n",
    "\n",
    "rmse(test$temperature,pred3a)\n",
    "rmsle(test$temperature,pred3a)\n",
    "rmse(train$temperature,pred3b)\n",
    "rmsle(train$temperature,pred3b)\n",
    "err_res_df_2 <- rbind(err_res_df_2, data.frame(Name=\"Decision Trees-tree\", Model=\"mod3\", \n",
    "                                     RMSE=rmse(test$temperature,pred3a), \n",
    "                                     RMSLE=rmsle(test$temperature,pred3a),\n",
    "                                    RMSE=rmse(train$temperature,pred3b), \n",
    "                                     RMSLE=rmsle(train$temperature,pred3b)))"
   ]
  },
  {
   "cell_type": "code",
   "execution_count": 37,
   "metadata": {},
   "outputs": [
    {
     "data": {
      "text/plain": [
       "n= 29030 \n",
       "\n",
       "node), split, n, deviance, yval\n",
       "      * denotes terminal node\n",
       "\n",
       " 1) root 29030 650818.200 297.9175  \n",
       "   2) surftemp< 292.95 5531 155395.600 291.5812  \n",
       "     4) surftemp< 286.55 1011  21701.600 284.2221 *\n",
       "     5) surftemp>=286.55 4520  66694.680 293.2272  \n",
       "      10) pressure< 827.5 293   6868.379 286.2014 *\n",
       "      11) pressure>=827.5 4227  44360.440 293.7142  \n",
       "        22) lat>=27.46522 1077   8939.560 290.7445 *\n",
       "        23) lat< 27.46522 3150  22674.650 294.7296 *\n",
       "   3) surftemp>=292.95 23499 221093.900 299.4089  \n",
       "     6) surftemp< 297.6 11270 106408.100 297.8167  \n",
       "      12) cloudlow>=18.75 6999  39608.210 296.5372  \n",
       "        24) lat>=24.96957 1422   9931.544 294.4610 *\n",
       "        25) lat< 24.96957 5577  21983.700 297.0666 *\n",
       "      13) cloudlow< 18.75 4271  36563.640 299.9135  \n",
       "        26) pressure< 947.5 376   6917.778 294.3306 *\n",
       "        27) pressure>=947.5 3895  16794.850 300.4525 *\n",
       "     7) surftemp>=297.6 12229  59790.400 300.8761  \n",
       "      14) surftemp< 300.3 7235  32530.130 300.1727 *\n",
       "      15) surftemp>=300.3 4994  18492.990 301.8953 *"
      ]
     },
     "metadata": {},
     "output_type": "display_data"
    }
   ],
   "source": [
    "mod4 <- rpart(temperature ~., data=train)\n",
    "mod4"
   ]
  },
  {
   "cell_type": "code",
   "execution_count": 38,
   "metadata": {},
   "outputs": [
    {
     "data": {
      "text/html": [
       "2.38927528506634"
      ],
      "text/latex": [
       "2.38927528506634"
      ],
      "text/markdown": [
       "2.38927528506634"
      ],
      "text/plain": [
       "[1] 2.389275"
      ]
     },
     "metadata": {},
     "output_type": "display_data"
    },
    {
     "data": {
      "text/html": [
       "0.00807812738922491"
      ],
      "text/latex": [
       "0.00807812738922491"
      ],
      "text/markdown": [
       "0.00807812738922491"
      ],
      "text/plain": [
       "[1] 0.008078127"
      ]
     },
     "metadata": {},
     "output_type": "display_data"
    },
    {
     "data": {
      "text/html": [
       "2.39728847722755"
      ],
      "text/latex": [
       "2.39728847722755"
      ],
      "text/markdown": [
       "2.39728847722755"
      ],
      "text/plain": [
       "[1] 2.397288"
      ]
     },
     "metadata": {},
     "output_type": "display_data"
    },
    {
     "data": {
      "text/html": [
       "0.00810586226173888"
      ],
      "text/latex": [
       "0.00810586226173888"
      ],
      "text/markdown": [
       "0.00810586226173888"
      ],
      "text/plain": [
       "[1] 0.008105862"
      ]
     },
     "metadata": {},
     "output_type": "display_data"
    }
   ],
   "source": [
    "pred4a <- predict(mod4,newdata=test)\n",
    "pred4b <- predict(mod4,newdata=train)\n",
    "\n",
    "rmse(test$temperature,pred4a)\n",
    "rmsle(test$temperature,pred4a)\n",
    "rmse(train$temperature,pred4b)\n",
    "rmsle(train$temperature,pred4b)\n",
    "err_res_df_2 <- rbind(err_res_df_2, data.frame(Name=\"Decision Trees-rpart\", Model=\"mod4\", \n",
    "                                     RMSE=rmse(test$temperature,pred4a), \n",
    "                                     RMSLE=rmsle(test$temperature,pred4a),\n",
    "                                    RMSE=rmse(train$temperature,pred4b), \n",
    "                                     RMSLE=rmsle(train$temperature,pred4b)))"
   ]
  },
  {
   "cell_type": "code",
   "execution_count": 14,
   "metadata": {},
   "outputs": [
    {
     "name": "stderr",
     "output_type": "stream",
     "text": [
      "randomForest 4.6-14\n",
      "Type rfNews() to see new features/changes/bug fixes.\n",
      "\n",
      "Attaching package: 'randomForest'\n",
      "\n",
      "The following object is masked from 'package:ggplot2':\n",
      "\n",
      "    margin\n",
      "\n",
      "The following object is masked from 'package:dplyr':\n",
      "\n",
      "    combine\n",
      "\n",
      "\n",
      "Attaching package: 'ranger'\n",
      "\n",
      "The following object is masked from 'package:randomForest':\n",
      "\n",
      "    importance\n",
      "\n"
     ]
    }
   ],
   "source": [
    "library(randomForest)\n",
    "library(ranger)"
   ]
  },
  {
   "cell_type": "code",
   "execution_count": 16,
   "metadata": {},
   "outputs": [
    {
     "data": {
      "text/html": [
       "<ol class=list-inline>\n",
       "\t<li>'lat'</li>\n",
       "\t<li>'long'</li>\n",
       "\t<li>'month'</li>\n",
       "\t<li>'year'</li>\n",
       "\t<li>'cloudhigh'</li>\n",
       "\t<li>'cloudmid'</li>\n",
       "\t<li>'ozone'</li>\n",
       "\t<li>'pressure'</li>\n",
       "\t<li>'surftemp'</li>\n",
       "\t<li>'temperature'</li>\n",
       "</ol>\n"
      ],
      "text/latex": [
       "\\begin{enumerate*}\n",
       "\\item 'lat'\n",
       "\\item 'long'\n",
       "\\item 'month'\n",
       "\\item 'year'\n",
       "\\item 'cloudhigh'\n",
       "\\item 'cloudmid'\n",
       "\\item 'ozone'\n",
       "\\item 'pressure'\n",
       "\\item 'surftemp'\n",
       "\\item 'temperature'\n",
       "\\end{enumerate*}\n"
      ],
      "text/markdown": [
       "1. 'lat'\n",
       "2. 'long'\n",
       "3. 'month'\n",
       "4. 'year'\n",
       "5. 'cloudhigh'\n",
       "6. 'cloudmid'\n",
       "7. 'ozone'\n",
       "8. 'pressure'\n",
       "9. 'surftemp'\n",
       "10. 'temperature'\n",
       "\n",
       "\n"
      ],
      "text/plain": [
       " [1] \"lat\"         \"long\"        \"month\"       \"year\"        \"cloudhigh\"  \n",
       " [6] \"cloudmid\"    \"ozone\"       \"pressure\"    \"surftemp\"    \"temperature\""
      ]
     },
     "metadata": {},
     "output_type": "display_data"
    }
   ],
   "source": [
    "    nm<-setdiff(names(nasa2),\"cloudlow\")\n",
    "nm"
   ]
  },
  {
   "cell_type": "code",
   "execution_count": 15,
   "metadata": {},
   "outputs": [
    {
     "ename": "ERROR",
     "evalue": "Error in check_names_df(i, x): object 'nm' not found\n",
     "output_type": "error",
     "traceback": [
      "Error in check_names_df(i, x): object 'nm' not found\nTraceback:\n",
      "1. ranger(temperature ~ ., data = train[nm])",
      "2. \"gwaa.data\" %in% class(data)",
      "3. train[nm]",
      "4. `[.tbl_df`(train, nm)",
      "5. check_names_df(i, x)"
     ]
    }
   ],
   "source": [
    "mod6 <- ranger(temperature ~., data=train[nm])\n",
    "mod6"
   ]
  }
 ],
 "metadata": {
  "kernelspec": {
   "display_name": "R",
   "language": "R",
   "name": "ir"
  },
  "language_info": {
   "codemirror_mode": "r",
   "file_extension": ".r",
   "mimetype": "text/x-r-source",
   "name": "R",
   "pygments_lexer": "r",
   "version": "3.6.1"
  }
 },
 "nbformat": 4,
 "nbformat_minor": 2
}
