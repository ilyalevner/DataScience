{
 "cells": [
  {
   "cell_type": "markdown",
   "metadata": {},
   "source": [
    "# MNIST Handwritten Digit Recognition using Neural Network with Keras\n",
    " \n",
    "\n",
    "  \n",
    "<img src=\"https://cdn-images-1.medium.com/max/1600/0*At0wJRULTXvyA3EK.png\" height='300' width='400' />"
   ]
  },
  {
   "cell_type": "code",
   "execution_count": 2,
   "metadata": {},
   "outputs": [],
   "source": [
    "# imports for array-handling and plotting\n",
    "%matplotlib inline\n",
    "\n",
    "import numpy as np\n",
    "import matplotlib\n",
    "#matplotlib.use('agg')\n",
    "import matplotlib.pyplot as plt\n",
    "import keras \n",
    "\n",
    "# fix random seed for reproducibility\n",
    "np.random.seed(6)"
   ]
  },
  {
   "cell_type": "markdown",
   "metadata": {},
   "source": [
    "For this example we will use the MNIST hand written digist dataset. "
   ]
  },
  {
   "cell_type": "code",
   "execution_count": 6,
   "metadata": {},
   "outputs": [],
   "source": [
    "# keras imports for the dataset and building our neural network\n",
    "from keras.datasets import mnist\n",
    "from keras.utils import np_utils\n",
    "\n",
    "## loads the dataset and divide into train and test\n",
    "(X_train, y_train), (X_test, y_test) = mnist.load_data()"
   ]
  },
  {
   "cell_type": "code",
   "execution_count": 7,
   "metadata": {},
   "outputs": [
    {
     "name": "stdout",
     "output_type": "stream",
     "text": [
      "(60000, 28, 28)\n",
      "(60000,)\n",
      "(10000, 28, 28)\n",
      "(10000,)\n"
     ]
    }
   ],
   "source": [
    "print(X_train.shape)\n",
    "print(y_train.shape)\n",
    "\n",
    "print(X_test.shape)\n",
    "print(y_test.shape)\n"
   ]
  },
  {
   "cell_type": "code",
   "execution_count": 8,
   "metadata": {},
   "outputs": [
    {
     "data": {
      "text/plain": [
       "array([5, 0, 4, 1, 9, 2, 1, 3, 1], dtype=uint8)"
      ]
     },
     "execution_count": 8,
     "metadata": {},
     "output_type": "execute_result"
    }
   ],
   "source": [
    "y_train[0:9]"
   ]
  },
  {
   "cell_type": "code",
   "execution_count": 9,
   "metadata": {},
   "outputs": [
    {
     "data": {
      "text/plain": [
       "(array([0, 1, 2, 3, 4, 5, 6, 7, 8, 9], dtype=uint8),\n",
       " array([5923, 6742, 5958, 6131, 5842, 5421, 5918, 6265, 5851, 5949]))"
      ]
     },
     "execution_count": 9,
     "metadata": {},
     "output_type": "execute_result"
    }
   ],
   "source": [
    "## How many classes and their counts\n",
    "yn = np.unique(y_train, return_counts=True)\n",
    "yn"
   ]
  },
  {
   "cell_type": "code",
   "execution_count": 10,
   "metadata": {},
   "outputs": [
    {
     "data": {
      "text/plain": [
       "<BarContainer object of 10 artists>"
      ]
     },
     "execution_count": 10,
     "metadata": {},
     "output_type": "execute_result"
    },
    {
     "data": {
      "image/png": "[encoded data removed]",
      "text/plain": [
       "<Figure size 432x288 with 1 Axes>"
      ]
     },
     "metadata": {
      "needs_background": "light"
     },
     "output_type": "display_data"
    }
   ],
   "source": [
    "## plot the frequency of y's\n",
    "plt.bar(yn[0],yn[1])\n"
   ]
  },
  {
   "cell_type": "markdown",
   "metadata": {},
   "source": [
    "We now check the first nine data rows (pictures) and check their labels:"
   ]
  },
  {
   "cell_type": "code",
   "execution_count": 11,
   "metadata": {},
   "outputs": [
    {
     "data": {
      "image/png": "[encoded data removed]",
      "text/plain": [
       "<Figure size 432x288 with 9 Axes>"
      ]
     },
     "metadata": {},
     "output_type": "display_data"
    }
   ],
   "source": [
    "fig = plt.figure()\n",
    "for i in range(9):\n",
    "  plt.subplot(3,3,i+1)\n",
    "  plt.tight_layout()\n",
    "  plt.imshow(X_train[i], cmap='gray', interpolation='none')\n",
    "  plt.title(\"Digit: {}\".format(y_train[i]))\n",
    "  plt.xticks([])\n",
    "  plt.yticks([])\n"
   ]
  },
  {
   "cell_type": "code",
   "execution_count": 12,
   "metadata": {},
   "outputs": [],
   "source": [
    "## reshape the dataset\n",
    "\n",
    "# building the input vector from the 28x28 pixels\n",
    "X_train = X_train.reshape(60000, 784)\n",
    "X_test = X_test.reshape(10000, 784)\n",
    "X_train = X_train.astype('float32')\n",
    "X_test = X_test.astype('float32')"
   ]
  },
  {
   "cell_type": "code",
   "execution_count": 13,
   "metadata": {},
   "outputs": [],
   "source": [
    "# normalizing the data to help with the training\n",
    "X_train /= 255\n",
    "X_test /= 255"
   ]
  },
  {
   "cell_type": "code",
   "execution_count": 15,
   "metadata": {},
   "outputs": [
    {
     "name": "stdout",
     "output_type": "stream",
     "text": [
      "(60000, 784)\n",
      "(10000, 784)\n"
     ]
    }
   ],
   "source": [
    "# print the final input shape ready for training\n",
    "print(X_train.shape)\n",
    "print(X_test.shape)"
   ]
  },
  {
   "cell_type": "markdown",
   "metadata": {},
   "source": [
    "Before procedding with the NN, we have to make a final transformation to the data: we have to change the format of the labels (y). For this we have to create an array of 10 positions for each y. Each position will indicate with a one if the y is the relevant category or zero if not:\n",
    "\n",
    "<code>\n",
    "y     ---->    Transformation\n",
    "              0 1 2 3 4 5 6 7 8 9\n",
    "0            [1,0,0,0,0,0,0,0,0,0]\n",
    "1            [0,1,0,0,0,0,0,0,0,0]\n",
    "    ...\n",
    "8            [0,0,0,0,0,0,0,0,1,0]\n",
    "9            [0,0,0,0,0,0,0,0,0,1]\n",
    "</code>\n",
    "\n",
    "This type of transformation is called one-hot encoding."
   ]
  },
  {
   "cell_type": "code",
   "execution_count": 17,
   "metadata": {},
   "outputs": [
    {
     "name": "stdout",
     "output_type": "stream",
     "text": [
      "Shape before one-hot encoding:  (60000,)\n",
      "Shape after one-hot encoding (train):  (60000, 10)\n",
      "Shape after one-hot encoding (test):  (10000, 10)\n"
     ]
    }
   ],
   "source": [
    "# one-hot encoding using keras' numpy-related utilities\n",
    "n_classes = 10\n",
    "print(\"Shape before one-hot encoding: \", y_train.shape)\n",
    "Y_train = np_utils.to_categorical(y_train, n_classes)\n",
    "Y_test = np_utils.to_categorical(y_test, n_classes)\n",
    "print(\"Shape after one-hot encoding (train): \", Y_train.shape)\n",
    "print(\"Shape after one-hot encoding (test): \", Y_test.shape)\n"
   ]
  },
  {
   "cell_type": "markdown",
   "metadata": {},
   "source": [
    "## Defining the Neural Network Architecture\n",
    " \n",
    "First we have to import in keras the \"Sequential\" fucntion. This is the most common NN type, that means we are going to define our NN one layer a time.\n",
    " \n",
    "Then we initialize the NN by defining our model object and will add to it the layers as we defined in our network architecture plan.\n",
    " \n",
    "The layers that we will use are fully conected layers, which means that we want that all the input data from the previous layer will be connedted with all the nodes of this layer. In keras we call this layer type \"Dense\".\n",
    "\n",
    "When defining the layer we have to provide some parameters: input_dim is the dimmention of the input (in our case we have 10 inputs (variables) that enter our hidden layer. \n",
    " \n",
    "Another parameter is the activation function. We can define this function inside the layer definition, or separately (see alternatives 1 and 2)."
   ]
  },
  {
   "cell_type": "code",
   "execution_count": 18,
   "metadata": {},
   "outputs": [],
   "source": [
    "from keras.models import Sequential, load_model\n",
    "from keras.layers.core import Dense, Dropout, Activation\n",
    "#from keras.utils import np_utils"
   ]
  },
  {
   "cell_type": "code",
   "execution_count": 61,
   "metadata": {},
   "outputs": [],
   "source": [
    "# building a linear stack of layers with the sequential model\n",
    "model = Sequential()\n",
    "model.add(Dense(512, input_shape=(784,)))\n",
    "model.add(Activation('relu'))                            \n",
    "model.add(Dropout(0.2)) # random dellite 35% of each node\n",
    "\n",
    "model.add(Dense(512))\n",
    "model.add(Activation('relu'))\n",
    "model.add(Dropout(0.20))\n",
    "\n",
    "model.add(Dense(512))\n",
    "model.add(Activation('relu'))\n",
    "model.add(Dropout(0.20))\n",
    "\n",
    "model.add(Dense(512))\n",
    "model.add(Activation('relu'))\n",
    "model.add(Dropout(0.20))\n",
    "\n",
    "model.add(Dense(10))\n",
    "model.add(Activation('softmax')) # for misclasification use\" softmax\", for binary use \"tanh\""
   ]
  },
  {
   "cell_type": "markdown",
   "metadata": {},
   "source": [
    "## Training the model\n",
    " \n",
    "To run our NN we have first to \"compile\" our model. The compilation require us to define some important parameters:\n",
    " \n",
    "1. Define the <b>loss function</b>: this is the measure of the error. There are many types of loss functions that could be applied in NN's:\n",
    " - mean_squared_error\n",
    " - mean_absolute_error\n",
    " - mean_absolute_percentage_error\n",
    " - mean_squared_logarithmic_error\n",
    " - squared_hinge\n",
    " - hinge\n",
    " - categorical_hinge\n",
    " - logcosh\n",
    " - categorical_crossentropy\n",
    " - sparse_categorical_crossentropy\n",
    " - binary_crossentropy\n",
    " - kullback_leibler_divergence\n",
    " - poisson\n",
    " - cosine_proximity\n",
    " \n",
    " \n",
    "2. Define the <b>optimizer</b>: this is the method we want to apply for the gradient descent. Some popular methods are:\n",
    " - Stochastic gradient descent (SGD)\n",
    " - Adaptive moment estimator (Adam)\n",
    " - batch gradient descent\n",
    " - mini-batch gradient descent \n",
    " - Nesterov accelerated gradient (NAG)\n",
    " - Adagrad\n",
    " - AdaDelta\n",
    " - RMSprop\n",
    "\n",
    " \n",
    "3. Define the <b>metrics</b>: Metric values are recorded at the end of each epoch on the training dataset. The most common metrics are:\n",
    " + For regression output:\n",
    "    - Mean Squared Error (MSE)\n",
    "    - Mean Absolute Error (MAE)\n",
    "    - Mean Absolute Percentage Error (MAPE)\n",
    "    - Cosine Proximity \n",
    " \n",
    " + For classification output:\n",
    "    - Binary Accuracy\n",
    "    - Categorical Accuracy\n",
    "    - Sparse Categorical Accuracy\n",
    "    - Top k Categorical Accuracy\n",
    "    - Sparse Top k Categorical Accuracy\n",
    "\n"
   ]
  },
  {
   "cell_type": "code",
   "execution_count": 62,
   "metadata": {},
   "outputs": [],
   "source": [
    "# compiling the sequential model\n",
    "model.compile(loss='categorical_crossentropy', metrics=['accuracy'], optimizer='adam')"
   ]
  },
  {
   "cell_type": "markdown",
   "metadata": {},
   "source": [
    "After compilation, the model could be trained. We use the fit function to begin the training. "
   ]
  },
  {
   "cell_type": "code",
   "execution_count": 63,
   "metadata": {},
   "outputs": [
    {
     "name": "stdout",
     "output_type": "stream",
     "text": [
      "Train on 60000 samples, validate on 10000 samples\n",
      "Epoch 1/20\n",
      " - 11s - loss: 0.2745 - acc: 0.9147 - val_loss: 0.1067 - val_acc: 0.9664\n",
      "Epoch 2/20\n",
      " - 10s - loss: 0.1204 - acc: 0.9639 - val_loss: 0.1111 - val_acc: 0.9673\n",
      "Epoch 3/20\n",
      " - 11s - loss: 0.0884 - acc: 0.9733 - val_loss: 0.0871 - val_acc: 0.9729\n",
      "Epoch 4/20\n",
      " - 11s - loss: 0.0733 - acc: 0.9782 - val_loss: 0.0714 - val_acc: 0.9802\n",
      "Epoch 5/20\n",
      " - 11s - loss: 0.0628 - acc: 0.9812 - val_loss: 0.0720 - val_acc: 0.9777\n",
      "Epoch 6/20\n",
      " - 11s - loss: 0.0552 - acc: 0.9828 - val_loss: 0.0793 - val_acc: 0.9780\n",
      "Epoch 7/20\n",
      " - 11s - loss: 0.0516 - acc: 0.9838 - val_loss: 0.0697 - val_acc: 0.9818\n",
      "Epoch 8/20\n",
      " - 11s - loss: 0.0428 - acc: 0.9862 - val_loss: 0.0773 - val_acc: 0.9804\n",
      "Epoch 9/20\n",
      " - 11s - loss: 0.0409 - acc: 0.9874 - val_loss: 0.0805 - val_acc: 0.9803\n",
      "Epoch 10/20\n",
      " - 9s - loss: 0.0367 - acc: 0.9887 - val_loss: 0.0701 - val_acc: 0.9831\n",
      "Epoch 11/20\n",
      " - 9s - loss: 0.0352 - acc: 0.9893 - val_loss: 0.0643 - val_acc: 0.9841\n",
      "Epoch 12/20\n",
      " - 8s - loss: 0.0328 - acc: 0.9900 - val_loss: 0.0766 - val_acc: 0.9810\n",
      "Epoch 13/20\n",
      " - 7s - loss: 0.0342 - acc: 0.9896 - val_loss: 0.0680 - val_acc: 0.9829\n",
      "Epoch 14/20\n",
      " - 8s - loss: 0.0292 - acc: 0.9909 - val_loss: 0.0777 - val_acc: 0.9817\n",
      "Epoch 15/20\n",
      " - 7s - loss: 0.0281 - acc: 0.9915 - val_loss: 0.0795 - val_acc: 0.9813\n",
      "Epoch 16/20\n",
      " - 7s - loss: 0.0289 - acc: 0.9914 - val_loss: 0.0755 - val_acc: 0.9817\n",
      "Epoch 17/20\n",
      " - 7s - loss: 0.0267 - acc: 0.9923 - val_loss: 0.0770 - val_acc: 0.9808\n",
      "Epoch 18/20\n",
      " - 8s - loss: 0.0238 - acc: 0.9929 - val_loss: 0.1000 - val_acc: 0.9800\n",
      "Epoch 19/20\n",
      " - 11s - loss: 0.0277 - acc: 0.9916 - val_loss: 0.0804 - val_acc: 0.9832\n",
      "Epoch 20/20\n",
      " - 12s - loss: 0.0209 - acc: 0.9934 - val_loss: 0.0837 - val_acc: 0.9834\n"
     ]
    }
   ],
   "source": [
    "# Fit the model\n",
    "res = model.fit(X_train, \n",
    "          Y_train,\n",
    "          batch_size=128, #bachsize\n",
    "          epochs=20,#interation\n",
    "          verbose=2,#errorr printibg way\n",
    "          validation_data=(X_test, Y_test))\n"
   ]
  },
  {
   "cell_type": "code",
   "execution_count": 68,
   "metadata": {},
   "outputs": [
    {
     "data": {
      "text/plain": [
       "<matplotlib.legend.Legend at 0x7f99b83274e0>"
      ]
     },
     "execution_count": 68,
     "metadata": {},
     "output_type": "execute_result"
    },
    {
     "data": {
      "image/png": "[encoded data removed]",
      "text/plain": [
       "<Figure size 432x288 with 1 Axes>"
      ]
     },
     "metadata": {
      "needs_background": "light"
     },
     "output_type": "display_data"
    }
   ],
   "source": [
    "# plotting the metrics: Accuracy\n",
    "plt.plot(res.history['acc'])\n",
    "plt.plot(res.history['val_acc'])\n",
    "plt.title('model accuracy')\n",
    "plt.ylabel('accuracy')\n",
    "plt.xlabel('epoch')\n",
    "plt.legend(['train', 'test'], loc='lower right')"
   ]
  },
  {
   "cell_type": "code",
   "execution_count": 69,
   "metadata": {},
   "outputs": [
    {
     "data": {
      "text/plain": [
       "<matplotlib.legend.Legend at 0x7f99b829ce10>"
      ]
     },
     "execution_count": 69,
     "metadata": {},
     "output_type": "execute_result"
    },
    {
     "data": {
      "image/png": "[encoded data removed]",
      "text/plain": [
       "<Figure size 432x288 with 1 Axes>"
      ]
     },
     "metadata": {
      "needs_background": "light"
     },
     "output_type": "display_data"
    }
   ],
   "source": [
    "# plotting the metrics: loss\n",
    "plt.plot(res.history['loss'])\n",
    "plt.plot(res.history['val_loss'])\n",
    "plt.title('model loss')\n",
    "plt.ylabel('loss')\n",
    "plt.xlabel('epoch')\n",
    "plt.legend(['train', 'test'], loc='upper right')\n"
   ]
  },
  {
   "cell_type": "code",
   "execution_count": null,
   "metadata": {},
   "outputs": [],
   "source": []
  },
  {
   "cell_type": "markdown",
   "metadata": {},
   "source": [
    "## Predicting using the model\n",
    "\n",
    "We can then use the predict function to run the trained model on a new (test) dataset:"
   ]
  },
  {
   "cell_type": "code",
   "execution_count": 70,
   "metadata": {},
   "outputs": [],
   "source": [
    "# calculate predictions\n",
    "predict_classes = model.predict_classes(X_test)\n",
    "# round predictions\n",
    "#rounded = [round(x[0]) for x in predictions]\n",
    "#print(rounded)"
   ]
  },
  {
   "cell_type": "code",
   "execution_count": 71,
   "metadata": {},
   "outputs": [
    {
     "name": "stdout",
     "output_type": "stream",
     "text": [
      "\n",
      "9834  classified correctly\n",
      "166  classified incorrectly\n"
     ]
    }
   ],
   "source": [
    "# see which we predicted correctly and which not\n",
    "correct_indices = np.nonzero(predict_classes == y_test)[0]\n",
    "incorrect_indices = np.nonzero(predict_classes != y_test)[0]\n",
    "print()\n",
    "print(len(correct_indices),\" classified correctly\")\n",
    "print(len(incorrect_indices),\" classified incorrectly\")\n"
   ]
  },
  {
   "cell_type": "code",
   "execution_count": 72,
   "metadata": {},
   "outputs": [
    {
     "data": {
      "image/png": "[encoded data removed]",
      "text/plain": [
       "<Figure size 432x288 with 9 Axes>"
      ]
     },
     "metadata": {},
     "output_type": "display_data"
    }
   ],
   "source": [
    "# plot 9 correct predictions\n",
    "#fig = plt.figure()\n",
    "for i, correct in enumerate(correct_indices[:9]):\n",
    "    plt.subplot(3,3,i+1)\n",
    "    plt.tight_layout()\n",
    "    plt.imshow(X_test[correct].reshape(28,28), cmap='gray', interpolation='none')\n",
    "    plt.title(\n",
    "      \"Pred: {}, Truth: {}\".format(predict_classes[correct],\n",
    "                                        y_test[correct]))\n",
    "    plt.xticks([])\n",
    "    plt.yticks([])\n"
   ]
  },
  {
   "cell_type": "code",
   "execution_count": 38,
   "metadata": {},
   "outputs": [
    {
     "data": {
      "image/png": "[encoded data removed]",
      "text/plain": [
       "<Figure size 432x288 with 9 Axes>"
      ]
     },
     "metadata": {},
     "output_type": "display_data"
    }
   ],
   "source": [
    "# plot 9 incorrect predictions\n",
    "fig = plt.figure()\n",
    "for i, incorrect in enumerate(incorrect_indices[:9]):\n",
    "    plt.subplot(3,3,i+1)\n",
    "    plt.tight_layout()\n",
    "    plt.imshow(X_test[incorrect].reshape(28,28), cmap='gray', interpolation='none')\n",
    "    plt.title(\"Pred {}, Truth: {}\".format(predict_classes[incorrect], y_test[incorrect]))\n",
    "    plt.xticks([])\n",
    "    plt.yticks([])"
   ]
  }
 ],
 "metadata": {
  "kernelspec": {
   "display_name": "Python 3",
   "language": "python",
   "name": "python3"
  },
  "language_info": {
   "codemirror_mode": {
    "name": "ipython",
    "version": 3
   },
   "file_extension": ".py",
   "mimetype": "text/x-python",
   "name": "python",
   "nbconvert_exporter": "python",
   "pygments_lexer": "ipython3",
   "version": "3.6.8"
  }
 },
 "nbformat": 4,
 "nbformat_minor": 2
}
