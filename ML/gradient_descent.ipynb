{
 "cells": [
  {
   "cell_type": "markdown",
   "metadata": {},
   "source": [
    "# Gradient Descent\n",
    "\n",
    "<img src=\"https://i2.wp.com/lh6.ggpht.com/-5RFMcz2bzWI/VA9NuUkB_vI/AAAAAAAAAdM/_DqqYO0nbX4/im2_thumb%25255B1%25255D.png\"></img>\n",
    "\n",
    "Gradient descent is the most important algorithm in machine learning (ML). It is used in almost all the ML models and is what differentiate traditional statistics from ML. By optimizing the parameters of the gradient descent we optimize the predictive model.\n",
    " \n",
    "To understand gradient descent, we need to define some important concepts.\n",
    " \n",
    "## Loss function\n",
    "\n",
    "The loss function, also known as the cost function, is the measure we will use to calibrate the model. There are many types of loss functions. The selection of the loss function depends on the algorithm we want to run, and the question we want to answer (how we want to model the Y).\n",
    " \n",
    "One of the most commonly used loss function is the Mean Squared Error (MSE). The formula of the MSE is:\n",
    " \n",
    "<b> \n",
    " MSE = Σ(y – pred)² / n\n",
    "</b> \n",
    " \n",
    "This mean that we take difference between the real y and the predicted-y, square each of them, and sum all and divide by the number of rows in the dataset.\n"
   ]
  },
  {
   "cell_type": "code",
   "execution_count": 22,
   "metadata": {},
   "outputs": [],
   "source": [
    "loss_function <- function(y,pred) { \n",
    "    return( sum((y - pred)^2)/length(y) )\n",
    "}"
   ]
  },
  {
   "cell_type": "markdown",
   "metadata": {},
   "source": [
    "\n",
    "## Global Minima\n",
    "The global minima of the loss function is defined as the smallest value of the loss function. In other words, we find the global minima when we reduce the error at the lowest possible value.\n",
    "\n",
    "<img src=\"https://cdn-images-1.medium.com/max/602/0*gWBpMIJ7yRVAaAIA.\"></img>\n",
    "\n",
    "## Learning rate\n",
    " \n",
    "The learning rate can be defined as the number of 'jumps' we make when trying to reduce the global minima while calculating the optimal values for the weights. We have to be careful with this parameter because a high value may miss out the global minima, while a very low value will increase a lot the calculation time. The learning rate parameter in many functions is called as <b> alpha </b>.\n",
    "\n",
    "<table><tr>\n",
    "    <td cols=\"2\"> \n",
    "        <h2> Problems caused by too low or high learning rates </h2> \n",
    "    </td>\n",
    "    </tr><tr>\n",
    "    <td> \n",
    "        <img src=\"https://encrypted-tbn0.gstatic.com/images?q=tbn:ANd9GcSDZHOlr8UTVvLoA3adcxB7FQsVPusBU7lPSsVB-lunzaEPwahAQg\" width=\"400\" height=\"200\"></img> \n",
    "        <br> <h4> High Learning Rate </h4>\n",
    "    </td>\n",
    "    <td> \n",
    "        <img src=\"https://www.oreilly.com/library/view/hands-on-machine-learning/9781491962282/assets/mlst_0403.png\" width=\"400\" height=\"200\"></img> \n",
    "        <br> <h4> Low Learning Rate </h4>\n",
    "    </td>\n",
    "</tr></table>"
   ]
  },
  {
   "cell_type": "markdown",
   "metadata": {},
   "source": [
    "## Gradient Descent\n",
    " \n",
    "The formula for the calculation of the gradient descent is:\n",
    " \n",
    "<img src=\"https://i2.wp.com/2.bp.blogspot.com/-ZxJ87cWjPJ8/TtLtwqv0hCI/AAAAAAAAAV0/9FYqcxJ6dNY/s320/gradient+descent+algorithm+OLS.png?zoom=1.25&resize=320%2C181\"></img>\n",
    " \n",
    "This means that the values of the weights (called theta or ϴ) are calculated using the loss function (Jϴ).\n",
    " \n",
    "The initial theta values are generated randomly and the loss function is calculated using them. The calculation is made as follows:\n",
    " \n",
    " \n",
    "<center>\n",
    "    Y-hat = ϴ<sub>0</sub> + x<sub>1</sub>ϴ<sub>1</sub> + … + x<sub>n</sub>ϴ<sub>n</sub>\n",
    "</center>\n",
    " \n",
    "Then the loss function is calculated. If the model did not converged (the global minima was not reached), we increase/decrease theta by the learning rate, and recalculate the newly predicted Y (Y-hat). This is repeated until the global minima is reached.\n",
    " \n"
   ]
  },
  {
   "cell_type": "code",
   "execution_count": 23,
   "metadata": {},
   "outputs": [],
   "source": [
    "### The gradient descent requires two values: learning rate and number of iterations.\n",
    "\n",
    "gradientDesc <- function(x, y, learn_rate=1e-6, max_iter=1e3 ,seed =1) {\n",
    "  #plot(x, y, col = \"blue\", pch = 20)\n",
    "  conv_threshold <- 1e-4 #epcilon-MIN error requered\n",
    "    set.seed(seed)\n",
    "  n <- length(y)\n",
    "  m <- runif(1, 0, 1)\n",
    "  c <- runif(1, 0, 1)\n",
    "  yhat <- m * x + c\n",
    "# sum((y - pred)^2)/length(y)\n",
    "  MSE <- loss_function(y,yhat)\n",
    "  converged = F\n",
    "  iterations = 0\n",
    "  while(converged == F) {\n",
    "    ## Implement the gradient descent algorithm\n",
    "    m_new <- m - learn_rate * ((1 / n) * (sum((yhat - y) * x)))\n",
    "    c_new <- c - learn_rate * ((1 / n) * (sum(yhat - y)))\n",
    "    m <- m_new\n",
    "    c <- c_new\n",
    "    yhat <- m * x + c\n",
    "    MSE_new <- loss_function(y,yhat)\n",
    "    if(MSE - MSE_new <= conv_threshold) {\n",
    "      #abline(c, m) \n",
    "      converged = T\n",
    "      print(paste(\"Optimal intercept:\", c, \"Optimal slope:\", m))\n",
    "      return(data.frame(w=m,b=c,loss=MSE_new))\n",
    "    }\n",
    "    iterations = iterations + 1\n",
    "    if(iterations > max_iter) { \n",
    "      #abline(c, m) \n",
    "      converged = T\n",
    "      print(paste(\"Optimal intercept:\", c, \"Optimal slope:\", m))\n",
    "      return(data.frame(w=m,b=c,loss=MSE_new))\n",
    "    }\n",
    "  }\n",
    "}\n",
    "\n",
    "\n"
   ]
  },
  {
   "cell_type": "code",
   "execution_count": 24,
   "metadata": {},
   "outputs": [
    {
     "name": "stdout",
     "output_type": "stream",
     "text": [
      "[1] \"Optimal intercept: 29.5993277493902 Optimal slope: -0.0412133348154412\"\n"
     ]
    },
    {
     "data": {
      "text/html": [
       "<table>\n",
       "<caption>A data.frame: 1 × 3</caption>\n",
       "<thead>\n",
       "\t<tr><th scope=col>w</th><th scope=col>b</th><th scope=col>loss</th></tr>\n",
       "\t<tr><th scope=col>&lt;dbl&gt;</th><th scope=col>&lt;dbl&gt;</th><th scope=col>&lt;dbl&gt;</th></tr>\n",
       "</thead>\n",
       "<tbody>\n",
       "\t<tr><td>-0.04121333</td><td>29.59933</td><td>9.911209</td></tr>\n",
       "</tbody>\n",
       "</table>\n"
      ],
      "text/latex": [
       "A data.frame: 1 × 3\n",
       "\\begin{tabular}{r|lll}\n",
       " w & b & loss\\\\\n",
       " <dbl> & <dbl> & <dbl>\\\\\n",
       "\\hline\n",
       "\t -0.04121333 & 29.59933 & 9.911209\\\\\n",
       "\\end{tabular}\n"
      ],
      "text/markdown": [
       "\n",
       "A data.frame: 1 × 3\n",
       "\n",
       "| w &lt;dbl&gt; | b &lt;dbl&gt; | loss &lt;dbl&gt; |\n",
       "|---|---|---|\n",
       "| -0.04121333 | 29.59933 | 9.911209 |\n",
       "\n"
      ],
      "text/plain": [
       "  w           b        loss    \n",
       "1 -0.04121333 29.59933 9.911209"
      ]
     },
     "metadata": {},
     "output_type": "display_data"
    }
   ],
   "source": [
    "# Run the function \n",
    "gradientDesc(mtcars$disp, mtcars$mpg, 0.00002, 2500000)\n"
   ]
  },
  {
   "cell_type": "code",
   "execution_count": 25,
   "metadata": {},
   "outputs": [
    {
     "name": "stdout",
     "output_type": "stream",
     "text": [
      "[1] \"Optimal intercept: 0.377811463186887 Optimal slope: 0.0577696665692624\"\n"
     ]
    },
    {
     "data": {
      "text/html": [
       "<table>\n",
       "<caption>A data.frame: 1 × 3</caption>\n",
       "<thead>\n",
       "\t<tr><th scope=col>w</th><th scope=col>b</th><th scope=col>loss</th></tr>\n",
       "\t<tr><th scope=col>&lt;dbl&gt;</th><th scope=col>&lt;dbl&gt;</th><th scope=col>&lt;dbl&gt;</th></tr>\n",
       "</thead>\n",
       "<tbody>\n",
       "\t<tr><td>0.05776967</td><td>0.3778115</td><td>196.4694</td></tr>\n",
       "</tbody>\n",
       "</table>\n"
      ],
      "text/latex": [
       "A data.frame: 1 × 3\n",
       "\\begin{tabular}{r|lll}\n",
       " w & b & loss\\\\\n",
       " <dbl> & <dbl> & <dbl>\\\\\n",
       "\\hline\n",
       "\t 0.05776967 & 0.3778115 & 196.4694\\\\\n",
       "\\end{tabular}\n"
      ],
      "text/markdown": [
       "\n",
       "A data.frame: 1 × 3\n",
       "\n",
       "| w &lt;dbl&gt; | b &lt;dbl&gt; | loss &lt;dbl&gt; |\n",
       "|---|---|---|\n",
       "| 0.05776967 | 0.3778115 | 196.4694 |\n",
       "\n"
      ],
      "text/plain": [
       "  w          b         loss    \n",
       "1 0.05776967 0.3778115 196.4694"
      ]
     },
     "metadata": {},
     "output_type": "display_data"
    }
   ],
   "source": [
    "# Run the function \n",
    "gradientDesc(mtcars$disp, mtcars$mpg)"
   ]
  },
  {
   "cell_type": "code",
   "execution_count": 26,
   "metadata": {},
   "outputs": [
    {
     "data": {
      "text/html": [
       "<table>\n",
       "<caption>A data.frame: 32 × 11</caption>\n",
       "<thead>\n",
       "\t<tr><th></th><th scope=col>mpg</th><th scope=col>cyl</th><th scope=col>disp</th><th scope=col>hp</th><th scope=col>drat</th><th scope=col>wt</th><th scope=col>qsec</th><th scope=col>vs</th><th scope=col>am</th><th scope=col>gear</th><th scope=col>carb</th></tr>\n",
       "\t<tr><th></th><th scope=col>&lt;dbl&gt;</th><th scope=col>&lt;dbl&gt;</th><th scope=col>&lt;dbl&gt;</th><th scope=col>&lt;dbl&gt;</th><th scope=col>&lt;dbl&gt;</th><th scope=col>&lt;dbl&gt;</th><th scope=col>&lt;dbl&gt;</th><th scope=col>&lt;dbl&gt;</th><th scope=col>&lt;dbl&gt;</th><th scope=col>&lt;dbl&gt;</th><th scope=col>&lt;dbl&gt;</th></tr>\n",
       "</thead>\n",
       "<tbody>\n",
       "\t<tr><th scope=row>Mazda RX4</th><td>21.0</td><td>6</td><td>160.0</td><td>110</td><td>3.90</td><td>2.620</td><td>16.46</td><td>0</td><td>1</td><td>4</td><td>4</td></tr>\n",
       "\t<tr><th scope=row>Mazda RX4 Wag</th><td>21.0</td><td>6</td><td>160.0</td><td>110</td><td>3.90</td><td>2.875</td><td>17.02</td><td>0</td><td>1</td><td>4</td><td>4</td></tr>\n",
       "\t<tr><th scope=row>Datsun 710</th><td>22.8</td><td>4</td><td>108.0</td><td> 93</td><td>3.85</td><td>2.320</td><td>18.61</td><td>1</td><td>1</td><td>4</td><td>1</td></tr>\n",
       "\t<tr><th scope=row>Hornet 4 Drive</th><td>21.4</td><td>6</td><td>258.0</td><td>110</td><td>3.08</td><td>3.215</td><td>19.44</td><td>1</td><td>0</td><td>3</td><td>1</td></tr>\n",
       "\t<tr><th scope=row>Hornet Sportabout</th><td>18.7</td><td>8</td><td>360.0</td><td>175</td><td>3.15</td><td>3.440</td><td>17.02</td><td>0</td><td>0</td><td>3</td><td>2</td></tr>\n",
       "\t<tr><th scope=row>Valiant</th><td>18.1</td><td>6</td><td>225.0</td><td>105</td><td>2.76</td><td>3.460</td><td>20.22</td><td>1</td><td>0</td><td>3</td><td>1</td></tr>\n",
       "\t<tr><th scope=row>Duster 360</th><td>14.3</td><td>8</td><td>360.0</td><td>245</td><td>3.21</td><td>3.570</td><td>15.84</td><td>0</td><td>0</td><td>3</td><td>4</td></tr>\n",
       "\t<tr><th scope=row>Merc 240D</th><td>24.4</td><td>4</td><td>146.7</td><td> 62</td><td>3.69</td><td>3.190</td><td>20.00</td><td>1</td><td>0</td><td>4</td><td>2</td></tr>\n",
       "\t<tr><th scope=row>Merc 230</th><td>22.8</td><td>4</td><td>140.8</td><td> 95</td><td>3.92</td><td>3.150</td><td>22.90</td><td>1</td><td>0</td><td>4</td><td>2</td></tr>\n",
       "\t<tr><th scope=row>Merc 280</th><td>19.2</td><td>6</td><td>167.6</td><td>123</td><td>3.92</td><td>3.440</td><td>18.30</td><td>1</td><td>0</td><td>4</td><td>4</td></tr>\n",
       "\t<tr><th scope=row>Merc 280C</th><td>17.8</td><td>6</td><td>167.6</td><td>123</td><td>3.92</td><td>3.440</td><td>18.90</td><td>1</td><td>0</td><td>4</td><td>4</td></tr>\n",
       "\t<tr><th scope=row>Merc 450SE</th><td>16.4</td><td>8</td><td>275.8</td><td>180</td><td>3.07</td><td>4.070</td><td>17.40</td><td>0</td><td>0</td><td>3</td><td>3</td></tr>\n",
       "\t<tr><th scope=row>Merc 450SL</th><td>17.3</td><td>8</td><td>275.8</td><td>180</td><td>3.07</td><td>3.730</td><td>17.60</td><td>0</td><td>0</td><td>3</td><td>3</td></tr>\n",
       "\t<tr><th scope=row>Merc 450SLC</th><td>15.2</td><td>8</td><td>275.8</td><td>180</td><td>3.07</td><td>3.780</td><td>18.00</td><td>0</td><td>0</td><td>3</td><td>3</td></tr>\n",
       "\t<tr><th scope=row>Cadillac Fleetwood</th><td>10.4</td><td>8</td><td>472.0</td><td>205</td><td>2.93</td><td>5.250</td><td>17.98</td><td>0</td><td>0</td><td>3</td><td>4</td></tr>\n",
       "\t<tr><th scope=row>Lincoln Continental</th><td>10.4</td><td>8</td><td>460.0</td><td>215</td><td>3.00</td><td>5.424</td><td>17.82</td><td>0</td><td>0</td><td>3</td><td>4</td></tr>\n",
       "\t<tr><th scope=row>Chrysler Imperial</th><td>14.7</td><td>8</td><td>440.0</td><td>230</td><td>3.23</td><td>5.345</td><td>17.42</td><td>0</td><td>0</td><td>3</td><td>4</td></tr>\n",
       "\t<tr><th scope=row>Fiat 128</th><td>32.4</td><td>4</td><td> 78.7</td><td> 66</td><td>4.08</td><td>2.200</td><td>19.47</td><td>1</td><td>1</td><td>4</td><td>1</td></tr>\n",
       "\t<tr><th scope=row>Honda Civic</th><td>30.4</td><td>4</td><td> 75.7</td><td> 52</td><td>4.93</td><td>1.615</td><td>18.52</td><td>1</td><td>1</td><td>4</td><td>2</td></tr>\n",
       "\t<tr><th scope=row>Toyota Corolla</th><td>33.9</td><td>4</td><td> 71.1</td><td> 65</td><td>4.22</td><td>1.835</td><td>19.90</td><td>1</td><td>1</td><td>4</td><td>1</td></tr>\n",
       "\t<tr><th scope=row>Toyota Corona</th><td>21.5</td><td>4</td><td>120.1</td><td> 97</td><td>3.70</td><td>2.465</td><td>20.01</td><td>1</td><td>0</td><td>3</td><td>1</td></tr>\n",
       "\t<tr><th scope=row>Dodge Challenger</th><td>15.5</td><td>8</td><td>318.0</td><td>150</td><td>2.76</td><td>3.520</td><td>16.87</td><td>0</td><td>0</td><td>3</td><td>2</td></tr>\n",
       "\t<tr><th scope=row>AMC Javelin</th><td>15.2</td><td>8</td><td>304.0</td><td>150</td><td>3.15</td><td>3.435</td><td>17.30</td><td>0</td><td>0</td><td>3</td><td>2</td></tr>\n",
       "\t<tr><th scope=row>Camaro Z28</th><td>13.3</td><td>8</td><td>350.0</td><td>245</td><td>3.73</td><td>3.840</td><td>15.41</td><td>0</td><td>0</td><td>3</td><td>4</td></tr>\n",
       "\t<tr><th scope=row>Pontiac Firebird</th><td>19.2</td><td>8</td><td>400.0</td><td>175</td><td>3.08</td><td>3.845</td><td>17.05</td><td>0</td><td>0</td><td>3</td><td>2</td></tr>\n",
       "\t<tr><th scope=row>Fiat X1-9</th><td>27.3</td><td>4</td><td> 79.0</td><td> 66</td><td>4.08</td><td>1.935</td><td>18.90</td><td>1</td><td>1</td><td>4</td><td>1</td></tr>\n",
       "\t<tr><th scope=row>Porsche 914-2</th><td>26.0</td><td>4</td><td>120.3</td><td> 91</td><td>4.43</td><td>2.140</td><td>16.70</td><td>0</td><td>1</td><td>5</td><td>2</td></tr>\n",
       "\t<tr><th scope=row>Lotus Europa</th><td>30.4</td><td>4</td><td> 95.1</td><td>113</td><td>3.77</td><td>1.513</td><td>16.90</td><td>1</td><td>1</td><td>5</td><td>2</td></tr>\n",
       "\t<tr><th scope=row>Ford Pantera L</th><td>15.8</td><td>8</td><td>351.0</td><td>264</td><td>4.22</td><td>3.170</td><td>14.50</td><td>0</td><td>1</td><td>5</td><td>4</td></tr>\n",
       "\t<tr><th scope=row>Ferrari Dino</th><td>19.7</td><td>6</td><td>145.0</td><td>175</td><td>3.62</td><td>2.770</td><td>15.50</td><td>0</td><td>1</td><td>5</td><td>6</td></tr>\n",
       "\t<tr><th scope=row>Maserati Bora</th><td>15.0</td><td>8</td><td>301.0</td><td>335</td><td>3.54</td><td>3.570</td><td>14.60</td><td>0</td><td>1</td><td>5</td><td>8</td></tr>\n",
       "\t<tr><th scope=row>Volvo 142E</th><td>21.4</td><td>4</td><td>121.0</td><td>109</td><td>4.11</td><td>2.780</td><td>18.60</td><td>1</td><td>1</td><td>4</td><td>2</td></tr>\n",
       "</tbody>\n",
       "</table>\n"
      ],
      "text/latex": [
       "A data.frame: 32 × 11\n",
       "\\begin{tabular}{r|lllllllllll}\n",
       "  & mpg & cyl & disp & hp & drat & wt & qsec & vs & am & gear & carb\\\\\n",
       "  & <dbl> & <dbl> & <dbl> & <dbl> & <dbl> & <dbl> & <dbl> & <dbl> & <dbl> & <dbl> & <dbl>\\\\\n",
       "\\hline\n",
       "\tMazda RX4 & 21.0 & 6 & 160.0 & 110 & 3.90 & 2.620 & 16.46 & 0 & 1 & 4 & 4\\\\\n",
       "\tMazda RX4 Wag & 21.0 & 6 & 160.0 & 110 & 3.90 & 2.875 & 17.02 & 0 & 1 & 4 & 4\\\\\n",
       "\tDatsun 710 & 22.8 & 4 & 108.0 &  93 & 3.85 & 2.320 & 18.61 & 1 & 1 & 4 & 1\\\\\n",
       "\tHornet 4 Drive & 21.4 & 6 & 258.0 & 110 & 3.08 & 3.215 & 19.44 & 1 & 0 & 3 & 1\\\\\n",
       "\tHornet Sportabout & 18.7 & 8 & 360.0 & 175 & 3.15 & 3.440 & 17.02 & 0 & 0 & 3 & 2\\\\\n",
       "\tValiant & 18.1 & 6 & 225.0 & 105 & 2.76 & 3.460 & 20.22 & 1 & 0 & 3 & 1\\\\\n",
       "\tDuster 360 & 14.3 & 8 & 360.0 & 245 & 3.21 & 3.570 & 15.84 & 0 & 0 & 3 & 4\\\\\n",
       "\tMerc 240D & 24.4 & 4 & 146.7 &  62 & 3.69 & 3.190 & 20.00 & 1 & 0 & 4 & 2\\\\\n",
       "\tMerc 230 & 22.8 & 4 & 140.8 &  95 & 3.92 & 3.150 & 22.90 & 1 & 0 & 4 & 2\\\\\n",
       "\tMerc 280 & 19.2 & 6 & 167.6 & 123 & 3.92 & 3.440 & 18.30 & 1 & 0 & 4 & 4\\\\\n",
       "\tMerc 280C & 17.8 & 6 & 167.6 & 123 & 3.92 & 3.440 & 18.90 & 1 & 0 & 4 & 4\\\\\n",
       "\tMerc 450SE & 16.4 & 8 & 275.8 & 180 & 3.07 & 4.070 & 17.40 & 0 & 0 & 3 & 3\\\\\n",
       "\tMerc 450SL & 17.3 & 8 & 275.8 & 180 & 3.07 & 3.730 & 17.60 & 0 & 0 & 3 & 3\\\\\n",
       "\tMerc 450SLC & 15.2 & 8 & 275.8 & 180 & 3.07 & 3.780 & 18.00 & 0 & 0 & 3 & 3\\\\\n",
       "\tCadillac Fleetwood & 10.4 & 8 & 472.0 & 205 & 2.93 & 5.250 & 17.98 & 0 & 0 & 3 & 4\\\\\n",
       "\tLincoln Continental & 10.4 & 8 & 460.0 & 215 & 3.00 & 5.424 & 17.82 & 0 & 0 & 3 & 4\\\\\n",
       "\tChrysler Imperial & 14.7 & 8 & 440.0 & 230 & 3.23 & 5.345 & 17.42 & 0 & 0 & 3 & 4\\\\\n",
       "\tFiat 128 & 32.4 & 4 &  78.7 &  66 & 4.08 & 2.200 & 19.47 & 1 & 1 & 4 & 1\\\\\n",
       "\tHonda Civic & 30.4 & 4 &  75.7 &  52 & 4.93 & 1.615 & 18.52 & 1 & 1 & 4 & 2\\\\\n",
       "\tToyota Corolla & 33.9 & 4 &  71.1 &  65 & 4.22 & 1.835 & 19.90 & 1 & 1 & 4 & 1\\\\\n",
       "\tToyota Corona & 21.5 & 4 & 120.1 &  97 & 3.70 & 2.465 & 20.01 & 1 & 0 & 3 & 1\\\\\n",
       "\tDodge Challenger & 15.5 & 8 & 318.0 & 150 & 2.76 & 3.520 & 16.87 & 0 & 0 & 3 & 2\\\\\n",
       "\tAMC Javelin & 15.2 & 8 & 304.0 & 150 & 3.15 & 3.435 & 17.30 & 0 & 0 & 3 & 2\\\\\n",
       "\tCamaro Z28 & 13.3 & 8 & 350.0 & 245 & 3.73 & 3.840 & 15.41 & 0 & 0 & 3 & 4\\\\\n",
       "\tPontiac Firebird & 19.2 & 8 & 400.0 & 175 & 3.08 & 3.845 & 17.05 & 0 & 0 & 3 & 2\\\\\n",
       "\tFiat X1-9 & 27.3 & 4 &  79.0 &  66 & 4.08 & 1.935 & 18.90 & 1 & 1 & 4 & 1\\\\\n",
       "\tPorsche 914-2 & 26.0 & 4 & 120.3 &  91 & 4.43 & 2.140 & 16.70 & 0 & 1 & 5 & 2\\\\\n",
       "\tLotus Europa & 30.4 & 4 &  95.1 & 113 & 3.77 & 1.513 & 16.90 & 1 & 1 & 5 & 2\\\\\n",
       "\tFord Pantera L & 15.8 & 8 & 351.0 & 264 & 4.22 & 3.170 & 14.50 & 0 & 1 & 5 & 4\\\\\n",
       "\tFerrari Dino & 19.7 & 6 & 145.0 & 175 & 3.62 & 2.770 & 15.50 & 0 & 1 & 5 & 6\\\\\n",
       "\tMaserati Bora & 15.0 & 8 & 301.0 & 335 & 3.54 & 3.570 & 14.60 & 0 & 1 & 5 & 8\\\\\n",
       "\tVolvo 142E & 21.4 & 4 & 121.0 & 109 & 4.11 & 2.780 & 18.60 & 1 & 1 & 4 & 2\\\\\n",
       "\\end{tabular}\n"
      ],
      "text/markdown": [
       "\n",
       "A data.frame: 32 × 11\n",
       "\n",
       "| <!--/--> | mpg &lt;dbl&gt; | cyl &lt;dbl&gt; | disp &lt;dbl&gt; | hp &lt;dbl&gt; | drat &lt;dbl&gt; | wt &lt;dbl&gt; | qsec &lt;dbl&gt; | vs &lt;dbl&gt; | am &lt;dbl&gt; | gear &lt;dbl&gt; | carb &lt;dbl&gt; |\n",
       "|---|---|---|---|---|---|---|---|---|---|---|---|\n",
       "| Mazda RX4 | 21.0 | 6 | 160.0 | 110 | 3.90 | 2.620 | 16.46 | 0 | 1 | 4 | 4 |\n",
       "| Mazda RX4 Wag | 21.0 | 6 | 160.0 | 110 | 3.90 | 2.875 | 17.02 | 0 | 1 | 4 | 4 |\n",
       "| Datsun 710 | 22.8 | 4 | 108.0 |  93 | 3.85 | 2.320 | 18.61 | 1 | 1 | 4 | 1 |\n",
       "| Hornet 4 Drive | 21.4 | 6 | 258.0 | 110 | 3.08 | 3.215 | 19.44 | 1 | 0 | 3 | 1 |\n",
       "| Hornet Sportabout | 18.7 | 8 | 360.0 | 175 | 3.15 | 3.440 | 17.02 | 0 | 0 | 3 | 2 |\n",
       "| Valiant | 18.1 | 6 | 225.0 | 105 | 2.76 | 3.460 | 20.22 | 1 | 0 | 3 | 1 |\n",
       "| Duster 360 | 14.3 | 8 | 360.0 | 245 | 3.21 | 3.570 | 15.84 | 0 | 0 | 3 | 4 |\n",
       "| Merc 240D | 24.4 | 4 | 146.7 |  62 | 3.69 | 3.190 | 20.00 | 1 | 0 | 4 | 2 |\n",
       "| Merc 230 | 22.8 | 4 | 140.8 |  95 | 3.92 | 3.150 | 22.90 | 1 | 0 | 4 | 2 |\n",
       "| Merc 280 | 19.2 | 6 | 167.6 | 123 | 3.92 | 3.440 | 18.30 | 1 | 0 | 4 | 4 |\n",
       "| Merc 280C | 17.8 | 6 | 167.6 | 123 | 3.92 | 3.440 | 18.90 | 1 | 0 | 4 | 4 |\n",
       "| Merc 450SE | 16.4 | 8 | 275.8 | 180 | 3.07 | 4.070 | 17.40 | 0 | 0 | 3 | 3 |\n",
       "| Merc 450SL | 17.3 | 8 | 275.8 | 180 | 3.07 | 3.730 | 17.60 | 0 | 0 | 3 | 3 |\n",
       "| Merc 450SLC | 15.2 | 8 | 275.8 | 180 | 3.07 | 3.780 | 18.00 | 0 | 0 | 3 | 3 |\n",
       "| Cadillac Fleetwood | 10.4 | 8 | 472.0 | 205 | 2.93 | 5.250 | 17.98 | 0 | 0 | 3 | 4 |\n",
       "| Lincoln Continental | 10.4 | 8 | 460.0 | 215 | 3.00 | 5.424 | 17.82 | 0 | 0 | 3 | 4 |\n",
       "| Chrysler Imperial | 14.7 | 8 | 440.0 | 230 | 3.23 | 5.345 | 17.42 | 0 | 0 | 3 | 4 |\n",
       "| Fiat 128 | 32.4 | 4 |  78.7 |  66 | 4.08 | 2.200 | 19.47 | 1 | 1 | 4 | 1 |\n",
       "| Honda Civic | 30.4 | 4 |  75.7 |  52 | 4.93 | 1.615 | 18.52 | 1 | 1 | 4 | 2 |\n",
       "| Toyota Corolla | 33.9 | 4 |  71.1 |  65 | 4.22 | 1.835 | 19.90 | 1 | 1 | 4 | 1 |\n",
       "| Toyota Corona | 21.5 | 4 | 120.1 |  97 | 3.70 | 2.465 | 20.01 | 1 | 0 | 3 | 1 |\n",
       "| Dodge Challenger | 15.5 | 8 | 318.0 | 150 | 2.76 | 3.520 | 16.87 | 0 | 0 | 3 | 2 |\n",
       "| AMC Javelin | 15.2 | 8 | 304.0 | 150 | 3.15 | 3.435 | 17.30 | 0 | 0 | 3 | 2 |\n",
       "| Camaro Z28 | 13.3 | 8 | 350.0 | 245 | 3.73 | 3.840 | 15.41 | 0 | 0 | 3 | 4 |\n",
       "| Pontiac Firebird | 19.2 | 8 | 400.0 | 175 | 3.08 | 3.845 | 17.05 | 0 | 0 | 3 | 2 |\n",
       "| Fiat X1-9 | 27.3 | 4 |  79.0 |  66 | 4.08 | 1.935 | 18.90 | 1 | 1 | 4 | 1 |\n",
       "| Porsche 914-2 | 26.0 | 4 | 120.3 |  91 | 4.43 | 2.140 | 16.70 | 0 | 1 | 5 | 2 |\n",
       "| Lotus Europa | 30.4 | 4 |  95.1 | 113 | 3.77 | 1.513 | 16.90 | 1 | 1 | 5 | 2 |\n",
       "| Ford Pantera L | 15.8 | 8 | 351.0 | 264 | 4.22 | 3.170 | 14.50 | 0 | 1 | 5 | 4 |\n",
       "| Ferrari Dino | 19.7 | 6 | 145.0 | 175 | 3.62 | 2.770 | 15.50 | 0 | 1 | 5 | 6 |\n",
       "| Maserati Bora | 15.0 | 8 | 301.0 | 335 | 3.54 | 3.570 | 14.60 | 0 | 1 | 5 | 8 |\n",
       "| Volvo 142E | 21.4 | 4 | 121.0 | 109 | 4.11 | 2.780 | 18.60 | 1 | 1 | 4 | 2 |\n",
       "\n"
      ],
      "text/plain": [
       "                    mpg  cyl disp  hp  drat wt    qsec  vs am gear carb\n",
       "Mazda RX4           21.0 6   160.0 110 3.90 2.620 16.46 0  1  4    4   \n",
       "Mazda RX4 Wag       21.0 6   160.0 110 3.90 2.875 17.02 0  1  4    4   \n",
       "Datsun 710          22.8 4   108.0  93 3.85 2.320 18.61 1  1  4    1   \n",
       "Hornet 4 Drive      21.4 6   258.0 110 3.08 3.215 19.44 1  0  3    1   \n",
       "Hornet Sportabout   18.7 8   360.0 175 3.15 3.440 17.02 0  0  3    2   \n",
       "Valiant             18.1 6   225.0 105 2.76 3.460 20.22 1  0  3    1   \n",
       "Duster 360          14.3 8   360.0 245 3.21 3.570 15.84 0  0  3    4   \n",
       "Merc 240D           24.4 4   146.7  62 3.69 3.190 20.00 1  0  4    2   \n",
       "Merc 230            22.8 4   140.8  95 3.92 3.150 22.90 1  0  4    2   \n",
       "Merc 280            19.2 6   167.6 123 3.92 3.440 18.30 1  0  4    4   \n",
       "Merc 280C           17.8 6   167.6 123 3.92 3.440 18.90 1  0  4    4   \n",
       "Merc 450SE          16.4 8   275.8 180 3.07 4.070 17.40 0  0  3    3   \n",
       "Merc 450SL          17.3 8   275.8 180 3.07 3.730 17.60 0  0  3    3   \n",
       "Merc 450SLC         15.2 8   275.8 180 3.07 3.780 18.00 0  0  3    3   \n",
       "Cadillac Fleetwood  10.4 8   472.0 205 2.93 5.250 17.98 0  0  3    4   \n",
       "Lincoln Continental 10.4 8   460.0 215 3.00 5.424 17.82 0  0  3    4   \n",
       "Chrysler Imperial   14.7 8   440.0 230 3.23 5.345 17.42 0  0  3    4   \n",
       "Fiat 128            32.4 4    78.7  66 4.08 2.200 19.47 1  1  4    1   \n",
       "Honda Civic         30.4 4    75.7  52 4.93 1.615 18.52 1  1  4    2   \n",
       "Toyota Corolla      33.9 4    71.1  65 4.22 1.835 19.90 1  1  4    1   \n",
       "Toyota Corona       21.5 4   120.1  97 3.70 2.465 20.01 1  0  3    1   \n",
       "Dodge Challenger    15.5 8   318.0 150 2.76 3.520 16.87 0  0  3    2   \n",
       "AMC Javelin         15.2 8   304.0 150 3.15 3.435 17.30 0  0  3    2   \n",
       "Camaro Z28          13.3 8   350.0 245 3.73 3.840 15.41 0  0  3    4   \n",
       "Pontiac Firebird    19.2 8   400.0 175 3.08 3.845 17.05 0  0  3    2   \n",
       "Fiat X1-9           27.3 4    79.0  66 4.08 1.935 18.90 1  1  4    1   \n",
       "Porsche 914-2       26.0 4   120.3  91 4.43 2.140 16.70 0  1  5    2   \n",
       "Lotus Europa        30.4 4    95.1 113 3.77 1.513 16.90 1  1  5    2   \n",
       "Ford Pantera L      15.8 8   351.0 264 4.22 3.170 14.50 0  1  5    4   \n",
       "Ferrari Dino        19.7 6   145.0 175 3.62 2.770 15.50 0  1  5    6   \n",
       "Maserati Bora       15.0 8   301.0 335 3.54 3.570 14.60 0  1  5    8   \n",
       "Volvo 142E          21.4 4   121.0 109 4.11 2.780 18.60 1  1  4    2   "
      ]
     },
     "metadata": {},
     "output_type": "display_data"
    }
   ],
   "source": [
    "mtcars"
   ]
  },
  {
   "cell_type": "code",
   "execution_count": 27,
   "metadata": {},
   "outputs": [
    {
     "data": {
      "text/html": [
       "<dl class=dl-horizontal>\n",
       "\t<dt>(Intercept)</dt>\n",
       "\t\t<dd>29.5998547561639</dd>\n",
       "\t<dt>mtcars$disp</dt>\n",
       "\t\t<dd>-0.0412151199627861</dd>\n",
       "</dl>\n"
      ],
      "text/latex": [
       "\\begin{description*}\n",
       "\\item[(Intercept)] 29.5998547561639\n",
       "\\item[mtcars\\textbackslash{}\\$disp] -0.0412151199627861\n",
       "\\end{description*}\n"
      ],
      "text/markdown": [
       "(Intercept)\n",
       ":   29.5998547561639mtcars$disp\n",
       ":   -0.0412151199627861\n",
       "\n"
      ],
      "text/plain": [
       "(Intercept) mtcars$disp \n",
       "29.59985476 -0.04121512 "
      ]
     },
     "metadata": {},
     "output_type": "display_data"
    },
    {
     "data": {
      "text/html": [
       "9.91120904006827"
      ],
      "text/latex": [
       "9.91120904006827"
      ],
      "text/markdown": [
       "9.91120904006827"
      ],
      "text/plain": [
       "[1] 9.911209"
      ]
     },
     "metadata": {},
     "output_type": "display_data"
    }
   ],
   "source": [
    "mod <- lm(mtcars$mpg ~ mtcars$disp)\n",
    "y_hat <- predict (mod)\n",
    "mod$coefficients\n",
    "MSE <- loss_function(mtcars$mpg,y_hat)\n",
    "MSE"
   ]
  },
  {
   "cell_type": "code",
   "execution_count": 28,
   "metadata": {},
   "outputs": [
    {
     "name": "stdout",
     "output_type": "stream",
     "text": [
      "[1] \"Optimal intercept: -3.78189164921576 Optimal slope: -1414.58550280844\"\n",
      "[1] \"Optimal intercept: -1.70488387478948 Optimal slope: -707.159997072649\"\n",
      "[1] \"Optimal intercept: -0.0432776552484647 Optimal slope: -141.219592484016\"\n",
      "[1] \"Optimal intercept: 0.164423122194163 Optimal slope: -70.477041910437\"\n",
      "[1] \"Optimal intercept: 0.330583744148265 Optimal slope: -13.8830014515737\"\n",
      "[1] \"Optimal intercept: 0.351353821892527 Optimal slope: -6.80874639421581\"\n",
      "[1] \"Optimal intercept: 0.367969884087938 Optimal slope: -1.14934234832948\"\n",
      "[1] \"Optimal intercept: 0.370046891862364 Optimal slope: -0.441916842593691\"\n",
      "[1] \"Optimal intercept: 29.4757428439056 Optimal slope: -0.0407947116081133\"\n",
      "[1] \"Optimal intercept: 27.6952267833182 Optimal slope: -0.0347635111062482\"\n",
      "[1] \"Optimal intercept: 12.6718185694387 Optimal slope: 0.0161257727171072\"\n"
     ]
    }
   ],
   "source": [
    "## iterating with the learning rate\n",
    "library(dplyr)\n",
    "res <- NULL\n",
    "learning_rate <- c(1e-1,5e-2,1e-2,5e-3,1e-3,5e-4,1e-4,5e-5,1e-5,5e-6,1e-6)\n",
    "for (lr in learning_rate) {\n",
    "    gd <- gradientDesc(mtcars$disp, mtcars$mpg, lr, 2500000)\n",
    "    res <- rbind(res, data.frame(cbind(learning_rate=lr, gd)))\n",
    "}\n"
   ]
  },
  {
   "cell_type": "code",
   "execution_count": 29,
   "metadata": {},
   "outputs": [
    {
     "data": {
      "text/html": [
       "<table>\n",
       "<caption>A data.frame: 11 × 4</caption>\n",
       "<thead>\n",
       "\t<tr><th scope=col>learning_rate</th><th scope=col>w</th><th scope=col>b</th><th scope=col>loss</th></tr>\n",
       "\t<tr><th scope=col>&lt;dbl&gt;</th><th scope=col>&lt;dbl&gt;</th><th scope=col>&lt;dbl&gt;</th><th scope=col>&lt;dbl&gt;</th></tr>\n",
       "</thead>\n",
       "<tbody>\n",
       "\t<tr><td>1e-06</td><td> 1.612577e-02</td><td>12.67181857</td><td>7.251583e+01</td></tr>\n",
       "\t<tr><td>5e-06</td><td>-3.476351e-02</td><td>27.69522678</td><td>1.070374e+01</td></tr>\n",
       "\t<tr><td>1e-05</td><td>-4.079471e-02</td><td>29.47574284</td><td>9.914574e+00</td></tr>\n",
       "\t<tr><td>5e-05</td><td>-4.419168e-01</td><td> 0.37004689</td><td>1.720533e+04</td></tr>\n",
       "\t<tr><td>1e-04</td><td>-1.149342e+00</td><td> 0.36796988</td><td>9.945132e+04</td></tr>\n",
       "\t<tr><td>5e-04</td><td>-6.808746e+00</td><td> 0.35135382</td><td>3.211760e+06</td></tr>\n",
       "\t<tr><td>1e-03</td><td>-1.388300e+01</td><td> 0.33058374</td><td>1.323800e+07</td></tr>\n",
       "\t<tr><td>5e-03</td><td>-7.047704e+01</td><td> 0.16442312</td><td>3.388820e+08</td></tr>\n",
       "\t<tr><td>1e-02</td><td>-1.412196e+02</td><td>-0.04327766</td><td>1.359522e+09</td></tr>\n",
       "\t<tr><td>5e-02</td><td>-7.071600e+02</td><td>-1.70488387</td><td>3.406805e+10</td></tr>\n",
       "\t<tr><td>1e-01</td><td>-1.414586e+03</td><td>-3.78189165</td><td>1.363122e+11</td></tr>\n",
       "</tbody>\n",
       "</table>\n"
      ],
      "text/latex": [
       "A data.frame: 11 × 4\n",
       "\\begin{tabular}{r|llll}\n",
       " learning\\_rate & w & b & loss\\\\\n",
       " <dbl> & <dbl> & <dbl> & <dbl>\\\\\n",
       "\\hline\n",
       "\t 1e-06 &  1.612577e-02 & 12.67181857 & 7.251583e+01\\\\\n",
       "\t 5e-06 & -3.476351e-02 & 27.69522678 & 1.070374e+01\\\\\n",
       "\t 1e-05 & -4.079471e-02 & 29.47574284 & 9.914574e+00\\\\\n",
       "\t 5e-05 & -4.419168e-01 &  0.37004689 & 1.720533e+04\\\\\n",
       "\t 1e-04 & -1.149342e+00 &  0.36796988 & 9.945132e+04\\\\\n",
       "\t 5e-04 & -6.808746e+00 &  0.35135382 & 3.211760e+06\\\\\n",
       "\t 1e-03 & -1.388300e+01 &  0.33058374 & 1.323800e+07\\\\\n",
       "\t 5e-03 & -7.047704e+01 &  0.16442312 & 3.388820e+08\\\\\n",
       "\t 1e-02 & -1.412196e+02 & -0.04327766 & 1.359522e+09\\\\\n",
       "\t 5e-02 & -7.071600e+02 & -1.70488387 & 3.406805e+10\\\\\n",
       "\t 1e-01 & -1.414586e+03 & -3.78189165 & 1.363122e+11\\\\\n",
       "\\end{tabular}\n"
      ],
      "text/markdown": [
       "\n",
       "A data.frame: 11 × 4\n",
       "\n",
       "| learning_rate &lt;dbl&gt; | w &lt;dbl&gt; | b &lt;dbl&gt; | loss &lt;dbl&gt; |\n",
       "|---|---|---|---|\n",
       "| 1e-06 |  1.612577e-02 | 12.67181857 | 7.251583e+01 |\n",
       "| 5e-06 | -3.476351e-02 | 27.69522678 | 1.070374e+01 |\n",
       "| 1e-05 | -4.079471e-02 | 29.47574284 | 9.914574e+00 |\n",
       "| 5e-05 | -4.419168e-01 |  0.37004689 | 1.720533e+04 |\n",
       "| 1e-04 | -1.149342e+00 |  0.36796988 | 9.945132e+04 |\n",
       "| 5e-04 | -6.808746e+00 |  0.35135382 | 3.211760e+06 |\n",
       "| 1e-03 | -1.388300e+01 |  0.33058374 | 1.323800e+07 |\n",
       "| 5e-03 | -7.047704e+01 |  0.16442312 | 3.388820e+08 |\n",
       "| 1e-02 | -1.412196e+02 | -0.04327766 | 1.359522e+09 |\n",
       "| 5e-02 | -7.071600e+02 | -1.70488387 | 3.406805e+10 |\n",
       "| 1e-01 | -1.414586e+03 | -3.78189165 | 1.363122e+11 |\n",
       "\n"
      ],
      "text/plain": [
       "   learning_rate w             b           loss        \n",
       "1  1e-06          1.612577e-02 12.67181857 7.251583e+01\n",
       "2  5e-06         -3.476351e-02 27.69522678 1.070374e+01\n",
       "3  1e-05         -4.079471e-02 29.47574284 9.914574e+00\n",
       "4  5e-05         -4.419168e-01  0.37004689 1.720533e+04\n",
       "5  1e-04         -1.149342e+00  0.36796988 9.945132e+04\n",
       "6  5e-04         -6.808746e+00  0.35135382 3.211760e+06\n",
       "7  1e-03         -1.388300e+01  0.33058374 1.323800e+07\n",
       "8  5e-03         -7.047704e+01  0.16442312 3.388820e+08\n",
       "9  1e-02         -1.412196e+02 -0.04327766 1.359522e+09\n",
       "10 5e-02         -7.071600e+02 -1.70488387 3.406805e+10\n",
       "11 1e-01         -1.414586e+03 -3.78189165 1.363122e+11"
      ]
     },
     "metadata": {},
     "output_type": "display_data"
    },
    {
     "data": {
      "image/png": "[encoded data removed]",
      "text/plain": [
       "plot without title"
      ]
     },
     "metadata": {
      "image/png": {
       "height": 180,
       "width": 240
      },
      "text/plain": {
       "height": 180,
       "width": 240
      }
     },
     "output_type": "display_data"
    },
    {
     "data": {
      "image/png": "[encoded data removed]",
      "text/plain": [
       "plot without title"
      ]
     },
     "metadata": {
      "image/png": {
       "height": 180,
       "width": 240
      },
      "text/plain": {
       "height": 180,
       "width": 240
      }
     },
     "output_type": "display_data"
    }
   ],
   "source": [
    "options(repr.plot.width = 4, repr.plot.height = 3)\n",
    "res <- res %>% arrange(learning_rate)\n",
    "res\n",
    "plot(res$loss ~ res$learning_rate, type=\"l\",\n",
    "     xlab=\"Learning rate\", ylab=\"Loss (MSE)\",\n",
    "     xlim = rev(range(res$learning_rate)))\n",
    "plot(log10(res$loss) ~ log10(res$learning_rate), type=\"l\",\n",
    "     xlab=\"Learning rate\", ylab=\"Loss (MSE)\",\n",
    "     xlim = rev(range(log10(res$learning_rate))))\n"
   ]
  },
  {
   "cell_type": "code",
   "execution_count": 30,
   "metadata": {},
   "outputs": [
    {
     "data": {
      "text/html": [
       "<ol class=list-inline>\n",
       "\t<li>1e-05</li>\n",
       "\t<li>2e-05</li>\n",
       "\t<li>3e-05</li>\n",
       "\t<li>5e-05</li>\n",
       "\t<li>6e-05</li>\n",
       "\t<li>7e-05</li>\n",
       "\t<li>8e-05</li>\n",
       "\t<li>9e-05</li>\n",
       "\t<li>1e-04</li>\n",
       "\t<li>2e-04</li>\n",
       "\t<li>3e-04</li>\n",
       "\t<li>5e-04</li>\n",
       "\t<li>6e-04</li>\n",
       "\t<li>7e-04</li>\n",
       "\t<li>8e-04</li>\n",
       "\t<li>9e-04</li>\n",
       "\t<li>0.001</li>\n",
       "</ol>\n"
      ],
      "text/latex": [
       "\\begin{enumerate*}\n",
       "\\item 1e-05\n",
       "\\item 2e-05\n",
       "\\item 3e-05\n",
       "\\item 5e-05\n",
       "\\item 6e-05\n",
       "\\item 7e-05\n",
       "\\item 8e-05\n",
       "\\item 9e-05\n",
       "\\item 1e-04\n",
       "\\item 2e-04\n",
       "\\item 3e-04\n",
       "\\item 5e-04\n",
       "\\item 6e-04\n",
       "\\item 7e-04\n",
       "\\item 8e-04\n",
       "\\item 9e-04\n",
       "\\item 0.001\n",
       "\\end{enumerate*}\n"
      ],
      "text/markdown": [
       "1. 1e-05\n",
       "2. 2e-05\n",
       "3. 3e-05\n",
       "4. 5e-05\n",
       "5. 6e-05\n",
       "6. 7e-05\n",
       "7. 8e-05\n",
       "8. 9e-05\n",
       "9. 1e-04\n",
       "10. 2e-04\n",
       "11. 3e-04\n",
       "12. 5e-04\n",
       "13. 6e-04\n",
       "14. 7e-04\n",
       "15. 8e-04\n",
       "16. 9e-04\n",
       "17. 0.001\n",
       "\n",
       "\n"
      ],
      "text/plain": [
       " [1] 1e-05 2e-05 3e-05 5e-05 6e-05 7e-05 8e-05 9e-05 1e-04 2e-04 3e-04 5e-04\n",
       "[13] 6e-04 7e-04 8e-04 9e-04 1e-03"
      ]
     },
     "metadata": {},
     "output_type": "display_data"
    }
   ],
   "source": [
    "learning_rate <- c(1e-5,2e-5,3e-5,5e-5,6e-5,7e-5,8e-5,9e-5,1e-4,2e-4,3e-4,5e-4,6e-4,7e-4,8e-4,9e-4,1e-3)\n",
    "learning_rate\n"
   ]
  },
  {
   "cell_type": "code",
   "execution_count": 31,
   "metadata": {},
   "outputs": [
    {
     "name": "stdout",
     "output_type": "stream",
     "text": [
      "[1] \"Optimal intercept: 29.4757428439056 Optimal slope: -0.0407947116081133\"\n",
      "[1] \"Optimal intercept: 29.5993277493902 Optimal slope: -0.0412133348154412\"\n",
      "[1] \"Optimal intercept: 0.370877694972134 Optimal slope: -0.158946640299374\"\n",
      "[1] \"Optimal intercept: 0.370046891862364 Optimal slope: -0.441916842593691\"\n",
      "[1] \"Optimal intercept: 0.369631490307479 Optimal slope: -0.583401943740849\"\n",
      "[1] \"Optimal intercept: 0.369216088752593 Optimal slope: -0.724887044888007\"\n",
      "[1] \"Optimal intercept: 0.368800687197708 Optimal slope: -0.866372146035165\"\n",
      "[1] \"Optimal intercept: 0.368385285642823 Optimal slope: -1.00785724718232\"\n",
      "[1] \"Optimal intercept: 0.367969884087938 Optimal slope: -1.14934234832948\"\n",
      "[1] \"Optimal intercept: 0.363815868539085 Optimal slope: -2.56419335980106\"\n",
      "[1] \"Optimal intercept: 0.359661852990233 Optimal slope: -3.97904437127264\"\n",
      "[1] \"Optimal intercept: 0.351353821892527 Optimal slope: -6.80874639421581\"\n",
      "[1] \"Optimal intercept: 0.347199806343675 Optimal slope: -8.22359740568739\"\n",
      "[1] \"Optimal intercept: 0.343045790794822 Optimal slope: -9.63844841715897\"\n",
      "[1] \"Optimal intercept: 0.33889177524597 Optimal slope: -11.0532994286306\"\n",
      "[1] \"Optimal intercept: 0.334737759697117 Optimal slope: -12.4681504401021\"\n",
      "[1] \"Optimal intercept: 0.330583744148265 Optimal slope: -13.8830014515737\"\n"
     ]
    }
   ],
   "source": [
    "res <- NULL\n",
    "for (lr in learning_rate) {\n",
    "    gd <- gradientDesc(mtcars$disp, mtcars$mpg, lr, 2500000)\n",
    "    res <- rbind(res, data.frame(cbind(learning_rate=lr, gd)))\n",
    "}\n"
   ]
  },
  {
   "cell_type": "code",
   "execution_count": 32,
   "metadata": {},
   "outputs": [
    {
     "data": {
      "text/html": [
       "<table>\n",
       "<caption>A data.frame: 17 × 4</caption>\n",
       "<thead>\n",
       "\t<tr><th scope=col>learning_rate</th><th scope=col>w</th><th scope=col>b</th><th scope=col>loss</th></tr>\n",
       "\t<tr><th scope=col>&lt;dbl&gt;</th><th scope=col>&lt;dbl&gt;</th><th scope=col>&lt;dbl&gt;</th><th scope=col>&lt;dbl&gt;</th></tr>\n",
       "</thead>\n",
       "<tbody>\n",
       "\t<tr><td>1e-05</td><td> -0.04079471</td><td>29.4757428</td><td>9.914574e+00</td></tr>\n",
       "\t<tr><td>2e-05</td><td> -0.04121333</td><td>29.5993277</td><td>9.911209e+00</td></tr>\n",
       "\t<tr><td>3e-05</td><td> -0.15894664</td><td> 0.3708777</td><td>3.396251e+03</td></tr>\n",
       "\t<tr><td>5e-05</td><td> -0.44191684</td><td> 0.3700469</td><td>1.720533e+04</td></tr>\n",
       "\t<tr><td>6e-05</td><td> -0.58340194</td><td> 0.3696315</td><td>2.820044e+04</td></tr>\n",
       "\t<tr><td>7e-05</td><td> -0.72488704</td><td> 0.3692161</td><td>4.192259e+04</td></tr>\n",
       "\t<tr><td>8e-05</td><td> -0.86637215</td><td> 0.3688007</td><td>5.837179e+04</td></tr>\n",
       "\t<tr><td>9e-05</td><td> -1.00785725</td><td> 0.3683853</td><td>7.754803e+04</td></tr>\n",
       "\t<tr><td>1e-04</td><td> -1.14934235</td><td> 0.3679699</td><td>9.945132e+04</td></tr>\n",
       "\t<tr><td>2e-04</td><td> -2.56419336</td><td> 0.3638159</td><td>4.684717e+05</td></tr>\n",
       "\t<tr><td>3e-04</td><td> -3.97904437</td><td> 0.3596619</td><td>1.110197e+06</td></tr>\n",
       "\t<tr><td>5e-04</td><td> -6.80874639</td><td> 0.3513538</td><td>3.211760e+06</td></tr>\n",
       "\t<tr><td>6e-04</td><td> -8.22359741</td><td> 0.3471998</td><td>4.671598e+06</td></tr>\n",
       "\t<tr><td>7e-04</td><td> -9.63844842</td><td> 0.3430458</td><td>6.404141e+06</td></tr>\n",
       "\t<tr><td>8e-04</td><td>-11.05329943</td><td> 0.3388918</td><td>8.409389e+06</td></tr>\n",
       "\t<tr><td>9e-04</td><td>-12.46815044</td><td> 0.3347378</td><td>1.068734e+07</td></tr>\n",
       "\t<tr><td>1e-03</td><td>-13.88300145</td><td> 0.3305837</td><td>1.323800e+07</td></tr>\n",
       "</tbody>\n",
       "</table>\n"
      ],
      "text/latex": [
       "A data.frame: 17 × 4\n",
       "\\begin{tabular}{r|llll}\n",
       " learning\\_rate & w & b & loss\\\\\n",
       " <dbl> & <dbl> & <dbl> & <dbl>\\\\\n",
       "\\hline\n",
       "\t 1e-05 &  -0.04079471 & 29.4757428 & 9.914574e+00\\\\\n",
       "\t 2e-05 &  -0.04121333 & 29.5993277 & 9.911209e+00\\\\\n",
       "\t 3e-05 &  -0.15894664 &  0.3708777 & 3.396251e+03\\\\\n",
       "\t 5e-05 &  -0.44191684 &  0.3700469 & 1.720533e+04\\\\\n",
       "\t 6e-05 &  -0.58340194 &  0.3696315 & 2.820044e+04\\\\\n",
       "\t 7e-05 &  -0.72488704 &  0.3692161 & 4.192259e+04\\\\\n",
       "\t 8e-05 &  -0.86637215 &  0.3688007 & 5.837179e+04\\\\\n",
       "\t 9e-05 &  -1.00785725 &  0.3683853 & 7.754803e+04\\\\\n",
       "\t 1e-04 &  -1.14934235 &  0.3679699 & 9.945132e+04\\\\\n",
       "\t 2e-04 &  -2.56419336 &  0.3638159 & 4.684717e+05\\\\\n",
       "\t 3e-04 &  -3.97904437 &  0.3596619 & 1.110197e+06\\\\\n",
       "\t 5e-04 &  -6.80874639 &  0.3513538 & 3.211760e+06\\\\\n",
       "\t 6e-04 &  -8.22359741 &  0.3471998 & 4.671598e+06\\\\\n",
       "\t 7e-04 &  -9.63844842 &  0.3430458 & 6.404141e+06\\\\\n",
       "\t 8e-04 & -11.05329943 &  0.3388918 & 8.409389e+06\\\\\n",
       "\t 9e-04 & -12.46815044 &  0.3347378 & 1.068734e+07\\\\\n",
       "\t 1e-03 & -13.88300145 &  0.3305837 & 1.323800e+07\\\\\n",
       "\\end{tabular}\n"
      ],
      "text/markdown": [
       "\n",
       "A data.frame: 17 × 4\n",
       "\n",
       "| learning_rate &lt;dbl&gt; | w &lt;dbl&gt; | b &lt;dbl&gt; | loss &lt;dbl&gt; |\n",
       "|---|---|---|---|\n",
       "| 1e-05 |  -0.04079471 | 29.4757428 | 9.914574e+00 |\n",
       "| 2e-05 |  -0.04121333 | 29.5993277 | 9.911209e+00 |\n",
       "| 3e-05 |  -0.15894664 |  0.3708777 | 3.396251e+03 |\n",
       "| 5e-05 |  -0.44191684 |  0.3700469 | 1.720533e+04 |\n",
       "| 6e-05 |  -0.58340194 |  0.3696315 | 2.820044e+04 |\n",
       "| 7e-05 |  -0.72488704 |  0.3692161 | 4.192259e+04 |\n",
       "| 8e-05 |  -0.86637215 |  0.3688007 | 5.837179e+04 |\n",
       "| 9e-05 |  -1.00785725 |  0.3683853 | 7.754803e+04 |\n",
       "| 1e-04 |  -1.14934235 |  0.3679699 | 9.945132e+04 |\n",
       "| 2e-04 |  -2.56419336 |  0.3638159 | 4.684717e+05 |\n",
       "| 3e-04 |  -3.97904437 |  0.3596619 | 1.110197e+06 |\n",
       "| 5e-04 |  -6.80874639 |  0.3513538 | 3.211760e+06 |\n",
       "| 6e-04 |  -8.22359741 |  0.3471998 | 4.671598e+06 |\n",
       "| 7e-04 |  -9.63844842 |  0.3430458 | 6.404141e+06 |\n",
       "| 8e-04 | -11.05329943 |  0.3388918 | 8.409389e+06 |\n",
       "| 9e-04 | -12.46815044 |  0.3347378 | 1.068734e+07 |\n",
       "| 1e-03 | -13.88300145 |  0.3305837 | 1.323800e+07 |\n",
       "\n"
      ],
      "text/plain": [
       "   learning_rate w            b          loss        \n",
       "1  1e-05          -0.04079471 29.4757428 9.914574e+00\n",
       "2  2e-05          -0.04121333 29.5993277 9.911209e+00\n",
       "3  3e-05          -0.15894664  0.3708777 3.396251e+03\n",
       "4  5e-05          -0.44191684  0.3700469 1.720533e+04\n",
       "5  6e-05          -0.58340194  0.3696315 2.820044e+04\n",
       "6  7e-05          -0.72488704  0.3692161 4.192259e+04\n",
       "7  8e-05          -0.86637215  0.3688007 5.837179e+04\n",
       "8  9e-05          -1.00785725  0.3683853 7.754803e+04\n",
       "9  1e-04          -1.14934235  0.3679699 9.945132e+04\n",
       "10 2e-04          -2.56419336  0.3638159 4.684717e+05\n",
       "11 3e-04          -3.97904437  0.3596619 1.110197e+06\n",
       "12 5e-04          -6.80874639  0.3513538 3.211760e+06\n",
       "13 6e-04          -8.22359741  0.3471998 4.671598e+06\n",
       "14 7e-04          -9.63844842  0.3430458 6.404141e+06\n",
       "15 8e-04         -11.05329943  0.3388918 8.409389e+06\n",
       "16 9e-04         -12.46815044  0.3347378 1.068734e+07\n",
       "17 1e-03         -13.88300145  0.3305837 1.323800e+07"
      ]
     },
     "metadata": {},
     "output_type": "display_data"
    },
    {
     "data": {
      "image/png": "[encoded data removed]",
      "text/plain": [
       "plot without title"
      ]
     },
     "metadata": {
      "image/png": {
       "height": 240,
       "width": 360
      },
      "text/plain": {
       "height": 240,
       "width": 360
      }
     },
     "output_type": "display_data"
    },
    {
     "data": {
      "image/png": "[encoded data removed]",
      "text/plain": [
       "plot without title"
      ]
     },
     "metadata": {
      "image/png": {
       "height": 240,
       "width": 360
      },
      "text/plain": {
       "height": 240,
       "width": 360
      }
     },
     "output_type": "display_data"
    }
   ],
   "source": [
    "library(dplyr)\n",
    "res <- res %>% arrange(learning_rate) \n",
    "res\n",
    "options(repr.plot.width = 6, repr.plot.height = 4)\n",
    "plot(res$loss ~ res$learning_rate, type=\"l\",\n",
    "     xlab=\"Learning rate\", ylab=\"Loss (MSE)\",\n",
    "     xlim = rev(range(res$learning_rate)))\n",
    "plot(log10(res$loss) ~ log10(res$learning_rate), type=\"l\",\n",
    "     xlab=\"Learning rate\", ylab=\"Loss (MSE)\",\n",
    "     xlim = rev(range(log10(res$learning_rate))))"
   ]
  },
  {
   "cell_type": "code",
   "execution_count": null,
   "metadata": {},
   "outputs": [],
   "source": []
  },
  {
   "cell_type": "code",
   "execution_count": 33,
   "metadata": {},
   "outputs": [
    {
     "name": "stdout",
     "output_type": "stream",
     "text": [
      "[1] \"Optimal intercept: 0.372122689853043 Optimal slope: 0.0577896558817319\"\n",
      "[1] \"Optimal intercept: 0.40339410042047 Optimal slope: 0.0576830096623478\"\n",
      "[1] \"Optimal intercept: 0.377868926265409 Optimal slope: 0.0577694719226901\"\n",
      "[1] \"Optimal intercept: 0.689020549117122 Optimal slope: 0.056715497816284\"\n",
      "[1] \"Optimal intercept: 0.435269216593067 Optimal slope: 0.057575038034957\"\n",
      "[1] \"Optimal intercept: 3.39602418528588 Optimal slope: 0.0475459755354091\"\n",
      "[1] \"Optimal intercept: 1.00310724276229 Optimal slope: 0.0556515816482282\"\n",
      "[1] \"Optimal intercept: 19.7957853344517 Optimal slope: -0.008005473767826\"\n",
      "[1] \"Optimal intercept: 6.10758603679019 Optimal slope: 0.0383610130620934\"\n",
      "[1] \"Optimal intercept: 29.5993277419498 Optimal slope: -0.041213334790238\"\n",
      "[1] \"Optimal intercept: 26.3112767334607 Optimal slope: -0.0300756116707874\"\n",
      "[1] \"Optimal intercept: 29.5993277419498 Optimal slope: -0.041213334790238\"\n",
      "[1] \"Optimal intercept: 29.5998547466422 Optimal slope: -0.041215119930533\"\n"
     ]
    }
   ],
   "source": [
    "## iterating with the number of iterations\n",
    "library(dplyr)\n",
    "res <- NULL\n",
    "number_iterations <- c(1e1,5e2,1e2,5e3,1e3,5e4,1e4,5e5,1e5,5e6,1e6,5e6,1e7)\n",
    "for (iter in number_iterations) {\n",
    "    gd <- gradientDesc(mtcars$disp, mtcars$mpg, 1e-5, iter)\n",
    "    res <- rbind(res, data.frame(cbind(num_iter=iter, gd)))\n",
    "}\n"
   ]
  },
  {
   "cell_type": "code",
   "execution_count": 34,
   "metadata": {},
   "outputs": [
    {
     "data": {
      "text/html": [
       "<table>\n",
       "<caption>A data.frame: 13 × 4</caption>\n",
       "<thead>\n",
       "\t<tr><th scope=col>num_iter</th><th scope=col>w</th><th scope=col>b</th><th scope=col>loss</th></tr>\n",
       "\t<tr><th scope=col>&lt;dbl&gt;</th><th scope=col>&lt;dbl&gt;</th><th scope=col>&lt;dbl&gt;</th><th scope=col>&lt;dbl&gt;</th></tr>\n",
       "</thead>\n",
       "<tbody>\n",
       "\t<tr><td>1e+01</td><td> 0.057789656</td><td> 0.3721227</td><td>196.542081</td></tr>\n",
       "\t<tr><td>1e+02</td><td> 0.057769472</td><td> 0.3778689</td><td>196.468704</td></tr>\n",
       "\t<tr><td>5e+02</td><td> 0.057683010</td><td> 0.4033941</td><td>196.142934</td></tr>\n",
       "\t<tr><td>1e+03</td><td> 0.057575038</td><td> 0.4352692</td><td>195.736520</td></tr>\n",
       "\t<tr><td>5e+03</td><td> 0.056715498</td><td> 0.6890205</td><td>192.516979</td></tr>\n",
       "\t<tr><td>1e+04</td><td> 0.055651582</td><td> 1.0031072</td><td>188.570881</td></tr>\n",
       "\t<tr><td>5e+04</td><td> 0.047545976</td><td> 3.3960242</td><td>159.922109</td></tr>\n",
       "\t<tr><td>1e+05</td><td> 0.038361013</td><td> 6.1075860</td><td>130.482295</td></tr>\n",
       "\t<tr><td>5e+05</td><td>-0.008005474</td><td>19.7957853</td><td> 30.910567</td></tr>\n",
       "\t<tr><td>1e+06</td><td>-0.030075612</td><td>26.3112767</td><td> 12.273914</td></tr>\n",
       "\t<tr><td>5e+06</td><td>-0.041213335</td><td>29.5993277</td><td>  9.911209</td></tr>\n",
       "\t<tr><td>5e+06</td><td>-0.041213335</td><td>29.5993277</td><td>  9.911209</td></tr>\n",
       "\t<tr><td>1e+07</td><td>-0.041215120</td><td>29.5998547</td><td>  9.911209</td></tr>\n",
       "</tbody>\n",
       "</table>\n"
      ],
      "text/latex": [
       "A data.frame: 13 × 4\n",
       "\\begin{tabular}{r|llll}\n",
       " num\\_iter & w & b & loss\\\\\n",
       " <dbl> & <dbl> & <dbl> & <dbl>\\\\\n",
       "\\hline\n",
       "\t 1e+01 &  0.057789656 &  0.3721227 & 196.542081\\\\\n",
       "\t 1e+02 &  0.057769472 &  0.3778689 & 196.468704\\\\\n",
       "\t 5e+02 &  0.057683010 &  0.4033941 & 196.142934\\\\\n",
       "\t 1e+03 &  0.057575038 &  0.4352692 & 195.736520\\\\\n",
       "\t 5e+03 &  0.056715498 &  0.6890205 & 192.516979\\\\\n",
       "\t 1e+04 &  0.055651582 &  1.0031072 & 188.570881\\\\\n",
       "\t 5e+04 &  0.047545976 &  3.3960242 & 159.922109\\\\\n",
       "\t 1e+05 &  0.038361013 &  6.1075860 & 130.482295\\\\\n",
       "\t 5e+05 & -0.008005474 & 19.7957853 &  30.910567\\\\\n",
       "\t 1e+06 & -0.030075612 & 26.3112767 &  12.273914\\\\\n",
       "\t 5e+06 & -0.041213335 & 29.5993277 &   9.911209\\\\\n",
       "\t 5e+06 & -0.041213335 & 29.5993277 &   9.911209\\\\\n",
       "\t 1e+07 & -0.041215120 & 29.5998547 &   9.911209\\\\\n",
       "\\end{tabular}\n"
      ],
      "text/markdown": [
       "\n",
       "A data.frame: 13 × 4\n",
       "\n",
       "| num_iter &lt;dbl&gt; | w &lt;dbl&gt; | b &lt;dbl&gt; | loss &lt;dbl&gt; |\n",
       "|---|---|---|---|\n",
       "| 1e+01 |  0.057789656 |  0.3721227 | 196.542081 |\n",
       "| 1e+02 |  0.057769472 |  0.3778689 | 196.468704 |\n",
       "| 5e+02 |  0.057683010 |  0.4033941 | 196.142934 |\n",
       "| 1e+03 |  0.057575038 |  0.4352692 | 195.736520 |\n",
       "| 5e+03 |  0.056715498 |  0.6890205 | 192.516979 |\n",
       "| 1e+04 |  0.055651582 |  1.0031072 | 188.570881 |\n",
       "| 5e+04 |  0.047545976 |  3.3960242 | 159.922109 |\n",
       "| 1e+05 |  0.038361013 |  6.1075860 | 130.482295 |\n",
       "| 5e+05 | -0.008005474 | 19.7957853 |  30.910567 |\n",
       "| 1e+06 | -0.030075612 | 26.3112767 |  12.273914 |\n",
       "| 5e+06 | -0.041213335 | 29.5993277 |   9.911209 |\n",
       "| 5e+06 | -0.041213335 | 29.5993277 |   9.911209 |\n",
       "| 1e+07 | -0.041215120 | 29.5998547 |   9.911209 |\n",
       "\n"
      ],
      "text/plain": [
       "   num_iter w            b          loss      \n",
       "1  1e+01     0.057789656  0.3721227 196.542081\n",
       "2  1e+02     0.057769472  0.3778689 196.468704\n",
       "3  5e+02     0.057683010  0.4033941 196.142934\n",
       "4  1e+03     0.057575038  0.4352692 195.736520\n",
       "5  5e+03     0.056715498  0.6890205 192.516979\n",
       "6  1e+04     0.055651582  1.0031072 188.570881\n",
       "7  5e+04     0.047545976  3.3960242 159.922109\n",
       "8  1e+05     0.038361013  6.1075860 130.482295\n",
       "9  5e+05    -0.008005474 19.7957853  30.910567\n",
       "10 1e+06    -0.030075612 26.3112767  12.273914\n",
       "11 5e+06    -0.041213335 29.5993277   9.911209\n",
       "12 5e+06    -0.041213335 29.5993277   9.911209\n",
       "13 1e+07    -0.041215120 29.5998547   9.911209"
      ]
     },
     "metadata": {},
     "output_type": "display_data"
    },
    {
     "data": {
      "image/png": "[encoded data removed]",
      "text/plain": [
       "plot without title"
      ]
     },
     "metadata": {
      "image/png": {
       "height": 240,
       "width": 360
      },
      "text/plain": {
       "height": 240,
       "width": 360
      }
     },
     "output_type": "display_data"
    },
    {
     "data": {
      "image/png": "[encoded data removed]",
      "text/plain": [
       "plot without title"
      ]
     },
     "metadata": {
      "image/png": {
       "height": 240,
       "width": 360
      },
      "text/plain": {
       "height": 240,
       "width": 360
      }
     },
     "output_type": "display_data"
    }
   ],
   "source": [
    "res <- res %>% arrange(num_iter)\n",
    "res\n",
    "options(repr.plot.width = 6, repr.plot.height = 4)\n",
    "plot(res$loss ~ res$num_iter, type=\"l\",xlab=\"Number of iterations\", ylab=\"Loss (MSE)\")\n",
    "plot(log10(res$loss) ~ log10(res$num_iter), type=\"l\",xlab=\"Number of iterations\", ylab=\"Loss (MSE)\")"
   ]
  }
 ],
 "metadata": {
  "kernelspec": {
   "display_name": "R",
   "language": "R",
   "name": "ir"
  },
  "language_info": {
   "codemirror_mode": "r",
   "file_extension": ".r",
   "mimetype": "text/x-r-source",
   "name": "R",
   "pygments_lexer": "r",
   "version": "3.6.1"
  }
 },
 "nbformat": 4,
 "nbformat_minor": 2
}
