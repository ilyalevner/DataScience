{
 "cells": [
  {
   "cell_type": "markdown",
   "metadata": {},
   "source": [
    "# Preparing the data for modeling"
   ]
  },
  {
   "cell_type": "markdown",
   "metadata": {},
   "source": [
    "## Subsetting the dataset\n",
    " \n",
    "When our flat-file is ready for modeling we have to procede to generate the partitions that we will use for modeling. No matter which method we will use for training our data, we have to generate first a test dataset. This test dataset has to be set on hold aside and only used at the end of the whole process of training and selecting the best model.\n",
    " \n",
    "After we selected the test dataset we proceed to use the rest of the data for training the models. There are three main strategies for that:\n",
    " \n",
    "* Dividing into train and dev\n",
    "* Using Cross-validation\n",
    "* Using Bootstrapping\n",
    "\n",
    "\n",
    "## Test dataset"
   ]
  },
  {
   "cell_type": "code",
   "execution_count": 124,
   "metadata": {},
   "outputs": [],
   "source": [
    "data <- iris"
   ]
  },
  {
   "cell_type": "code",
   "execution_count": 125,
   "metadata": {},
   "outputs": [
    {
     "data": {
      "text/html": [
       "<table>\n",
       "<caption>A data.frame: 6 × 5</caption>\n",
       "<thead>\n",
       "\t<tr><th scope=col>Sepal.Length</th><th scope=col>Sepal.Width</th><th scope=col>Petal.Length</th><th scope=col>Petal.Width</th><th scope=col>Species</th></tr>\n",
       "\t<tr><th scope=col>&lt;dbl&gt;</th><th scope=col>&lt;dbl&gt;</th><th scope=col>&lt;dbl&gt;</th><th scope=col>&lt;dbl&gt;</th><th scope=col>&lt;fct&gt;</th></tr>\n",
       "</thead>\n",
       "<tbody>\n",
       "\t<tr><td>5.1</td><td>3.5</td><td>1.4</td><td>0.2</td><td>setosa</td></tr>\n",
       "\t<tr><td>4.9</td><td>3.0</td><td>1.4</td><td>0.2</td><td>setosa</td></tr>\n",
       "\t<tr><td>4.7</td><td>3.2</td><td>1.3</td><td>0.2</td><td>setosa</td></tr>\n",
       "\t<tr><td>4.6</td><td>3.1</td><td>1.5</td><td>0.2</td><td>setosa</td></tr>\n",
       "\t<tr><td>5.0</td><td>3.6</td><td>1.4</td><td>0.2</td><td>setosa</td></tr>\n",
       "\t<tr><td>5.4</td><td>3.9</td><td>1.7</td><td>0.4</td><td>setosa</td></tr>\n",
       "</tbody>\n",
       "</table>\n"
      ],
      "text/latex": [
       "A data.frame: 6 × 5\n",
       "\\begin{tabular}{r|lllll}\n",
       " Sepal.Length & Sepal.Width & Petal.Length & Petal.Width & Species\\\\\n",
       " <dbl> & <dbl> & <dbl> & <dbl> & <fct>\\\\\n",
       "\\hline\n",
       "\t 5.1 & 3.5 & 1.4 & 0.2 & setosa\\\\\n",
       "\t 4.9 & 3.0 & 1.4 & 0.2 & setosa\\\\\n",
       "\t 4.7 & 3.2 & 1.3 & 0.2 & setosa\\\\\n",
       "\t 4.6 & 3.1 & 1.5 & 0.2 & setosa\\\\\n",
       "\t 5.0 & 3.6 & 1.4 & 0.2 & setosa\\\\\n",
       "\t 5.4 & 3.9 & 1.7 & 0.4 & setosa\\\\\n",
       "\\end{tabular}\n"
      ],
      "text/markdown": [
       "\n",
       "A data.frame: 6 × 5\n",
       "\n",
       "| Sepal.Length &lt;dbl&gt; | Sepal.Width &lt;dbl&gt; | Petal.Length &lt;dbl&gt; | Petal.Width &lt;dbl&gt; | Species &lt;fct&gt; |\n",
       "|---|---|---|---|---|\n",
       "| 5.1 | 3.5 | 1.4 | 0.2 | setosa |\n",
       "| 4.9 | 3.0 | 1.4 | 0.2 | setosa |\n",
       "| 4.7 | 3.2 | 1.3 | 0.2 | setosa |\n",
       "| 4.6 | 3.1 | 1.5 | 0.2 | setosa |\n",
       "| 5.0 | 3.6 | 1.4 | 0.2 | setosa |\n",
       "| 5.4 | 3.9 | 1.7 | 0.4 | setosa |\n",
       "\n"
      ],
      "text/plain": [
       "  Sepal.Length Sepal.Width Petal.Length Petal.Width Species\n",
       "1 5.1          3.5         1.4          0.2         setosa \n",
       "2 4.9          3.0         1.4          0.2         setosa \n",
       "3 4.7          3.2         1.3          0.2         setosa \n",
       "4 4.6          3.1         1.5          0.2         setosa \n",
       "5 5.0          3.6         1.4          0.2         setosa \n",
       "6 5.4          3.9         1.7          0.4         setosa "
      ]
     },
     "metadata": {},
     "output_type": "display_data"
    }
   ],
   "source": [
    "head(data)"
   ]
  },
  {
   "cell_type": "code",
   "execution_count": 126,
   "metadata": {},
   "outputs": [
    {
     "data": {
      "text/plain": [
       "  Sepal.Length    Sepal.Width     Petal.Length    Petal.Width   \n",
       " Min.   :4.300   Min.   :2.000   Min.   :1.000   Min.   :0.100  \n",
       " 1st Qu.:5.100   1st Qu.:2.800   1st Qu.:1.600   1st Qu.:0.300  \n",
       " Median :5.800   Median :3.000   Median :4.350   Median :1.300  \n",
       " Mean   :5.843   Mean   :3.057   Mean   :3.758   Mean   :1.199  \n",
       " 3rd Qu.:6.400   3rd Qu.:3.300   3rd Qu.:5.100   3rd Qu.:1.800  \n",
       " Max.   :7.900   Max.   :4.400   Max.   :6.900   Max.   :2.500  \n",
       "       Species  \n",
       " setosa    :50  \n",
       " versicolor:50  \n",
       " virginica :50  \n",
       "                \n",
       "                \n",
       "                "
      ]
     },
     "metadata": {},
     "output_type": "display_data"
    }
   ],
   "source": [
    "summary(data)"
   ]
  },
  {
   "cell_type": "code",
   "execution_count": 119,
   "metadata": {},
   "outputs": [],
   "source": [
    "#library(devtools)\n",
    "#install_github(\"karpatit/mechkar\")\n",
    "require(mechkar)"
   ]
  },
  {
   "cell_type": "code",
   "execution_count": 127,
   "metadata": {},
   "outputs": [
    {
     "name": "stdout",
     "output_type": "stream",
     "text": [
      "  |======================================================================| 100%"
     ]
    },
    {
     "name": "stderr",
     "output_type": "stream",
     "text": [
      "Coefficient covariances computed by hccm()\n",
      "\n",
      "Coefficient covariances computed by hccm()\n",
      "\n",
      "Coefficient covariances computed by hccm()\n",
      "\n"
     ]
    },
    {
     "data": {
      "text/html": [
       "<table>\n",
       "<caption>A tibble: 12 × 7</caption>\n",
       "<thead>\n",
       "\t<tr><th scope=col>V1</th><th scope=col>V2</th><th scope=col>Pop</th><th scope=col>setosa</th><th scope=col>versicolor</th><th scope=col>virginica</th><th scope=col>pval</th></tr>\n",
       "\t<tr><th scope=col>&lt;chr&gt;</th><th scope=col>&lt;chr&gt;</th><th scope=col>&lt;chr&gt;</th><th scope=col>&lt;fct&gt;</th><th scope=col>&lt;fct&gt;</th><th scope=col>&lt;fct&gt;</th><th scope=col>&lt;fct&gt;</th></tr>\n",
       "</thead>\n",
       "<tbody>\n",
       "\t<tr><td>Individuals </td><td>n           </td><td>150          </td><td>50           </td><td>50           </td><td>50           </td><td>NA</td></tr>\n",
       "\t<tr><td>Sepal.Length</td><td>Mean (SD)   </td><td>5.8 (0.8)    </td><td>5.0 (0.4)    </td><td>5.9 (0.5)    </td><td>6.6 (0.6)    </td><td>NA</td></tr>\n",
       "\t<tr><td>Sepal.Length</td><td>Median (IQR)</td><td>5.8 (5.1-6.4)</td><td>5.0 (4.8-5.2)</td><td>5.9 (5.6-6.3)</td><td>6.5 (6.2-6.9)</td><td>0 </td></tr>\n",
       "\t<tr><td>Sepal.Width </td><td>Mean (SD)   </td><td>3.1 (0.4)    </td><td>3.4 (0.4)    </td><td>2.8 (0.3)    </td><td>3.0 (0.3)    </td><td>NA</td></tr>\n",
       "\t<tr><td>Sepal.Width </td><td>Median (IQR)</td><td>3.0 (2.8-3.3)</td><td>3.4 (3.2-3.7)</td><td>2.8 (2.5-3.0)</td><td>3.0 (2.8-3.2)</td><td>0 </td></tr>\n",
       "\t<tr><td>Petal.Length</td><td>Mean (SD)   </td><td>3.8 (1.8)    </td><td>1.5 (0.2)    </td><td>4.3 (0.5)    </td><td>5.6 (0.6)    </td><td>NA</td></tr>\n",
       "\t<tr><td>Petal.Length</td><td>Median (IQR)</td><td>4.3 (1.6-5.1)</td><td>1.5 (1.4-1.6)</td><td>4.3 (4.0-4.6)</td><td>5.5 (5.1-5.9)</td><td>0 </td></tr>\n",
       "\t<tr><td>Petal.Width </td><td>Mean (SD)   </td><td>1.2 (0.8)    </td><td>0.2 (0.1)    </td><td>1.3 (0.2)    </td><td>2.0 (0.3)    </td><td>NA</td></tr>\n",
       "\t<tr><td>Petal.Width </td><td>Median (IQR)</td><td>1.3 (0.3-1.8)</td><td>0.2 (0.2-0.3)</td><td>1.3 (1.2-1.5)</td><td>2.0 (1.8-2.3)</td><td>0 </td></tr>\n",
       "\t<tr><td>Species     </td><td>setosa      </td><td>50 (33.3%)   </td><td>50 (100.0%)  </td><td>0 (0.0%)     </td><td>0 (0.0%)     </td><td>NA</td></tr>\n",
       "\t<tr><td>Species     </td><td>versicolor  </td><td>50 (33.3%)   </td><td>0 (0.0%)     </td><td>50 (100.0%)  </td><td>0 (0.0%)     </td><td>0 </td></tr>\n",
       "\t<tr><td>Species     </td><td>virginica   </td><td>50 (33.3%)   </td><td>0 (0.0%)     </td><td>0 (0.0%)     </td><td>50 (100.0%)  </td><td>NA</td></tr>\n",
       "</tbody>\n",
       "</table>\n"
      ],
      "text/latex": [
       "A tibble: 12 × 7\n",
       "\\begin{tabular}{r|lllllll}\n",
       " V1 & V2 & Pop & setosa & versicolor & virginica & pval\\\\\n",
       " <chr> & <chr> & <chr> & <fct> & <fct> & <fct> & <fct>\\\\\n",
       "\\hline\n",
       "\t Individuals  & n            & 150           & 50            & 50            & 50            & NA\\\\\n",
       "\t Sepal.Length & Mean (SD)    & 5.8 (0.8)     & 5.0 (0.4)     & 5.9 (0.5)     & 6.6 (0.6)     & NA\\\\\n",
       "\t Sepal.Length & Median (IQR) & 5.8 (5.1-6.4) & 5.0 (4.8-5.2) & 5.9 (5.6-6.3) & 6.5 (6.2-6.9) & 0 \\\\\n",
       "\t Sepal.Width  & Mean (SD)    & 3.1 (0.4)     & 3.4 (0.4)     & 2.8 (0.3)     & 3.0 (0.3)     & NA\\\\\n",
       "\t Sepal.Width  & Median (IQR) & 3.0 (2.8-3.3) & 3.4 (3.2-3.7) & 2.8 (2.5-3.0) & 3.0 (2.8-3.2) & 0 \\\\\n",
       "\t Petal.Length & Mean (SD)    & 3.8 (1.8)     & 1.5 (0.2)     & 4.3 (0.5)     & 5.6 (0.6)     & NA\\\\\n",
       "\t Petal.Length & Median (IQR) & 4.3 (1.6-5.1) & 1.5 (1.4-1.6) & 4.3 (4.0-4.6) & 5.5 (5.1-5.9) & 0 \\\\\n",
       "\t Petal.Width  & Mean (SD)    & 1.2 (0.8)     & 0.2 (0.1)     & 1.3 (0.2)     & 2.0 (0.3)     & NA\\\\\n",
       "\t Petal.Width  & Median (IQR) & 1.3 (0.3-1.8) & 0.2 (0.2-0.3) & 1.3 (1.2-1.5) & 2.0 (1.8-2.3) & 0 \\\\\n",
       "\t Species      & setosa       & 50 (33.3\\%)    & 50 (100.0\\%)   & 0 (0.0\\%)      & 0 (0.0\\%)      & NA\\\\\n",
       "\t Species      & versicolor   & 50 (33.3\\%)    & 0 (0.0\\%)      & 50 (100.0\\%)   & 0 (0.0\\%)      & 0 \\\\\n",
       "\t Species      & virginica    & 50 (33.3\\%)    & 0 (0.0\\%)      & 0 (0.0\\%)      & 50 (100.0\\%)   & NA\\\\\n",
       "\\end{tabular}\n"
      ],
      "text/markdown": [
       "\n",
       "A tibble: 12 × 7\n",
       "\n",
       "| V1 &lt;chr&gt; | V2 &lt;chr&gt; | Pop &lt;chr&gt; | setosa &lt;fct&gt; | versicolor &lt;fct&gt; | virginica &lt;fct&gt; | pval &lt;fct&gt; |\n",
       "|---|---|---|---|---|---|---|\n",
       "| Individuals  | n            | 150           | 50            | 50            | 50            | NA |\n",
       "| Sepal.Length | Mean (SD)    | 5.8 (0.8)     | 5.0 (0.4)     | 5.9 (0.5)     | 6.6 (0.6)     | NA |\n",
       "| Sepal.Length | Median (IQR) | 5.8 (5.1-6.4) | 5.0 (4.8-5.2) | 5.9 (5.6-6.3) | 6.5 (6.2-6.9) | 0  |\n",
       "| Sepal.Width  | Mean (SD)    | 3.1 (0.4)     | 3.4 (0.4)     | 2.8 (0.3)     | 3.0 (0.3)     | NA |\n",
       "| Sepal.Width  | Median (IQR) | 3.0 (2.8-3.3) | 3.4 (3.2-3.7) | 2.8 (2.5-3.0) | 3.0 (2.8-3.2) | 0  |\n",
       "| Petal.Length | Mean (SD)    | 3.8 (1.8)     | 1.5 (0.2)     | 4.3 (0.5)     | 5.6 (0.6)     | NA |\n",
       "| Petal.Length | Median (IQR) | 4.3 (1.6-5.1) | 1.5 (1.4-1.6) | 4.3 (4.0-4.6) | 5.5 (5.1-5.9) | 0  |\n",
       "| Petal.Width  | Mean (SD)    | 1.2 (0.8)     | 0.2 (0.1)     | 1.3 (0.2)     | 2.0 (0.3)     | NA |\n",
       "| Petal.Width  | Median (IQR) | 1.3 (0.3-1.8) | 0.2 (0.2-0.3) | 1.3 (1.2-1.5) | 2.0 (1.8-2.3) | 0  |\n",
       "| Species      | setosa       | 50 (33.3%)    | 50 (100.0%)   | 0 (0.0%)      | 0 (0.0%)      | NA |\n",
       "| Species      | versicolor   | 50 (33.3%)    | 0 (0.0%)      | 50 (100.0%)   | 0 (0.0%)      | 0  |\n",
       "| Species      | virginica    | 50 (33.3%)    | 0 (0.0%)      | 0 (0.0%)      | 50 (100.0%)   | NA |\n",
       "\n"
      ],
      "text/plain": [
       "   V1           V2           Pop           setosa        versicolor   \n",
       "1  Individuals  n            150           50            50           \n",
       "2  Sepal.Length Mean (SD)    5.8 (0.8)     5.0 (0.4)     5.9 (0.5)    \n",
       "3  Sepal.Length Median (IQR) 5.8 (5.1-6.4) 5.0 (4.8-5.2) 5.9 (5.6-6.3)\n",
       "4  Sepal.Width  Mean (SD)    3.1 (0.4)     3.4 (0.4)     2.8 (0.3)    \n",
       "5  Sepal.Width  Median (IQR) 3.0 (2.8-3.3) 3.4 (3.2-3.7) 2.8 (2.5-3.0)\n",
       "6  Petal.Length Mean (SD)    3.8 (1.8)     1.5 (0.2)     4.3 (0.5)    \n",
       "7  Petal.Length Median (IQR) 4.3 (1.6-5.1) 1.5 (1.4-1.6) 4.3 (4.0-4.6)\n",
       "8  Petal.Width  Mean (SD)    1.2 (0.8)     0.2 (0.1)     1.3 (0.2)    \n",
       "9  Petal.Width  Median (IQR) 1.3 (0.3-1.8) 0.2 (0.2-0.3) 1.3 (1.2-1.5)\n",
       "10 Species      setosa       50 (33.3%)    50 (100.0%)   0 (0.0%)     \n",
       "11 Species      versicolor   50 (33.3%)    0 (0.0%)      50 (100.0%)  \n",
       "12 Species      virginica    50 (33.3%)    0 (0.0%)      0 (0.0%)     \n",
       "   virginica     pval\n",
       "1  50            NA  \n",
       "2  6.6 (0.6)     NA  \n",
       "3  6.5 (6.2-6.9) 0   \n",
       "4  3.0 (0.3)     NA  \n",
       "5  3.0 (2.8-3.2) 0   \n",
       "6  5.6 (0.6)     NA  \n",
       "7  5.5 (5.1-5.9) 0   \n",
       "8  2.0 (0.3)     NA  \n",
       "9  2.0 (1.8-2.3) 0   \n",
       "10 0 (0.0%)      NA  \n",
       "11 0 (0.0%)      0   \n",
       "12 50 (100.0%)   NA  "
      ]
     },
     "metadata": {},
     "output_type": "display_data"
    }
   ],
   "source": [
    "Table1(data = data,y = \"Species\")"
   ]
  },
  {
   "cell_type": "code",
   "execution_count": 8,
   "metadata": {},
   "outputs": [],
   "source": [
    "############### TRAIN_TEST #######################\n",
    "train_test <- function(data=NULL,train_name=NULL,test_name=NULL,prop=NULL,seed=123,tableone=False)\n",
    "{\n",
    "  checkTrainTest <- function(train=NULL,test=NULL) {\n",
    "     train[[\"traintest_ind_\"]] <- 1\n",
    "     test[[\"traintest_ind_\"]] <- 2\n",
    "     data <- rbind(train, test)\n",
    "     tab <- Table1(data=data, y=\"traintest_ind_\",x=names(train),messages = F)\n",
    "     vars <- subset(tab, pval < 0.05)$V1\n",
    "     if (length(vars)==1) {\n",
    "        message(\"You got a perfectly balanced training and test datasets\")\n",
    "        message(\" \")\n",
    "     } else {\n",
    "        message(\"WARNING: The following variables are not balanced between the training and test datasets:\")\n",
    "       for (v in vars) { message(paste(\"*\",v)) }\n",
    "          message(\"You can try to change the seed value until you get a balanced partition.\")\n",
    "          message(\"Alternatively, you can ommit this warning and exclude those variables from your model\")\n",
    "          message(\" \")\n",
    "       }\n",
    "       return(tab)\n",
    "  }\n",
    "  ## set the seed to make your partition reproductible\n",
    "  set.seed(seed)\n",
    "  smp_size <- floor(prop * nrow(data))\n",
    "  train_ind <- sample(seq_len(nrow(data)), size = smp_size)\n",
    "  assign(train_name, data[train_ind, ], envir=globalenv())\n",
    "  assign(test_name, data[-train_ind, ], envir=globalenv())\n",
    "  tab = checkTrainTest(get(train_name),get(test_name))\n",
    "  message(paste(\"Dataset partitioned into:\"))\n",
    "  message(paste(\" + Train dataset:\", train_name))\n",
    "  message(paste(\" + Test dataset:\", test_name))\n",
    "  if(tableone==TRUE) {\n",
    "     return(tab)\n",
    "  } \n",
    "}"
   ]
  },
  {
   "cell_type": "code",
   "execution_count": 65,
   "metadata": {},
   "outputs": [],
   "source": [
    "rm(train_test)"
   ]
  },
  {
   "cell_type": "markdown",
   "metadata": {},
   "source": [
    "## Test dataset"
   ]
  },
  {
   "cell_type": "code",
   "execution_count": 128,
   "metadata": {},
   "outputs": [
    {
     "name": "stderr",
     "output_type": "stream",
     "text": [
      "Dataset partitioned into:\n",
      "\n",
      " + Train dataset: temp\n",
      "\n",
      " + Test dataset: test\n",
      "\n"
     ]
    },
    {
     "name": "stdout",
     "output_type": "stream",
     "text": [
      "  |======================================================================| 100%"
     ]
    },
    {
     "name": "stderr",
     "output_type": "stream",
     "text": [
      "You got a perfectly balanced training and test datasets\n",
      "\n",
      " \n",
      "\n"
     ]
    }
   ],
   "source": [
    "tab1 <- train_test(data = iris, train_name = \"temp\", test_name = \"test\",prop = 0.7, seed = 123, tableone=T)"
   ]
  },
  {
   "cell_type": "code",
   "execution_count": 134,
   "metadata": {},
   "outputs": [
    {
     "data": {
      "text/html": [
       "<ol class=list-inline>\n",
       "\t<li>105</li>\n",
       "\t<li>5</li>\n",
       "</ol>\n"
      ],
      "text/latex": [
       "\\begin{enumerate*}\n",
       "\\item 105\n",
       "\\item 5\n",
       "\\end{enumerate*}\n"
      ],
      "text/markdown": [
       "1. 105\n",
       "2. 5\n",
       "\n",
       "\n"
      ],
      "text/plain": [
       "[1] 105   5"
      ]
     },
     "metadata": {},
     "output_type": "display_data"
    },
    {
     "data": {
      "text/html": [
       "<ol class=list-inline>\n",
       "\t<li>45</li>\n",
       "\t<li>5</li>\n",
       "</ol>\n"
      ],
      "text/latex": [
       "\\begin{enumerate*}\n",
       "\\item 45\n",
       "\\item 5\n",
       "\\end{enumerate*}\n"
      ],
      "text/markdown": [
       "1. 45\n",
       "2. 5\n",
       "\n",
       "\n"
      ],
      "text/plain": [
       "[1] 45  5"
      ]
     },
     "metadata": {},
     "output_type": "display_data"
    }
   ],
   "source": [
    "dim(temp)\n",
    "dim(test)"
   ]
  },
  {
   "cell_type": "code",
   "execution_count": 135,
   "metadata": {},
   "outputs": [
    {
     "data": {
      "text/html": [
       "<table>\n",
       "<caption>A tibble: 14 × 6</caption>\n",
       "<thead>\n",
       "\t<tr><th scope=col>V1</th><th scope=col>V2</th><th scope=col>Pop</th><th scope=col>1</th><th scope=col>2</th><th scope=col>pval</th></tr>\n",
       "\t<tr><th scope=col>&lt;chr&gt;</th><th scope=col>&lt;chr&gt;</th><th scope=col>&lt;chr&gt;</th><th scope=col>&lt;fct&gt;</th><th scope=col>&lt;fct&gt;</th><th scope=col>&lt;fct&gt;</th></tr>\n",
       "</thead>\n",
       "<tbody>\n",
       "\t<tr><td>Individuals   </td><td>n           </td><td>150          </td><td>105          </td><td>45           </td><td>NA   </td></tr>\n",
       "\t<tr><td>Sepal.Length  </td><td>Mean (SD)   </td><td>5.8 (0.8)    </td><td>5.8 (0.9)    </td><td>5.8 (0.7)    </td><td>NA   </td></tr>\n",
       "\t<tr><td>Sepal.Length  </td><td>Median (IQR)</td><td>5.8 (5.1-6.4)</td><td>5.8 (5.1-6.4)</td><td>5.8 (5.2-6.5)</td><td>0.991</td></tr>\n",
       "\t<tr><td>Sepal.Width   </td><td>Mean (SD)   </td><td>3.1 (0.4)    </td><td>3.1 (0.4)    </td><td>3.1 (0.4)    </td><td>NA   </td></tr>\n",
       "\t<tr><td>Sepal.Width   </td><td>Median (IQR)</td><td>3.0 (2.8-3.3)</td><td>3.0 (2.8-3.4)</td><td>3.0 (2.8-3.3)</td><td>0.832</td></tr>\n",
       "\t<tr><td>Petal.Length  </td><td>Mean (SD)   </td><td>3.8 (1.8)    </td><td>3.8 (1.8)    </td><td>3.7 (1.7)    </td><td>NA   </td></tr>\n",
       "\t<tr><td>Petal.Length  </td><td>Median (IQR)</td><td>4.3 (1.6-5.1)</td><td>4.4 (1.6-5.1)</td><td>4.2 (1.5-5.3)</td><td>0.959</td></tr>\n",
       "\t<tr><td>Petal.Width   </td><td>Mean (SD)   </td><td>1.2 (0.8)    </td><td>1.2 (0.8)    </td><td>1.2 (0.8)    </td><td>NA   </td></tr>\n",
       "\t<tr><td>Petal.Width   </td><td>Median (IQR)</td><td>1.3 (0.3-1.8)</td><td>1.4 (0.3-1.8)</td><td>1.3 (0.3-1.8)</td><td>0.95 </td></tr>\n",
       "\t<tr><td>Species       </td><td>setosa      </td><td>50 (33.3%)   </td><td>36 (34.3%)   </td><td>14 (31.1%)   </td><td>NA   </td></tr>\n",
       "\t<tr><td>Species       </td><td>versicolor  </td><td>50 (33.3%)   </td><td>32 (30.5%)   </td><td>18 (40.0%)   </td><td>0.513</td></tr>\n",
       "\t<tr><td>Species       </td><td>virginica   </td><td>50 (33.3%)   </td><td>37 (35.2%)   </td><td>13 (28.9%)   </td><td>NA   </td></tr>\n",
       "\t<tr><td>traintest_ind_</td><td>Mean (SD)   </td><td>1.3 (0.5)    </td><td>NA           </td><td>NA           </td><td>NA   </td></tr>\n",
       "\t<tr><td>traintest_ind_</td><td>Median (IQR)</td><td>1.0 (1.0-2.0)</td><td>NA           </td><td>NA           </td><td>0    </td></tr>\n",
       "</tbody>\n",
       "</table>\n"
      ],
      "text/latex": [
       "A tibble: 14 × 6\n",
       "\\begin{tabular}{r|llllll}\n",
       " V1 & V2 & Pop & 1 & 2 & pval\\\\\n",
       " <chr> & <chr> & <chr> & <fct> & <fct> & <fct>\\\\\n",
       "\\hline\n",
       "\t Individuals    & n            & 150           & 105           & 45            & NA   \\\\\n",
       "\t Sepal.Length   & Mean (SD)    & 5.8 (0.8)     & 5.8 (0.9)     & 5.8 (0.7)     & NA   \\\\\n",
       "\t Sepal.Length   & Median (IQR) & 5.8 (5.1-6.4) & 5.8 (5.1-6.4) & 5.8 (5.2-6.5) & 0.991\\\\\n",
       "\t Sepal.Width    & Mean (SD)    & 3.1 (0.4)     & 3.1 (0.4)     & 3.1 (0.4)     & NA   \\\\\n",
       "\t Sepal.Width    & Median (IQR) & 3.0 (2.8-3.3) & 3.0 (2.8-3.4) & 3.0 (2.8-3.3) & 0.832\\\\\n",
       "\t Petal.Length   & Mean (SD)    & 3.8 (1.8)     & 3.8 (1.8)     & 3.7 (1.7)     & NA   \\\\\n",
       "\t Petal.Length   & Median (IQR) & 4.3 (1.6-5.1) & 4.4 (1.6-5.1) & 4.2 (1.5-5.3) & 0.959\\\\\n",
       "\t Petal.Width    & Mean (SD)    & 1.2 (0.8)     & 1.2 (0.8)     & 1.2 (0.8)     & NA   \\\\\n",
       "\t Petal.Width    & Median (IQR) & 1.3 (0.3-1.8) & 1.4 (0.3-1.8) & 1.3 (0.3-1.8) & 0.95 \\\\\n",
       "\t Species        & setosa       & 50 (33.3\\%)    & 36 (34.3\\%)    & 14 (31.1\\%)    & NA   \\\\\n",
       "\t Species        & versicolor   & 50 (33.3\\%)    & 32 (30.5\\%)    & 18 (40.0\\%)    & 0.513\\\\\n",
       "\t Species        & virginica    & 50 (33.3\\%)    & 37 (35.2\\%)    & 13 (28.9\\%)    & NA   \\\\\n",
       "\t traintest\\_ind\\_ & Mean (SD)    & 1.3 (0.5)     & NA            & NA            & NA   \\\\\n",
       "\t traintest\\_ind\\_ & Median (IQR) & 1.0 (1.0-2.0) & NA            & NA            & 0    \\\\\n",
       "\\end{tabular}\n"
      ],
      "text/markdown": [
       "\n",
       "A tibble: 14 × 6\n",
       "\n",
       "| V1 &lt;chr&gt; | V2 &lt;chr&gt; | Pop &lt;chr&gt; | 1 &lt;fct&gt; | 2 &lt;fct&gt; | pval &lt;fct&gt; |\n",
       "|---|---|---|---|---|---|\n",
       "| Individuals    | n            | 150           | 105           | 45            | NA    |\n",
       "| Sepal.Length   | Mean (SD)    | 5.8 (0.8)     | 5.8 (0.9)     | 5.8 (0.7)     | NA    |\n",
       "| Sepal.Length   | Median (IQR) | 5.8 (5.1-6.4) | 5.8 (5.1-6.4) | 5.8 (5.2-6.5) | 0.991 |\n",
       "| Sepal.Width    | Mean (SD)    | 3.1 (0.4)     | 3.1 (0.4)     | 3.1 (0.4)     | NA    |\n",
       "| Sepal.Width    | Median (IQR) | 3.0 (2.8-3.3) | 3.0 (2.8-3.4) | 3.0 (2.8-3.3) | 0.832 |\n",
       "| Petal.Length   | Mean (SD)    | 3.8 (1.8)     | 3.8 (1.8)     | 3.7 (1.7)     | NA    |\n",
       "| Petal.Length   | Median (IQR) | 4.3 (1.6-5.1) | 4.4 (1.6-5.1) | 4.2 (1.5-5.3) | 0.959 |\n",
       "| Petal.Width    | Mean (SD)    | 1.2 (0.8)     | 1.2 (0.8)     | 1.2 (0.8)     | NA    |\n",
       "| Petal.Width    | Median (IQR) | 1.3 (0.3-1.8) | 1.4 (0.3-1.8) | 1.3 (0.3-1.8) | 0.95  |\n",
       "| Species        | setosa       | 50 (33.3%)    | 36 (34.3%)    | 14 (31.1%)    | NA    |\n",
       "| Species        | versicolor   | 50 (33.3%)    | 32 (30.5%)    | 18 (40.0%)    | 0.513 |\n",
       "| Species        | virginica    | 50 (33.3%)    | 37 (35.2%)    | 13 (28.9%)    | NA    |\n",
       "| traintest_ind_ | Mean (SD)    | 1.3 (0.5)     | NA            | NA            | NA    |\n",
       "| traintest_ind_ | Median (IQR) | 1.0 (1.0-2.0) | NA            | NA            | 0     |\n",
       "\n"
      ],
      "text/plain": [
       "   V1             V2           Pop           1             2             pval \n",
       "1  Individuals    n            150           105           45            NA   \n",
       "2  Sepal.Length   Mean (SD)    5.8 (0.8)     5.8 (0.9)     5.8 (0.7)     NA   \n",
       "3  Sepal.Length   Median (IQR) 5.8 (5.1-6.4) 5.8 (5.1-6.4) 5.8 (5.2-6.5) 0.991\n",
       "4  Sepal.Width    Mean (SD)    3.1 (0.4)     3.1 (0.4)     3.1 (0.4)     NA   \n",
       "5  Sepal.Width    Median (IQR) 3.0 (2.8-3.3) 3.0 (2.8-3.4) 3.0 (2.8-3.3) 0.832\n",
       "6  Petal.Length   Mean (SD)    3.8 (1.8)     3.8 (1.8)     3.7 (1.7)     NA   \n",
       "7  Petal.Length   Median (IQR) 4.3 (1.6-5.1) 4.4 (1.6-5.1) 4.2 (1.5-5.3) 0.959\n",
       "8  Petal.Width    Mean (SD)    1.2 (0.8)     1.2 (0.8)     1.2 (0.8)     NA   \n",
       "9  Petal.Width    Median (IQR) 1.3 (0.3-1.8) 1.4 (0.3-1.8) 1.3 (0.3-1.8) 0.95 \n",
       "10 Species        setosa       50 (33.3%)    36 (34.3%)    14 (31.1%)    NA   \n",
       "11 Species        versicolor   50 (33.3%)    32 (30.5%)    18 (40.0%)    0.513\n",
       "12 Species        virginica    50 (33.3%)    37 (35.2%)    13 (28.9%)    NA   \n",
       "13 traintest_ind_ Mean (SD)    1.3 (0.5)     NA            NA            NA   \n",
       "14 traintest_ind_ Median (IQR) 1.0 (1.0-2.0) NA            NA            0    "
      ]
     },
     "metadata": {},
     "output_type": "display_data"
    }
   ],
   "source": [
    "tab1"
   ]
  },
  {
   "cell_type": "markdown",
   "metadata": {},
   "source": [
    "## Train and Dev"
   ]
  },
  {
   "cell_type": "code",
   "execution_count": 136,
   "metadata": {},
   "outputs": [
    {
     "name": "stderr",
     "output_type": "stream",
     "text": [
      "Dataset partitioned into:\n",
      "\n",
      " + Train dataset: train\n",
      "\n",
      " + Test dataset: dev\n",
      "\n"
     ]
    },
    {
     "name": "stdout",
     "output_type": "stream",
     "text": [
      "  |======================================================================| 100%"
     ]
    },
    {
     "name": "stderr",
     "output_type": "stream",
     "text": [
      "You got a perfectly balanced training and test datasets\n",
      "\n",
      " \n",
      "\n"
     ]
    }
   ],
   "source": [
    "tab2 <- train_test(data = temp, train_name = \"train\", test_name = \"dev\",prop = 0.8, seed = 123, tableone=T)"
   ]
  },
  {
   "cell_type": "code",
   "execution_count": 137,
   "metadata": {},
   "outputs": [
    {
     "data": {
      "text/html": [
       "<ol class=list-inline>\n",
       "\t<li>84</li>\n",
       "\t<li>5</li>\n",
       "</ol>\n"
      ],
      "text/latex": [
       "\\begin{enumerate*}\n",
       "\\item 84\n",
       "\\item 5\n",
       "\\end{enumerate*}\n"
      ],
      "text/markdown": [
       "1. 84\n",
       "2. 5\n",
       "\n",
       "\n"
      ],
      "text/plain": [
       "[1] 84  5"
      ]
     },
     "metadata": {},
     "output_type": "display_data"
    },
    {
     "data": {
      "text/html": [
       "<ol class=list-inline>\n",
       "\t<li>21</li>\n",
       "\t<li>5</li>\n",
       "</ol>\n"
      ],
      "text/latex": [
       "\\begin{enumerate*}\n",
       "\\item 21\n",
       "\\item 5\n",
       "\\end{enumerate*}\n"
      ],
      "text/markdown": [
       "1. 21\n",
       "2. 5\n",
       "\n",
       "\n"
      ],
      "text/plain": [
       "[1] 21  5"
      ]
     },
     "metadata": {},
     "output_type": "display_data"
    }
   ],
   "source": [
    "dim(train)\n",
    "dim(dev)"
   ]
  },
  {
   "cell_type": "code",
   "execution_count": 138,
   "metadata": {},
   "outputs": [
    {
     "data": {
      "text/html": [
       "<table>\n",
       "<caption>A tibble: 14 × 6</caption>\n",
       "<thead>\n",
       "\t<tr><th scope=col>V1</th><th scope=col>V2</th><th scope=col>Pop</th><th scope=col>1</th><th scope=col>2</th><th scope=col>pval</th></tr>\n",
       "\t<tr><th scope=col>&lt;chr&gt;</th><th scope=col>&lt;chr&gt;</th><th scope=col>&lt;chr&gt;</th><th scope=col>&lt;fct&gt;</th><th scope=col>&lt;fct&gt;</th><th scope=col>&lt;fct&gt;</th></tr>\n",
       "</thead>\n",
       "<tbody>\n",
       "\t<tr><td>Individuals   </td><td>n           </td><td>105          </td><td>84           </td><td>21           </td><td>NA   </td></tr>\n",
       "\t<tr><td>Sepal.Length  </td><td>Mean (SD)   </td><td>5.8 (0.9)    </td><td>5.9 (0.9)    </td><td>5.6 (0.8)    </td><td>NA   </td></tr>\n",
       "\t<tr><td>Sepal.Length  </td><td>Median (IQR)</td><td>5.8 (5.1-6.4)</td><td>5.8 (5.2-6.4)</td><td>5.8 (4.9-6.1)</td><td>0.219</td></tr>\n",
       "\t<tr><td>Sepal.Width   </td><td>Mean (SD)   </td><td>3.1 (0.4)    </td><td>3.1 (0.5)    </td><td>3.0 (0.4)    </td><td>NA   </td></tr>\n",
       "\t<tr><td>Sepal.Width   </td><td>Median (IQR)</td><td>3.0 (2.8-3.4)</td><td>3.0 (2.8-3.4)</td><td>3.0 (2.8-3.2)</td><td>0.583</td></tr>\n",
       "\t<tr><td>Petal.Length  </td><td>Mean (SD)   </td><td>3.8 (1.8)    </td><td>3.8 (1.8)    </td><td>3.7 (1.8)    </td><td>NA   </td></tr>\n",
       "\t<tr><td>Petal.Length  </td><td>Median (IQR)</td><td>4.4 (1.6-5.1)</td><td>4.4 (1.6-5.1)</td><td>4.5 (1.6-4.9)</td><td>0.765</td></tr>\n",
       "\t<tr><td>Petal.Width   </td><td>Mean (SD)   </td><td>1.2 (0.8)    </td><td>1.2 (0.7)    </td><td>1.1 (0.8)    </td><td>NA   </td></tr>\n",
       "\t<tr><td>Petal.Width   </td><td>Median (IQR)</td><td>1.4 (0.3-1.8)</td><td>1.4 (0.4-1.8)</td><td>1.4 (0.2-1.8)</td><td>0.693</td></tr>\n",
       "\t<tr><td>Species       </td><td>setosa      </td><td>36 (34.3%)   </td><td>28 (33.3%)   </td><td>8 (38.1%)    </td><td>NA   </td></tr>\n",
       "\t<tr><td>Species       </td><td>versicolor  </td><td>32 (30.5%)   </td><td>28 (33.3%)   </td><td>4 (19.0%)    </td><td>0.812</td></tr>\n",
       "\t<tr><td>Species       </td><td>virginica   </td><td>37 (35.2%)   </td><td>28 (33.3%)   </td><td>9 (42.9%)    </td><td>NA   </td></tr>\n",
       "\t<tr><td>traintest_ind_</td><td>Mean (SD)   </td><td>1.2 (0.4)    </td><td>NA           </td><td>NA           </td><td>NA   </td></tr>\n",
       "\t<tr><td>traintest_ind_</td><td>Median (IQR)</td><td>1.0 (1.0-1.0)</td><td>NA           </td><td>NA           </td><td>0    </td></tr>\n",
       "</tbody>\n",
       "</table>\n"
      ],
      "text/latex": [
       "A tibble: 14 × 6\n",
       "\\begin{tabular}{r|llllll}\n",
       " V1 & V2 & Pop & 1 & 2 & pval\\\\\n",
       " <chr> & <chr> & <chr> & <fct> & <fct> & <fct>\\\\\n",
       "\\hline\n",
       "\t Individuals    & n            & 105           & 84            & 21            & NA   \\\\\n",
       "\t Sepal.Length   & Mean (SD)    & 5.8 (0.9)     & 5.9 (0.9)     & 5.6 (0.8)     & NA   \\\\\n",
       "\t Sepal.Length   & Median (IQR) & 5.8 (5.1-6.4) & 5.8 (5.2-6.4) & 5.8 (4.9-6.1) & 0.219\\\\\n",
       "\t Sepal.Width    & Mean (SD)    & 3.1 (0.4)     & 3.1 (0.5)     & 3.0 (0.4)     & NA   \\\\\n",
       "\t Sepal.Width    & Median (IQR) & 3.0 (2.8-3.4) & 3.0 (2.8-3.4) & 3.0 (2.8-3.2) & 0.583\\\\\n",
       "\t Petal.Length   & Mean (SD)    & 3.8 (1.8)     & 3.8 (1.8)     & 3.7 (1.8)     & NA   \\\\\n",
       "\t Petal.Length   & Median (IQR) & 4.4 (1.6-5.1) & 4.4 (1.6-5.1) & 4.5 (1.6-4.9) & 0.765\\\\\n",
       "\t Petal.Width    & Mean (SD)    & 1.2 (0.8)     & 1.2 (0.7)     & 1.1 (0.8)     & NA   \\\\\n",
       "\t Petal.Width    & Median (IQR) & 1.4 (0.3-1.8) & 1.4 (0.4-1.8) & 1.4 (0.2-1.8) & 0.693\\\\\n",
       "\t Species        & setosa       & 36 (34.3\\%)    & 28 (33.3\\%)    & 8 (38.1\\%)     & NA   \\\\\n",
       "\t Species        & versicolor   & 32 (30.5\\%)    & 28 (33.3\\%)    & 4 (19.0\\%)     & 0.812\\\\\n",
       "\t Species        & virginica    & 37 (35.2\\%)    & 28 (33.3\\%)    & 9 (42.9\\%)     & NA   \\\\\n",
       "\t traintest\\_ind\\_ & Mean (SD)    & 1.2 (0.4)     & NA            & NA            & NA   \\\\\n",
       "\t traintest\\_ind\\_ & Median (IQR) & 1.0 (1.0-1.0) & NA            & NA            & 0    \\\\\n",
       "\\end{tabular}\n"
      ],
      "text/markdown": [
       "\n",
       "A tibble: 14 × 6\n",
       "\n",
       "| V1 &lt;chr&gt; | V2 &lt;chr&gt; | Pop &lt;chr&gt; | 1 &lt;fct&gt; | 2 &lt;fct&gt; | pval &lt;fct&gt; |\n",
       "|---|---|---|---|---|---|\n",
       "| Individuals    | n            | 105           | 84            | 21            | NA    |\n",
       "| Sepal.Length   | Mean (SD)    | 5.8 (0.9)     | 5.9 (0.9)     | 5.6 (0.8)     | NA    |\n",
       "| Sepal.Length   | Median (IQR) | 5.8 (5.1-6.4) | 5.8 (5.2-6.4) | 5.8 (4.9-6.1) | 0.219 |\n",
       "| Sepal.Width    | Mean (SD)    | 3.1 (0.4)     | 3.1 (0.5)     | 3.0 (0.4)     | NA    |\n",
       "| Sepal.Width    | Median (IQR) | 3.0 (2.8-3.4) | 3.0 (2.8-3.4) | 3.0 (2.8-3.2) | 0.583 |\n",
       "| Petal.Length   | Mean (SD)    | 3.8 (1.8)     | 3.8 (1.8)     | 3.7 (1.8)     | NA    |\n",
       "| Petal.Length   | Median (IQR) | 4.4 (1.6-5.1) | 4.4 (1.6-5.1) | 4.5 (1.6-4.9) | 0.765 |\n",
       "| Petal.Width    | Mean (SD)    | 1.2 (0.8)     | 1.2 (0.7)     | 1.1 (0.8)     | NA    |\n",
       "| Petal.Width    | Median (IQR) | 1.4 (0.3-1.8) | 1.4 (0.4-1.8) | 1.4 (0.2-1.8) | 0.693 |\n",
       "| Species        | setosa       | 36 (34.3%)    | 28 (33.3%)    | 8 (38.1%)     | NA    |\n",
       "| Species        | versicolor   | 32 (30.5%)    | 28 (33.3%)    | 4 (19.0%)     | 0.812 |\n",
       "| Species        | virginica    | 37 (35.2%)    | 28 (33.3%)    | 9 (42.9%)     | NA    |\n",
       "| traintest_ind_ | Mean (SD)    | 1.2 (0.4)     | NA            | NA            | NA    |\n",
       "| traintest_ind_ | Median (IQR) | 1.0 (1.0-1.0) | NA            | NA            | 0     |\n",
       "\n"
      ],
      "text/plain": [
       "   V1             V2           Pop           1             2             pval \n",
       "1  Individuals    n            105           84            21            NA   \n",
       "2  Sepal.Length   Mean (SD)    5.8 (0.9)     5.9 (0.9)     5.6 (0.8)     NA   \n",
       "3  Sepal.Length   Median (IQR) 5.8 (5.1-6.4) 5.8 (5.2-6.4) 5.8 (4.9-6.1) 0.219\n",
       "4  Sepal.Width    Mean (SD)    3.1 (0.4)     3.1 (0.5)     3.0 (0.4)     NA   \n",
       "5  Sepal.Width    Median (IQR) 3.0 (2.8-3.4) 3.0 (2.8-3.4) 3.0 (2.8-3.2) 0.583\n",
       "6  Petal.Length   Mean (SD)    3.8 (1.8)     3.8 (1.8)     3.7 (1.8)     NA   \n",
       "7  Petal.Length   Median (IQR) 4.4 (1.6-5.1) 4.4 (1.6-5.1) 4.5 (1.6-4.9) 0.765\n",
       "8  Petal.Width    Mean (SD)    1.2 (0.8)     1.2 (0.7)     1.1 (0.8)     NA   \n",
       "9  Petal.Width    Median (IQR) 1.4 (0.3-1.8) 1.4 (0.4-1.8) 1.4 (0.2-1.8) 0.693\n",
       "10 Species        setosa       36 (34.3%)    28 (33.3%)    8 (38.1%)     NA   \n",
       "11 Species        versicolor   32 (30.5%)    28 (33.3%)    4 (19.0%)     0.812\n",
       "12 Species        virginica    37 (35.2%)    28 (33.3%)    9 (42.9%)     NA   \n",
       "13 traintest_ind_ Mean (SD)    1.2 (0.4)     NA            NA            NA   \n",
       "14 traintest_ind_ Median (IQR) 1.0 (1.0-1.0) NA            NA            0    "
      ]
     },
     "metadata": {},
     "output_type": "display_data"
    }
   ],
   "source": [
    "tab2"
   ]
  },
  {
   "cell_type": "code",
   "execution_count": 139,
   "metadata": {},
   "outputs": [],
   "source": [
    "### save memeory, remove the datasets that will not be used more...\n",
    "rm(temp,data)"
   ]
  },
  {
   "cell_type": "markdown",
   "metadata": {},
   "source": [
    "Checking the distribution of the outcome on the three subsets"
   ]
  },
  {
   "cell_type": "code",
   "execution_count": 140,
   "metadata": {
    "scrolled": true
   },
   "outputs": [
    {
     "data": {
      "image/png": "[encoded data removed]",
      "text/plain": [
       "plot without title"
      ]
     },
     "metadata": {
      "image/png": {
       "height": 240,
       "width": 240
      },
      "text/plain": {
       "height": 240,
       "width": 240
      }
     },
     "output_type": "display_data"
    }
   ],
   "source": [
    "require(ggplot2)\n",
    "\n",
    "options(repr.plot.width = 4, repr.plot.height = 4)\n",
    "\n",
    "ggplot() +\n",
    "    geom_density(aes(x=train$Sepal.Width),color=\"red\",alpha=0.3) +\n",
    "    geom_density(aes(x=dev$Sepal.Width),color=\"blue\",alpha=0.3) +\n",
    "    geom_density(aes(x=test$Sepal.Width),color=\"green\",alpha=0.3)\n"
   ]
  },
  {
   "cell_type": "code",
   "execution_count": null,
   "metadata": {},
   "outputs": [],
   "source": []
  },
  {
   "cell_type": "markdown",
   "metadata": {},
   "source": [
    "# Train-Dev"
   ]
  },
  {
   "cell_type": "code",
   "execution_count": 141,
   "metadata": {},
   "outputs": [],
   "source": [
    "library(ranger)\n",
    "\n",
    "mod1 <- ranger(Species ~., data=train)\n"
   ]
  },
  {
   "cell_type": "code",
   "execution_count": 142,
   "metadata": {},
   "outputs": [
    {
     "data": {
      "text/plain": [
       "Ranger result\n",
       "\n",
       "Call:\n",
       " ranger(Species ~ ., data = train) \n",
       "\n",
       "Type:                             Classification \n",
       "Number of trees:                  500 \n",
       "Sample size:                      84 \n",
       "Number of independent variables:  4 \n",
       "Mtry:                             2 \n",
       "Target node size:                 1 \n",
       "Variable importance mode:         none \n",
       "Splitrule:                        gini \n",
       "OOB prediction error:             4.76 % "
      ]
     },
     "metadata": {},
     "output_type": "display_data"
    }
   ],
   "source": [
    "mod1"
   ]
  },
  {
   "cell_type": "code",
   "execution_count": 143,
   "metadata": {},
   "outputs": [
    {
     "data": {
      "text/html": [
       "<ol class=list-inline>\n",
       "\t<li>setosa</li>\n",
       "\t<li>setosa</li>\n",
       "\t<li>versicolor</li>\n",
       "\t<li>virginica</li>\n",
       "\t<li>virginica</li>\n",
       "\t<li>virginica</li>\n",
       "\t<li>versicolor</li>\n",
       "\t<li>virginica</li>\n",
       "\t<li>setosa</li>\n",
       "\t<li>versicolor</li>\n",
       "\t<li>setosa</li>\n",
       "\t<li>setosa</li>\n",
       "\t<li>versicolor</li>\n",
       "\t<li>setosa</li>\n",
       "\t<li>versicolor</li>\n",
       "\t<li>virginica</li>\n",
       "\t<li>virginica</li>\n",
       "\t<li>setosa</li>\n",
       "\t<li>setosa</li>\n",
       "\t<li>virginica</li>\n",
       "\t<li>versicolor</li>\n",
       "</ol>\n",
       "\n",
       "<details>\n",
       "\t<summary style=display:list-item;cursor:pointer>\n",
       "\t\t<strong>Levels</strong>:\n",
       "\t</summary>\n",
       "\t<ol class=list-inline>\n",
       "\t\t<li>'setosa'</li>\n",
       "\t\t<li>'versicolor'</li>\n",
       "\t\t<li>'virginica'</li>\n",
       "\t</ol>\n",
       "</details>"
      ],
      "text/latex": [
       "\\begin{enumerate*}\n",
       "\\item setosa\n",
       "\\item setosa\n",
       "\\item versicolor\n",
       "\\item virginica\n",
       "\\item virginica\n",
       "\\item virginica\n",
       "\\item versicolor\n",
       "\\item virginica\n",
       "\\item setosa\n",
       "\\item versicolor\n",
       "\\item setosa\n",
       "\\item setosa\n",
       "\\item versicolor\n",
       "\\item setosa\n",
       "\\item versicolor\n",
       "\\item virginica\n",
       "\\item virginica\n",
       "\\item setosa\n",
       "\\item setosa\n",
       "\\item virginica\n",
       "\\item versicolor\n",
       "\\end{enumerate*}\n",
       "\n",
       "\\emph{Levels}: \\begin{enumerate*}\n",
       "\\item 'setosa'\n",
       "\\item 'versicolor'\n",
       "\\item 'virginica'\n",
       "\\end{enumerate*}\n"
      ],
      "text/markdown": [
       "1. setosa\n",
       "2. setosa\n",
       "3. versicolor\n",
       "4. virginica\n",
       "5. virginica\n",
       "6. virginica\n",
       "7. versicolor\n",
       "8. virginica\n",
       "9. setosa\n",
       "10. versicolor\n",
       "11. setosa\n",
       "12. setosa\n",
       "13. versicolor\n",
       "14. setosa\n",
       "15. versicolor\n",
       "16. virginica\n",
       "17. virginica\n",
       "18. setosa\n",
       "19. setosa\n",
       "20. virginica\n",
       "21. versicolor\n",
       "\n",
       "\n",
       "\n",
       "**Levels**: 1. 'setosa'\n",
       "2. 'versicolor'\n",
       "3. 'virginica'\n",
       "\n",
       "\n"
      ],
      "text/plain": [
       " [1] setosa     setosa     versicolor virginica  virginica  virginica \n",
       " [7] versicolor virginica  setosa     versicolor setosa     setosa    \n",
       "[13] versicolor setosa     versicolor virginica  virginica  setosa    \n",
       "[19] setosa     virginica  versicolor\n",
       "Levels: setosa versicolor virginica"
      ]
     },
     "metadata": {},
     "output_type": "display_data"
    }
   ],
   "source": [
    "pred1 <- predict(mod1, data=dev)\n",
    "pred1$predictions\n"
   ]
  },
  {
   "cell_type": "code",
   "execution_count": 144,
   "metadata": {},
   "outputs": [
    {
     "data": {
      "text/plain": [
       "            pred\n",
       "obs          setosa versicolor virginica\n",
       "  setosa          8          0         0\n",
       "  versicolor      0          4         0\n",
       "  virginica       0          2         7"
      ]
     },
     "metadata": {},
     "output_type": "display_data"
    }
   ],
   "source": [
    "table(obs=dev$Species , pred=pred1$predictions)"
   ]
  },
  {
   "cell_type": "code",
   "execution_count": 145,
   "metadata": {},
   "outputs": [
    {
     "data": {
      "text/plain": [
       "Confusion Matrix and Statistics\n",
       "\n",
       "            Reference\n",
       "Prediction   setosa versicolor virginica\n",
       "  setosa          8          0         0\n",
       "  versicolor      0          4         2\n",
       "  virginica       0          0         7\n",
       "\n",
       "Overall Statistics\n",
       "                                          \n",
       "               Accuracy : 0.9048          \n",
       "                 95% CI : (0.6962, 0.9883)\n",
       "    No Information Rate : 0.4286          \n",
       "    P-Value [Acc > NIR] : 7.535e-06       \n",
       "                                          \n",
       "                  Kappa : 0.8552          \n",
       "                                          \n",
       " Mcnemar's Test P-Value : NA              \n",
       "\n",
       "Statistics by Class:\n",
       "\n",
       "                     Class: setosa Class: versicolor Class: virginica\n",
       "Sensitivity                  1.000            1.0000           0.7778\n",
       "Specificity                  1.000            0.8824           1.0000\n",
       "Pos Pred Value               1.000            0.6667           1.0000\n",
       "Neg Pred Value               1.000            1.0000           0.8571\n",
       "Prevalence                   0.381            0.1905           0.4286\n",
       "Detection Rate               0.381            0.1905           0.3333\n",
       "Detection Prevalence         0.381            0.2857           0.3333\n",
       "Balanced Accuracy            1.000            0.9412           0.8889"
      ]
     },
     "metadata": {},
     "output_type": "display_data"
    }
   ],
   "source": [
    "confusionMatrix(pred1$predictions,dev$Species)"
   ]
  },
  {
   "cell_type": "markdown",
   "metadata": {},
   "source": [
    "# Cross-Validation\n",
    "\n",
    "<img src=\"https://genome.tugraz.at/proclassify/help/pages/images/xv_folds.gif\"/>\n"
   ]
  },
  {
   "cell_type": "code",
   "execution_count": 146,
   "metadata": {},
   "outputs": [],
   "source": [
    "library(caret)\n",
    "# load the iris dataset\n",
    "data(iris)"
   ]
  },
  {
   "cell_type": "code",
   "execution_count": 147,
   "metadata": {},
   "outputs": [],
   "source": [
    "# define training control\n",
    "#repeats = number of deviders(5*=100)\n",
    "train_control <- caret::trainControl(method = \"repeatedcv\", repeats = 5)\n",
    "# train the model\n",
    "model <- train(Species~., data=train, trControl=train_control, method=\"ranger\")"
   ]
  },
  {
   "cell_type": "code",
   "execution_count": 148,
   "metadata": {},
   "outputs": [
    {
     "name": "stdout",
     "output_type": "stream",
     "text": [
      "Random Forest \n",
      "\n",
      "84 samples\n",
      " 4 predictor\n",
      " 3 classes: 'setosa', 'versicolor', 'virginica' \n",
      "\n",
      "No pre-processing\n",
      "Resampling: Cross-Validated (10 fold, repeated 5 times) \n",
      "Summary of sample sizes: 75, 75, 76, 76, 75, 76, ... \n",
      "Resampling results across tuning parameters:\n",
      "\n",
      "  mtry  splitrule   Accuracy   Kappa    \n",
      "  2     gini        0.9510317  0.9257742\n",
      "  2     extratrees  0.9453175  0.9168831\n",
      "  3     gini        0.9510317  0.9257742\n",
      "  3     extratrees  0.9481746  0.9212581\n",
      "  4     gini        0.9510317  0.9257742\n",
      "  4     extratrees  0.9510317  0.9257742\n",
      "\n",
      "Tuning parameter 'min.node.size' was held constant at a value of 1\n",
      "Accuracy was used to select the optimal model using the largest value.\n",
      "The final values used for the model were mtry = 2, splitrule = gini\n",
      " and min.node.size = 1.\n"
     ]
    }
   ],
   "source": [
    "# summarize results\n",
    "print(model)"
   ]
  },
  {
   "cell_type": "markdown",
   "metadata": {},
   "source": [
    "# Leave-one-out Cross Validation"
   ]
  },
  {
   "cell_type": "code",
   "execution_count": 39,
   "metadata": {},
   "outputs": [],
   "source": [
    "# define training control\n",
    "train_control <- trainControl(method=\"LOOCV\")\n",
    "# train the model\n",
    "model <- train(Species~., data=iris, trControl=train_control, method=\"ctree\")"
   ]
  },
  {
   "cell_type": "code",
   "execution_count": 40,
   "metadata": {},
   "outputs": [
    {
     "name": "stdout",
     "output_type": "stream",
     "text": [
      "Conditional Inference Tree \n",
      "\n",
      "150 samples\n",
      "  4 predictors\n",
      "  3 classes: 'setosa', 'versicolor', 'virginica' \n",
      "\n",
      "No pre-processing\n",
      "Resampling: Leave-One-Out Cross-Validation \n",
      "Summary of sample sizes: 149, 149, 149, 149, 149, 149, ... \n",
      "Resampling results across tuning parameters:\n",
      "\n",
      "  mincriterion  Accuracy   Kappa\n",
      "  0.01          0.9333333  0.9  \n",
      "  0.50          0.9333333  0.9  \n",
      "  0.99          0.9333333  0.9  \n",
      "\n",
      "Accuracy was used to select the optimal model using the largest value.\n",
      "The final value used for the model was mincriterion = 0.99.\n"
     ]
    }
   ],
   "source": [
    "# summarize results\n",
    "print(model)"
   ]
  },
  {
   "cell_type": "code",
   "execution_count": 41,
   "metadata": {},
   "outputs": [],
   "source": [
    "?caret::trainControl"
   ]
  },
  {
   "cell_type": "code",
   "execution_count": null,
   "metadata": {},
   "outputs": [],
   "source": [
    "?carer::train"
   ]
  },
  {
   "cell_type": "markdown",
   "metadata": {},
   "source": [
    "# Boostrapping\n",
    "\n"
   ]
  },
  {
   "cell_type": "code",
   "execution_count": 37,
   "metadata": {},
   "outputs": [],
   "source": [
    "# define training control\n",
    "train_control <- trainControl(method=\"boot\", number=100)\n",
    "# train the model\n",
    "model <- train(Species~., data=iris, trControl=train_control,method=\"ctree\")"
   ]
  },
  {
   "cell_type": "code",
   "execution_count": 38,
   "metadata": {},
   "outputs": [
    {
     "name": "stdout",
     "output_type": "stream",
     "text": [
      "Conditional Inference Tree \n",
      "\n",
      "150 samples\n",
      "  4 predictors\n",
      "  3 classes: 'setosa', 'versicolor', 'virginica' \n",
      "\n",
      "No pre-processing\n",
      "Resampling: Bootstrapped (100 reps) \n",
      "Summary of sample sizes: 150, 150, 150, 150, 150, 150, ... \n",
      "Resampling results across tuning parameters:\n",
      "\n",
      "  mincriterion  Accuracy   Kappa    \n",
      "  0.01          0.9432746  0.9140960\n",
      "  0.50          0.9432746  0.9140960\n",
      "  0.99          0.9434500  0.9143576\n",
      "\n",
      "Accuracy was used to select the optimal model using the largest value.\n",
      "The final value used for the model was mincriterion = 0.99.\n"
     ]
    }
   ],
   "source": [
    "# summarize results\n",
    "print(model)"
   ]
  },
  {
   "cell_type": "markdown",
   "metadata": {},
   "source": [
    "# Dataset Inbalance"
   ]
  },
  {
   "cell_type": "code",
   "execution_count": 149,
   "metadata": {},
   "outputs": [
    {
     "name": "stderr",
     "output_type": "stream",
     "text": [
      "Loading required package: imbalance\n",
      "\n",
      "Installing package into ‘/home/dsuser09/R/x86_64-pc-linux-gnu-library/3.6’\n",
      "(as ‘lib’ is unspecified)\n",
      "\n",
      "also installing the dependencies ‘bnlearn’, ‘KernelKnn’, ‘smotefamily’\n",
      "\n",
      "\n",
      "Loading required package: imbalance\n",
      "\n",
      "Loading required package: ROSE\n",
      "\n",
      "Loaded ROSE 0.0-3\n",
      "\n",
      "\n"
     ]
    }
   ],
   "source": [
    "if(!require(imbalance)){install.packages(\"imbalance\");require(imbalance)}\n",
    "### ROSE = Random Over-Sampling Examples\n",
    "if(!require(ROSE)){install.packages(\"ROSE\");require(ROSE)}\n"
   ]
  },
  {
   "cell_type": "code",
   "execution_count": 150,
   "metadata": {},
   "outputs": [
    {
     "data": {
      "text/html": [
       "<table>\n",
       "<caption>A data.frame: 6 × 6</caption>\n",
       "<thead>\n",
       "\t<tr><th scope=col>T3resin</th><th scope=col>Thyroxin</th><th scope=col>Triiodothyronine</th><th scope=col>Thyroidstimulating</th><th scope=col>TSH_value</th><th scope=col>Class</th></tr>\n",
       "\t<tr><th scope=col>&lt;int&gt;</th><th scope=col>&lt;dbl&gt;</th><th scope=col>&lt;dbl&gt;</th><th scope=col>&lt;dbl&gt;</th><th scope=col>&lt;dbl&gt;</th><th scope=col>&lt;fct&gt;</th></tr>\n",
       "</thead>\n",
       "<tbody>\n",
       "\t<tr><td>105</td><td> 7.3</td><td>1.5</td><td>1.5</td><td>-0.1</td><td>negative</td></tr>\n",
       "\t<tr><td> 67</td><td>23.3</td><td>7.4</td><td>1.8</td><td>-0.6</td><td>positive</td></tr>\n",
       "\t<tr><td>111</td><td> 8.4</td><td>1.5</td><td>0.8</td><td> 1.2</td><td>negative</td></tr>\n",
       "\t<tr><td> 89</td><td>14.3</td><td>4.1</td><td>0.5</td><td> 0.2</td><td>positive</td></tr>\n",
       "\t<tr><td>105</td><td> 9.5</td><td>1.8</td><td>1.6</td><td> 3.6</td><td>negative</td></tr>\n",
       "\t<tr><td>110</td><td>20.3</td><td>3.7</td><td>0.6</td><td> 0.2</td><td>positive</td></tr>\n",
       "</tbody>\n",
       "</table>\n"
      ],
      "text/latex": [
       "A data.frame: 6 × 6\n",
       "\\begin{tabular}{r|llllll}\n",
       " T3resin & Thyroxin & Triiodothyronine & Thyroidstimulating & TSH\\_value & Class\\\\\n",
       " <int> & <dbl> & <dbl> & <dbl> & <dbl> & <fct>\\\\\n",
       "\\hline\n",
       "\t 105 &  7.3 & 1.5 & 1.5 & -0.1 & negative\\\\\n",
       "\t  67 & 23.3 & 7.4 & 1.8 & -0.6 & positive\\\\\n",
       "\t 111 &  8.4 & 1.5 & 0.8 &  1.2 & negative\\\\\n",
       "\t  89 & 14.3 & 4.1 & 0.5 &  0.2 & positive\\\\\n",
       "\t 105 &  9.5 & 1.8 & 1.6 &  3.6 & negative\\\\\n",
       "\t 110 & 20.3 & 3.7 & 0.6 &  0.2 & positive\\\\\n",
       "\\end{tabular}\n"
      ],
      "text/markdown": [
       "\n",
       "A data.frame: 6 × 6\n",
       "\n",
       "| T3resin &lt;int&gt; | Thyroxin &lt;dbl&gt; | Triiodothyronine &lt;dbl&gt; | Thyroidstimulating &lt;dbl&gt; | TSH_value &lt;dbl&gt; | Class &lt;fct&gt; |\n",
       "|---|---|---|---|---|---|\n",
       "| 105 |  7.3 | 1.5 | 1.5 | -0.1 | negative |\n",
       "|  67 | 23.3 | 7.4 | 1.8 | -0.6 | positive |\n",
       "| 111 |  8.4 | 1.5 | 0.8 |  1.2 | negative |\n",
       "|  89 | 14.3 | 4.1 | 0.5 |  0.2 | positive |\n",
       "| 105 |  9.5 | 1.8 | 1.6 |  3.6 | negative |\n",
       "| 110 | 20.3 | 3.7 | 0.6 |  0.2 | positive |\n",
       "\n"
      ],
      "text/plain": [
       "  T3resin Thyroxin Triiodothyronine Thyroidstimulating TSH_value Class   \n",
       "1 105      7.3     1.5              1.5                -0.1      negative\n",
       "2  67     23.3     7.4              1.8                -0.6      positive\n",
       "3 111      8.4     1.5              0.8                 1.2      negative\n",
       "4  89     14.3     4.1              0.5                 0.2      positive\n",
       "5 105      9.5     1.8              1.6                 3.6      negative\n",
       "6 110     20.3     3.7              0.6                 0.2      positive"
      ]
     },
     "metadata": {},
     "output_type": "display_data"
    }
   ],
   "source": [
    "data(newthyroid1)\n",
    "head(newthyroid1)"
   ]
  },
  {
   "cell_type": "code",
   "execution_count": 151,
   "metadata": {},
   "outputs": [
    {
     "data": {
      "text/plain": [
       "\n",
       "negative positive \n",
       "     180       35 "
      ]
     },
     "metadata": {},
     "output_type": "display_data"
    },
    {
     "data": {
      "text/plain": [
       "\n",
       "negative positive \n",
       "83.72093 16.27907 "
      ]
     },
     "metadata": {},
     "output_type": "display_data"
    }
   ],
   "source": [
    "table(newthyroid1$Class)\n",
    "table(newthyroid1$Class)/nrow(newthyroid1)*100"
   ]
  },
  {
   "cell_type": "code",
   "execution_count": 152,
   "metadata": {},
   "outputs": [
    {
     "data": {
      "text/html": [
       "<table>\n",
       "<caption>A matrix: 1 × 3 of type int</caption>\n",
       "<thead>\n",
       "\t<tr><th scope=col>numPositive</th><th scope=col>numNegative</th><th scope=col>nInstances</th></tr>\n",
       "</thead>\n",
       "<tbody>\n",
       "\t<tr><td>35</td><td>180</td><td>145</td></tr>\n",
       "</tbody>\n",
       "</table>\n"
      ],
      "text/latex": [
       "A matrix: 1 × 3 of type int\n",
       "\\begin{tabular}{lll}\n",
       " numPositive & numNegative & nInstances\\\\\n",
       "\\hline\n",
       "\t 35 & 180 & 145\\\\\n",
       "\\end{tabular}\n"
      ],
      "text/markdown": [
       "\n",
       "A matrix: 1 × 3 of type int\n",
       "\n",
       "| numPositive | numNegative | nInstances |\n",
       "|---|---|---|\n",
       "| 35 | 180 | 145 |\n",
       "\n"
      ],
      "text/plain": [
       "     numPositive numNegative nInstances\n",
       "[1,] 35          180         145       "
      ]
     },
     "metadata": {},
     "output_type": "display_data"
    }
   ],
   "source": [
    "numPositive <- length(which(newthyroid1$Class == \"positive\"))\n",
    "numNegative <- length(which(newthyroid1$Class == \"negative\"))\n",
    "nInstances <- numNegative - numPositive\n",
    "cbind(numPositive=numPositive,numNegative=numNegative,nInstances=nInstances)"
   ]
  },
  {
   "cell_type": "markdown",
   "metadata": {},
   "source": [
    "## Under Sampling\n",
    " \n",
    "This techniques uses all the rows containing the minority class and select randomly the same number of minority class for the rows with the mayority class "
   ]
  },
  {
   "cell_type": "code",
   "execution_count": 157,
   "metadata": {},
   "outputs": [
    {
     "data": {
      "text/plain": [
       "\n",
       "negative positive \n",
       "      35       35 "
      ]
     },
     "metadata": {},
     "output_type": "display_data"
    }
   ],
   "source": [
    "data_balanced_under <- ovun.sample(Class ~ ., data = newthyroid1, method = \"under\",N = numPositive*2)$data\n",
    "table(data_balanced_under$Class)"
   ]
  },
  {
   "cell_type": "markdown",
   "metadata": {},
   "source": [
    "## Over Sampling\n",
    " \n",
    "Over sampling takes the number of rows of the mayority class and repeat the rows of the minority class up to the same number of the mayority class. The repeated rows are selected randomly."
   ]
  },
  {
   "cell_type": "code",
   "execution_count": 158,
   "metadata": {},
   "outputs": [
    {
     "data": {
      "text/plain": [
       "\n",
       "negative positive \n",
       "     180      180 "
      ]
     },
     "metadata": {},
     "output_type": "display_data"
    }
   ],
   "source": [
    "#over sampling\n",
    "data_balanced_over <- ovun.sample(Class ~ ., data = newthyroid1, method = \"over\",N = numNegative*2)$data\n",
    "table(data_balanced_over$Class)"
   ]
  },
  {
   "cell_type": "markdown",
   "metadata": {},
   "source": [
    "## Over-Under Sampling\n",
    " \n",
    "In this technique we randomly select half of the majority class rows (under sampling) and increment the minority class rows by selecting them randomly.   "
   ]
  },
  {
   "cell_type": "code",
   "execution_count": 22,
   "metadata": {},
   "outputs": [
    {
     "data": {
      "text/plain": [
       "\n",
       "negative positive \n",
       "      90       90 "
      ]
     },
     "metadata": {},
     "output_type": "display_data"
    }
   ],
   "source": [
    "#over_under sampling\n",
    "data_balanced_both <- ovun.sample(Class ~ ., data = newthyroid1, method = \"both\", p=0.5,N = 180, seed = 1)$data\n",
    "table(data_balanced_both$Class)"
   ]
  },
  {
   "cell_type": "markdown",
   "metadata": {},
   "source": [
    "## ROSE (Random Over-Sampling Examples) \n",
    " \n",
    "Creates a sample of synthetic data by enlarging the features space of minority and majority class examples. ROSE selects an observation belonging to the class k and generates new examples in its neighbourhood"
   ]
  },
  {
   "cell_type": "code",
   "execution_count": 159,
   "metadata": {},
   "outputs": [
    {
     "data": {
      "text/plain": [
       "\n",
       "negative positive \n",
       "     105      110 "
      ]
     },
     "metadata": {},
     "output_type": "display_data"
    }
   ],
   "source": [
    "# Rose: \n",
    "data.rose <- ROSE(Class ~ ., data = newthyroid1, seed = 1)$data\n",
    "table(data.rose$Class)"
   ]
  },
  {
   "cell_type": "markdown",
   "metadata": {},
   "source": [
    "## Oversampling with Synthetic data\n",
    " \n",
    "Additionally to ROSE. The package 'inbalance' has the function pdfos. This function generates synthetic minority examples for a numerical dataset approximating a Gaussian multivariate distribution.\n"
   ]
  },
  {
   "cell_type": "code",
   "execution_count": 195,
   "metadata": {},
   "outputs": [
    {
     "data": {
      "text/plain": [
       "\n",
       "negative positive \n",
       "     180      180 "
      ]
     },
     "metadata": {},
     "output_type": "display_data"
    }
   ],
   "source": [
    "newSamples <- pdfos(dataset = newthyroid1, numInstances = nInstances,classAttr = \"Class\")\n",
    "newDataset <- rbind(newthyroid1, newSamples)\n",
    "table(newDataset$Class)"
   ]
  },
  {
   "cell_type": "code",
   "execution_count": 196,
   "metadata": {},
   "outputs": [
    {
     "data": {
      "text/html": [
       "<table>\n",
       "<caption>A data.frame: 70 × 6</caption>\n",
       "<thead>\n",
       "\t<tr><th scope=col>T3resin</th><th scope=col>Thyroxin</th><th scope=col>Triiodothyronine</th><th scope=col>Thyroidstimulating</th><th scope=col>TSH_value</th><th scope=col>Class</th></tr>\n",
       "\t<tr><th scope=col>&lt;int&gt;</th><th scope=col>&lt;dbl&gt;</th><th scope=col>&lt;dbl&gt;</th><th scope=col>&lt;dbl&gt;</th><th scope=col>&lt;dbl&gt;</th><th scope=col>&lt;fct&gt;</th></tr>\n",
       "</thead>\n",
       "<tbody>\n",
       "\t<tr><td>116</td><td> 7.8</td><td>1.4</td><td> 1.1</td><td> 3.7</td><td>negative</td></tr>\n",
       "\t<tr><td>115</td><td>10.4</td><td>1.8</td><td> 1.6</td><td> 2.0</td><td>negative</td></tr>\n",
       "\t<tr><td>103</td><td> 7.3</td><td>1.0</td><td> 0.7</td><td> 0.5</td><td>negative</td></tr>\n",
       "\t<tr><td>129</td><td>11.9</td><td>2.7</td><td> 1.2</td><td> 3.5</td><td>negative</td></tr>\n",
       "\t<tr><td>110</td><td> 7.0</td><td>1.0</td><td> 1.6</td><td> 4.3</td><td>negative</td></tr>\n",
       "\t<tr><td>106</td><td> 6.7</td><td>1.5</td><td> 1.2</td><td> 3.9</td><td>negative</td></tr>\n",
       "\t<tr><td>120</td><td> 6.8</td><td>2.1</td><td>10.4</td><td>38.6</td><td>negative</td></tr>\n",
       "\t<tr><td>105</td><td>11.1</td><td>2.0</td><td> 1.0</td><td> 1.0</td><td>negative</td></tr>\n",
       "\t<tr><td>100</td><td>11.3</td><td>2.5</td><td> 0.7</td><td>-0.3</td><td>negative</td></tr>\n",
       "\t<tr><td>112</td><td> 8.1</td><td>1.9</td><td> 3.7</td><td> 2.0</td><td>negative</td></tr>\n",
       "\t<tr><td> 91</td><td> 8.0</td><td>1.7</td><td> 2.1</td><td> 4.6</td><td>negative</td></tr>\n",
       "\t<tr><td>116</td><td>11.9</td><td>1.8</td><td> 1.9</td><td> 1.5</td><td>negative</td></tr>\n",
       "\t<tr><td>105</td><td>11.1</td><td>1.1</td><td> 0.8</td><td> 1.2</td><td>negative</td></tr>\n",
       "\t<tr><td>118</td><td>10.6</td><td>1.8</td><td> 1.4</td><td> 3.0</td><td>negative</td></tr>\n",
       "\t<tr><td>120</td><td> 3.4</td><td>1.8</td><td> 7.5</td><td>21.5</td><td>negative</td></tr>\n",
       "\t<tr><td>118</td><td> 6.5</td><td>1.3</td><td> 1.7</td><td>11.5</td><td>negative</td></tr>\n",
       "\t<tr><td>103</td><td> 9.5</td><td>2.9</td><td> 1.4</td><td>-0.1</td><td>negative</td></tr>\n",
       "\t<tr><td>102</td><td> 8.5</td><td>1.2</td><td> 1.3</td><td> 1.4</td><td>negative</td></tr>\n",
       "\t<tr><td>106</td><td>11.3</td><td>1.8</td><td> 0.9</td><td> 1.0</td><td>negative</td></tr>\n",
       "\t<tr><td> 98</td><td> 8.6</td><td>1.6</td><td> 1.6</td><td> 6.0</td><td>negative</td></tr>\n",
       "\t<tr><td>110</td><td> 9.2</td><td>1.6</td><td> 1.5</td><td> 0.3</td><td>negative</td></tr>\n",
       "\t<tr><td>119</td><td>10.6</td><td>2.1</td><td> 1.3</td><td> 1.1</td><td>negative</td></tr>\n",
       "\t<tr><td>131</td><td> 2.7</td><td>0.8</td><td> 9.9</td><td> 4.7</td><td>negative</td></tr>\n",
       "\t<tr><td>110</td><td> 8.4</td><td>1.4</td><td> 1.0</td><td> 1.9</td><td>negative</td></tr>\n",
       "\t<tr><td>109</td><td> 9.7</td><td>1.4</td><td> 1.1</td><td> 2.1</td><td>negative</td></tr>\n",
       "\t<tr><td>123</td><td> 5.6</td><td>1.1</td><td>13.7</td><td>56.3</td><td>negative</td></tr>\n",
       "\t<tr><td>115</td><td> 7.1</td><td>1.3</td><td> 1.3</td><td> 2.0</td><td>negative</td></tr>\n",
       "\t<tr><td>101</td><td> 7.1</td><td>2.2</td><td> 0.8</td><td> 2.2</td><td>negative</td></tr>\n",
       "\t<tr><td>123</td><td> 1.9</td><td>0.3</td><td>22.8</td><td>22.2</td><td>negative</td></tr>\n",
       "\t<tr><td>127</td><td>12.9</td><td>2.4</td><td> 1.4</td><td> 0.6</td><td>negative</td></tr>\n",
       "\t<tr><td>⋮</td><td>⋮</td><td>⋮</td><td>⋮</td><td>⋮</td><td>⋮</td></tr>\n",
       "\t<tr><td> 99</td><td>13.0</td><td> 3.6</td><td>0.7</td><td>-0.1</td><td>positive</td></tr>\n",
       "\t<tr><td>111</td><td>16.0</td><td> 2.1</td><td>0.9</td><td>-0.1</td><td>positive</td></tr>\n",
       "\t<tr><td> 97</td><td>14.2</td><td> 3.6</td><td>1.5</td><td> 0.3</td><td>positive</td></tr>\n",
       "\t<tr><td> 97</td><td>15.1</td><td> 1.8</td><td>1.2</td><td>-0.2</td><td>positive</td></tr>\n",
       "\t<tr><td> 89</td><td>20.1</td><td> 7.3</td><td>1.1</td><td>-0.2</td><td>positive</td></tr>\n",
       "\t<tr><td> 65</td><td>25.3</td><td> 5.8</td><td>1.3</td><td> 0.2</td><td>positive</td></tr>\n",
       "\t<tr><td>134</td><td>16.4</td><td> 4.8</td><td>0.6</td><td> 0.1</td><td>positive</td></tr>\n",
       "\t<tr><td> 98</td><td>16.7</td><td> 4.3</td><td>1.7</td><td> 0.2</td><td>positive</td></tr>\n",
       "\t<tr><td>139</td><td>16.4</td><td> 3.8</td><td>1.1</td><td>-0.2</td><td>positive</td></tr>\n",
       "\t<tr><td> 80</td><td>23.0</td><td>10.0</td><td>0.9</td><td>-0.1</td><td>positive</td></tr>\n",
       "\t<tr><td> 88</td><td>24.1</td><td> 5.5</td><td>0.8</td><td> 0.1</td><td>positive</td></tr>\n",
       "\t<tr><td>113</td><td>17.2</td><td> 1.8</td><td>1.0</td><td> 0.0</td><td>positive</td></tr>\n",
       "\t<tr><td> 92</td><td>11.1</td><td> 2.0</td><td>0.7</td><td>-0.2</td><td>positive</td></tr>\n",
       "\t<tr><td> 94</td><td>20.5</td><td> 1.8</td><td>1.4</td><td>-0.5</td><td>positive</td></tr>\n",
       "\t<tr><td> 99</td><td>13.0</td><td> 3.1</td><td>0.5</td><td>-0.1</td><td>positive</td></tr>\n",
       "\t<tr><td>144</td><td>22.3</td><td> 3.3</td><td>1.3</td><td> 0.6</td><td>positive</td></tr>\n",
       "\t<tr><td> 99</td><td>17.5</td><td> 1.9</td><td>1.4</td><td> 0.3</td><td>positive</td></tr>\n",
       "\t<tr><td> 95</td><td>11.1</td><td> 2.7</td><td>1.6</td><td>-0.3</td><td>positive</td></tr>\n",
       "\t<tr><td> 76</td><td>25.3</td><td> 4.5</td><td>1.2</td><td>-0.1</td><td>positive</td></tr>\n",
       "\t<tr><td> 88</td><td>12.9</td><td> 2.7</td><td>0.1</td><td> 0.2</td><td>positive</td></tr>\n",
       "\t<tr><td> 84</td><td>18.5</td><td> 4.4</td><td>1.1</td><td>-0.3</td><td>positive</td></tr>\n",
       "\t<tr><td> 89</td><td>21.8</td><td> 7.1</td><td>0.7</td><td>-0.1</td><td>positive</td></tr>\n",
       "\t<tr><td>105</td><td>12.0</td><td> 3.3</td><td>1.1</td><td> 0.0</td><td>positive</td></tr>\n",
       "\t<tr><td> 89</td><td>23.8</td><td> 5.4</td><td>0.5</td><td> 0.1</td><td>positive</td></tr>\n",
       "\t<tr><td> 68</td><td>14.7</td><td> 7.8</td><td>0.6</td><td>-0.2</td><td>positive</td></tr>\n",
       "\t<tr><td>105</td><td>17.4</td><td> 1.6</td><td>0.3</td><td> 0.4</td><td>positive</td></tr>\n",
       "\t<tr><td> 65</td><td>18.2</td><td>10.0</td><td>1.3</td><td> 0.1</td><td>positive</td></tr>\n",
       "\t<tr><td> 79</td><td>19.0</td><td> 5.5</td><td>0.9</td><td> 0.3</td><td>positive</td></tr>\n",
       "\t<tr><td> 88</td><td>16.5</td><td> 4.9</td><td>0.8</td><td> 0.1</td><td>positive</td></tr>\n",
       "\t<tr><td>110</td><td>15.2</td><td> 1.9</td><td>0.7</td><td>-0.2</td><td>positive</td></tr>\n",
       "</tbody>\n",
       "</table>\n"
      ],
      "text/latex": [
       "A data.frame: 70 × 6\n",
       "\\begin{tabular}{r|llllll}\n",
       " T3resin & Thyroxin & Triiodothyronine & Thyroidstimulating & TSH\\_value & Class\\\\\n",
       " <int> & <dbl> & <dbl> & <dbl> & <dbl> & <fct>\\\\\n",
       "\\hline\n",
       "\t 116 &  7.8 & 1.4 &  1.1 &  3.7 & negative\\\\\n",
       "\t 115 & 10.4 & 1.8 &  1.6 &  2.0 & negative\\\\\n",
       "\t 103 &  7.3 & 1.0 &  0.7 &  0.5 & negative\\\\\n",
       "\t 129 & 11.9 & 2.7 &  1.2 &  3.5 & negative\\\\\n",
       "\t 110 &  7.0 & 1.0 &  1.6 &  4.3 & negative\\\\\n",
       "\t 106 &  6.7 & 1.5 &  1.2 &  3.9 & negative\\\\\n",
       "\t 120 &  6.8 & 2.1 & 10.4 & 38.6 & negative\\\\\n",
       "\t 105 & 11.1 & 2.0 &  1.0 &  1.0 & negative\\\\\n",
       "\t 100 & 11.3 & 2.5 &  0.7 & -0.3 & negative\\\\\n",
       "\t 112 &  8.1 & 1.9 &  3.7 &  2.0 & negative\\\\\n",
       "\t  91 &  8.0 & 1.7 &  2.1 &  4.6 & negative\\\\\n",
       "\t 116 & 11.9 & 1.8 &  1.9 &  1.5 & negative\\\\\n",
       "\t 105 & 11.1 & 1.1 &  0.8 &  1.2 & negative\\\\\n",
       "\t 118 & 10.6 & 1.8 &  1.4 &  3.0 & negative\\\\\n",
       "\t 120 &  3.4 & 1.8 &  7.5 & 21.5 & negative\\\\\n",
       "\t 118 &  6.5 & 1.3 &  1.7 & 11.5 & negative\\\\\n",
       "\t 103 &  9.5 & 2.9 &  1.4 & -0.1 & negative\\\\\n",
       "\t 102 &  8.5 & 1.2 &  1.3 &  1.4 & negative\\\\\n",
       "\t 106 & 11.3 & 1.8 &  0.9 &  1.0 & negative\\\\\n",
       "\t  98 &  8.6 & 1.6 &  1.6 &  6.0 & negative\\\\\n",
       "\t 110 &  9.2 & 1.6 &  1.5 &  0.3 & negative\\\\\n",
       "\t 119 & 10.6 & 2.1 &  1.3 &  1.1 & negative\\\\\n",
       "\t 131 &  2.7 & 0.8 &  9.9 &  4.7 & negative\\\\\n",
       "\t 110 &  8.4 & 1.4 &  1.0 &  1.9 & negative\\\\\n",
       "\t 109 &  9.7 & 1.4 &  1.1 &  2.1 & negative\\\\\n",
       "\t 123 &  5.6 & 1.1 & 13.7 & 56.3 & negative\\\\\n",
       "\t 115 &  7.1 & 1.3 &  1.3 &  2.0 & negative\\\\\n",
       "\t 101 &  7.1 & 2.2 &  0.8 &  2.2 & negative\\\\\n",
       "\t 123 &  1.9 & 0.3 & 22.8 & 22.2 & negative\\\\\n",
       "\t 127 & 12.9 & 2.4 &  1.4 &  0.6 & negative\\\\\n",
       "\t ⋮ & ⋮ & ⋮ & ⋮ & ⋮ & ⋮\\\\\n",
       "\t  99 & 13.0 &  3.6 & 0.7 & -0.1 & positive\\\\\n",
       "\t 111 & 16.0 &  2.1 & 0.9 & -0.1 & positive\\\\\n",
       "\t  97 & 14.2 &  3.6 & 1.5 &  0.3 & positive\\\\\n",
       "\t  97 & 15.1 &  1.8 & 1.2 & -0.2 & positive\\\\\n",
       "\t  89 & 20.1 &  7.3 & 1.1 & -0.2 & positive\\\\\n",
       "\t  65 & 25.3 &  5.8 & 1.3 &  0.2 & positive\\\\\n",
       "\t 134 & 16.4 &  4.8 & 0.6 &  0.1 & positive\\\\\n",
       "\t  98 & 16.7 &  4.3 & 1.7 &  0.2 & positive\\\\\n",
       "\t 139 & 16.4 &  3.8 & 1.1 & -0.2 & positive\\\\\n",
       "\t  80 & 23.0 & 10.0 & 0.9 & -0.1 & positive\\\\\n",
       "\t  88 & 24.1 &  5.5 & 0.8 &  0.1 & positive\\\\\n",
       "\t 113 & 17.2 &  1.8 & 1.0 &  0.0 & positive\\\\\n",
       "\t  92 & 11.1 &  2.0 & 0.7 & -0.2 & positive\\\\\n",
       "\t  94 & 20.5 &  1.8 & 1.4 & -0.5 & positive\\\\\n",
       "\t  99 & 13.0 &  3.1 & 0.5 & -0.1 & positive\\\\\n",
       "\t 144 & 22.3 &  3.3 & 1.3 &  0.6 & positive\\\\\n",
       "\t  99 & 17.5 &  1.9 & 1.4 &  0.3 & positive\\\\\n",
       "\t  95 & 11.1 &  2.7 & 1.6 & -0.3 & positive\\\\\n",
       "\t  76 & 25.3 &  4.5 & 1.2 & -0.1 & positive\\\\\n",
       "\t  88 & 12.9 &  2.7 & 0.1 &  0.2 & positive\\\\\n",
       "\t  84 & 18.5 &  4.4 & 1.1 & -0.3 & positive\\\\\n",
       "\t  89 & 21.8 &  7.1 & 0.7 & -0.1 & positive\\\\\n",
       "\t 105 & 12.0 &  3.3 & 1.1 &  0.0 & positive\\\\\n",
       "\t  89 & 23.8 &  5.4 & 0.5 &  0.1 & positive\\\\\n",
       "\t  68 & 14.7 &  7.8 & 0.6 & -0.2 & positive\\\\\n",
       "\t 105 & 17.4 &  1.6 & 0.3 &  0.4 & positive\\\\\n",
       "\t  65 & 18.2 & 10.0 & 1.3 &  0.1 & positive\\\\\n",
       "\t  79 & 19.0 &  5.5 & 0.9 &  0.3 & positive\\\\\n",
       "\t  88 & 16.5 &  4.9 & 0.8 &  0.1 & positive\\\\\n",
       "\t 110 & 15.2 &  1.9 & 0.7 & -0.2 & positive\\\\\n",
       "\\end{tabular}\n"
      ],
      "text/markdown": [
       "\n",
       "A data.frame: 70 × 6\n",
       "\n",
       "| T3resin &lt;int&gt; | Thyroxin &lt;dbl&gt; | Triiodothyronine &lt;dbl&gt; | Thyroidstimulating &lt;dbl&gt; | TSH_value &lt;dbl&gt; | Class &lt;fct&gt; |\n",
       "|---|---|---|---|---|---|\n",
       "| 116 |  7.8 | 1.4 |  1.1 |  3.7 | negative |\n",
       "| 115 | 10.4 | 1.8 |  1.6 |  2.0 | negative |\n",
       "| 103 |  7.3 | 1.0 |  0.7 |  0.5 | negative |\n",
       "| 129 | 11.9 | 2.7 |  1.2 |  3.5 | negative |\n",
       "| 110 |  7.0 | 1.0 |  1.6 |  4.3 | negative |\n",
       "| 106 |  6.7 | 1.5 |  1.2 |  3.9 | negative |\n",
       "| 120 |  6.8 | 2.1 | 10.4 | 38.6 | negative |\n",
       "| 105 | 11.1 | 2.0 |  1.0 |  1.0 | negative |\n",
       "| 100 | 11.3 | 2.5 |  0.7 | -0.3 | negative |\n",
       "| 112 |  8.1 | 1.9 |  3.7 |  2.0 | negative |\n",
       "|  91 |  8.0 | 1.7 |  2.1 |  4.6 | negative |\n",
       "| 116 | 11.9 | 1.8 |  1.9 |  1.5 | negative |\n",
       "| 105 | 11.1 | 1.1 |  0.8 |  1.2 | negative |\n",
       "| 118 | 10.6 | 1.8 |  1.4 |  3.0 | negative |\n",
       "| 120 |  3.4 | 1.8 |  7.5 | 21.5 | negative |\n",
       "| 118 |  6.5 | 1.3 |  1.7 | 11.5 | negative |\n",
       "| 103 |  9.5 | 2.9 |  1.4 | -0.1 | negative |\n",
       "| 102 |  8.5 | 1.2 |  1.3 |  1.4 | negative |\n",
       "| 106 | 11.3 | 1.8 |  0.9 |  1.0 | negative |\n",
       "|  98 |  8.6 | 1.6 |  1.6 |  6.0 | negative |\n",
       "| 110 |  9.2 | 1.6 |  1.5 |  0.3 | negative |\n",
       "| 119 | 10.6 | 2.1 |  1.3 |  1.1 | negative |\n",
       "| 131 |  2.7 | 0.8 |  9.9 |  4.7 | negative |\n",
       "| 110 |  8.4 | 1.4 |  1.0 |  1.9 | negative |\n",
       "| 109 |  9.7 | 1.4 |  1.1 |  2.1 | negative |\n",
       "| 123 |  5.6 | 1.1 | 13.7 | 56.3 | negative |\n",
       "| 115 |  7.1 | 1.3 |  1.3 |  2.0 | negative |\n",
       "| 101 |  7.1 | 2.2 |  0.8 |  2.2 | negative |\n",
       "| 123 |  1.9 | 0.3 | 22.8 | 22.2 | negative |\n",
       "| 127 | 12.9 | 2.4 |  1.4 |  0.6 | negative |\n",
       "| ⋮ | ⋮ | ⋮ | ⋮ | ⋮ | ⋮ |\n",
       "|  99 | 13.0 |  3.6 | 0.7 | -0.1 | positive |\n",
       "| 111 | 16.0 |  2.1 | 0.9 | -0.1 | positive |\n",
       "|  97 | 14.2 |  3.6 | 1.5 |  0.3 | positive |\n",
       "|  97 | 15.1 |  1.8 | 1.2 | -0.2 | positive |\n",
       "|  89 | 20.1 |  7.3 | 1.1 | -0.2 | positive |\n",
       "|  65 | 25.3 |  5.8 | 1.3 |  0.2 | positive |\n",
       "| 134 | 16.4 |  4.8 | 0.6 |  0.1 | positive |\n",
       "|  98 | 16.7 |  4.3 | 1.7 |  0.2 | positive |\n",
       "| 139 | 16.4 |  3.8 | 1.1 | -0.2 | positive |\n",
       "|  80 | 23.0 | 10.0 | 0.9 | -0.1 | positive |\n",
       "|  88 | 24.1 |  5.5 | 0.8 |  0.1 | positive |\n",
       "| 113 | 17.2 |  1.8 | 1.0 |  0.0 | positive |\n",
       "|  92 | 11.1 |  2.0 | 0.7 | -0.2 | positive |\n",
       "|  94 | 20.5 |  1.8 | 1.4 | -0.5 | positive |\n",
       "|  99 | 13.0 |  3.1 | 0.5 | -0.1 | positive |\n",
       "| 144 | 22.3 |  3.3 | 1.3 |  0.6 | positive |\n",
       "|  99 | 17.5 |  1.9 | 1.4 |  0.3 | positive |\n",
       "|  95 | 11.1 |  2.7 | 1.6 | -0.3 | positive |\n",
       "|  76 | 25.3 |  4.5 | 1.2 | -0.1 | positive |\n",
       "|  88 | 12.9 |  2.7 | 0.1 |  0.2 | positive |\n",
       "|  84 | 18.5 |  4.4 | 1.1 | -0.3 | positive |\n",
       "|  89 | 21.8 |  7.1 | 0.7 | -0.1 | positive |\n",
       "| 105 | 12.0 |  3.3 | 1.1 |  0.0 | positive |\n",
       "|  89 | 23.8 |  5.4 | 0.5 |  0.1 | positive |\n",
       "|  68 | 14.7 |  7.8 | 0.6 | -0.2 | positive |\n",
       "| 105 | 17.4 |  1.6 | 0.3 |  0.4 | positive |\n",
       "|  65 | 18.2 | 10.0 | 1.3 |  0.1 | positive |\n",
       "|  79 | 19.0 |  5.5 | 0.9 |  0.3 | positive |\n",
       "|  88 | 16.5 |  4.9 | 0.8 |  0.1 | positive |\n",
       "| 110 | 15.2 |  1.9 | 0.7 | -0.2 | positive |\n",
       "\n"
      ],
      "text/plain": [
       "   T3resin Thyroxin Triiodothyronine Thyroidstimulating TSH_value Class   \n",
       "1  116      7.8     1.4               1.1                3.7      negative\n",
       "2  115     10.4     1.8               1.6                2.0      negative\n",
       "3  103      7.3     1.0               0.7                0.5      negative\n",
       "4  129     11.9     2.7               1.2                3.5      negative\n",
       "5  110      7.0     1.0               1.6                4.3      negative\n",
       "6  106      6.7     1.5               1.2                3.9      negative\n",
       "7  120      6.8     2.1              10.4               38.6      negative\n",
       "8  105     11.1     2.0               1.0                1.0      negative\n",
       "9  100     11.3     2.5               0.7               -0.3      negative\n",
       "10 112      8.1     1.9               3.7                2.0      negative\n",
       "11  91      8.0     1.7               2.1                4.6      negative\n",
       "12 116     11.9     1.8               1.9                1.5      negative\n",
       "13 105     11.1     1.1               0.8                1.2      negative\n",
       "14 118     10.6     1.8               1.4                3.0      negative\n",
       "15 120      3.4     1.8               7.5               21.5      negative\n",
       "16 118      6.5     1.3               1.7               11.5      negative\n",
       "17 103      9.5     2.9               1.4               -0.1      negative\n",
       "18 102      8.5     1.2               1.3                1.4      negative\n",
       "19 106     11.3     1.8               0.9                1.0      negative\n",
       "20  98      8.6     1.6               1.6                6.0      negative\n",
       "21 110      9.2     1.6               1.5                0.3      negative\n",
       "22 119     10.6     2.1               1.3                1.1      negative\n",
       "23 131      2.7     0.8               9.9                4.7      negative\n",
       "24 110      8.4     1.4               1.0                1.9      negative\n",
       "25 109      9.7     1.4               1.1                2.1      negative\n",
       "26 123      5.6     1.1              13.7               56.3      negative\n",
       "27 115      7.1     1.3               1.3                2.0      negative\n",
       "28 101      7.1     2.2               0.8                2.2      negative\n",
       "29 123      1.9     0.3              22.8               22.2      negative\n",
       "30 127     12.9     2.4               1.4                0.6      negative\n",
       "⋮  ⋮       ⋮        ⋮                ⋮                  ⋮         ⋮       \n",
       "41  99     13.0      3.6             0.7                -0.1      positive\n",
       "42 111     16.0      2.1             0.9                -0.1      positive\n",
       "43  97     14.2      3.6             1.5                 0.3      positive\n",
       "44  97     15.1      1.8             1.2                -0.2      positive\n",
       "45  89     20.1      7.3             1.1                -0.2      positive\n",
       "46  65     25.3      5.8             1.3                 0.2      positive\n",
       "47 134     16.4      4.8             0.6                 0.1      positive\n",
       "48  98     16.7      4.3             1.7                 0.2      positive\n",
       "49 139     16.4      3.8             1.1                -0.2      positive\n",
       "50  80     23.0     10.0             0.9                -0.1      positive\n",
       "51  88     24.1      5.5             0.8                 0.1      positive\n",
       "52 113     17.2      1.8             1.0                 0.0      positive\n",
       "53  92     11.1      2.0             0.7                -0.2      positive\n",
       "54  94     20.5      1.8             1.4                -0.5      positive\n",
       "55  99     13.0      3.1             0.5                -0.1      positive\n",
       "56 144     22.3      3.3             1.3                 0.6      positive\n",
       "57  99     17.5      1.9             1.4                 0.3      positive\n",
       "58  95     11.1      2.7             1.6                -0.3      positive\n",
       "59  76     25.3      4.5             1.2                -0.1      positive\n",
       "60  88     12.9      2.7             0.1                 0.2      positive\n",
       "61  84     18.5      4.4             1.1                -0.3      positive\n",
       "62  89     21.8      7.1             0.7                -0.1      positive\n",
       "63 105     12.0      3.3             1.1                 0.0      positive\n",
       "64  89     23.8      5.4             0.5                 0.1      positive\n",
       "65  68     14.7      7.8             0.6                -0.2      positive\n",
       "66 105     17.4      1.6             0.3                 0.4      positive\n",
       "67  65     18.2     10.0             1.3                 0.1      positive\n",
       "68  79     19.0      5.5             0.9                 0.3      positive\n",
       "69  88     16.5      4.9             0.8                 0.1      positive\n",
       "70 110     15.2      1.9             0.7                -0.2      positive"
      ]
     },
     "metadata": {},
     "output_type": "display_data"
    },
    {
     "data": {
      "text/html": [
       "<table>\n",
       "<caption>A data.frame: 360 × 6</caption>\n",
       "<thead>\n",
       "\t<tr><th scope=col>T3resin</th><th scope=col>Thyroxin</th><th scope=col>Triiodothyronine</th><th scope=col>Thyroidstimulating</th><th scope=col>TSH_value</th><th scope=col>Class</th></tr>\n",
       "\t<tr><th scope=col>&lt;int&gt;</th><th scope=col>&lt;dbl&gt;</th><th scope=col>&lt;dbl&gt;</th><th scope=col>&lt;dbl&gt;</th><th scope=col>&lt;dbl&gt;</th><th scope=col>&lt;fct&gt;</th></tr>\n",
       "</thead>\n",
       "<tbody>\n",
       "\t<tr><td>105</td><td> 7.3</td><td>1.5</td><td> 1.5</td><td>-0.1</td><td>negative</td></tr>\n",
       "\t<tr><td>111</td><td> 8.4</td><td>1.5</td><td> 0.8</td><td> 1.2</td><td>negative</td></tr>\n",
       "\t<tr><td>105</td><td> 9.5</td><td>1.8</td><td> 1.6</td><td> 3.6</td><td>negative</td></tr>\n",
       "\t<tr><td>113</td><td>11.1</td><td>1.7</td><td> 0.8</td><td> 2.3</td><td>negative</td></tr>\n",
       "\t<tr><td> 97</td><td> 7.8</td><td>1.3</td><td> 1.2</td><td> 0.9</td><td>negative</td></tr>\n",
       "\t<tr><td>104</td><td> 6.3</td><td>2.0</td><td> 1.2</td><td> 4.0</td><td>negative</td></tr>\n",
       "\t<tr><td>112</td><td> 5.9</td><td>1.7</td><td> 2.0</td><td> 1.3</td><td>negative</td></tr>\n",
       "\t<tr><td>120</td><td> 1.9</td><td>0.7</td><td>18.5</td><td>24.0</td><td>negative</td></tr>\n",
       "\t<tr><td>118</td><td> 3.6</td><td>1.5</td><td>11.6</td><td>48.8</td><td>negative</td></tr>\n",
       "\t<tr><td>106</td><td> 9.4</td><td>1.7</td><td> 0.9</td><td> 3.1</td><td>negative</td></tr>\n",
       "\t<tr><td>107</td><td>13.8</td><td>1.5</td><td> 1.0</td><td> 1.9</td><td>negative</td></tr>\n",
       "\t<tr><td>129</td><td>11.9</td><td>2.7</td><td> 1.2</td><td> 3.5</td><td>negative</td></tr>\n",
       "\t<tr><td>115</td><td> 6.3</td><td>1.2</td><td> 4.7</td><td>14.4</td><td>negative</td></tr>\n",
       "\t<tr><td>113</td><td> 9.0</td><td>2.0</td><td> 1.8</td><td> 1.6</td><td>negative</td></tr>\n",
       "\t<tr><td>111</td><td> 9.1</td><td>1.7</td><td> 1.2</td><td> 4.1</td><td>negative</td></tr>\n",
       "\t<tr><td>119</td><td>10.6</td><td>2.1</td><td> 1.3</td><td> 1.1</td><td>negative</td></tr>\n",
       "\t<tr><td> 98</td><td> 8.6</td><td>1.6</td><td> 1.6</td><td> 6.0</td><td>negative</td></tr>\n",
       "\t<tr><td>105</td><td> 5.7</td><td>1.0</td><td> 0.9</td><td> 0.9</td><td>negative</td></tr>\n",
       "\t<tr><td>121</td><td>13.5</td><td>1.5</td><td> 1.6</td><td> 0.5</td><td>negative</td></tr>\n",
       "\t<tr><td>131</td><td> 2.7</td><td>0.8</td><td> 9.9</td><td> 4.7</td><td>negative</td></tr>\n",
       "\t<tr><td>106</td><td> 9.4</td><td>2.2</td><td> 1.5</td><td> 0.0</td><td>negative</td></tr>\n",
       "\t<tr><td>125</td><td> 3.7</td><td>1.1</td><td> 8.5</td><td>25.9</td><td>negative</td></tr>\n",
       "\t<tr><td> 98</td><td> 9.1</td><td>1.4</td><td> 1.9</td><td>-0.3</td><td>negative</td></tr>\n",
       "\t<tr><td>119</td><td>11.4</td><td>2.3</td><td> 2.2</td><td> 1.6</td><td>negative</td></tr>\n",
       "\t<tr><td>109</td><td> 5.3</td><td>1.6</td><td> 1.4</td><td> 1.5</td><td>negative</td></tr>\n",
       "\t<tr><td>102</td><td> 9.5</td><td>1.4</td><td> 1.1</td><td> 1.6</td><td>negative</td></tr>\n",
       "\t<tr><td>118</td><td>10.6</td><td>1.8</td><td> 1.4</td><td> 3.0</td><td>negative</td></tr>\n",
       "\t<tr><td>119</td><td> 3.8</td><td>1.1</td><td>23.0</td><td> 5.7</td><td>negative</td></tr>\n",
       "\t<tr><td>114</td><td> 8.4</td><td>1.6</td><td> 1.6</td><td>-0.2</td><td>negative</td></tr>\n",
       "\t<tr><td>105</td><td> 8.7</td><td>1.5</td><td> 1.1</td><td> 1.5</td><td>negative</td></tr>\n",
       "\t<tr><td>⋮</td><td>⋮</td><td>⋮</td><td>⋮</td><td>⋮</td><td>⋮</td></tr>\n",
       "\t<tr><td>105</td><td>17.4</td><td> 1.6</td><td>0.3</td><td> 0.4</td><td>positive</td></tr>\n",
       "\t<tr><td>110</td><td>20.3</td><td> 3.7</td><td>0.6</td><td> 0.2</td><td>positive</td></tr>\n",
       "\t<tr><td> 99</td><td>13.0</td><td> 3.1</td><td>0.5</td><td>-0.1</td><td>positive</td></tr>\n",
       "\t<tr><td> 84</td><td>18.5</td><td> 4.4</td><td>1.1</td><td>-0.3</td><td>positive</td></tr>\n",
       "\t<tr><td>106</td><td>13.4</td><td> 3.0</td><td>1.1</td><td> 0.0</td><td>positive</td></tr>\n",
       "\t<tr><td>105</td><td>17.4</td><td> 1.6</td><td>0.3</td><td> 0.4</td><td>positive</td></tr>\n",
       "\t<tr><td> 88</td><td>12.9</td><td> 2.7</td><td>0.1</td><td> 0.2</td><td>positive</td></tr>\n",
       "\t<tr><td> 76</td><td>25.3</td><td> 4.5</td><td>1.2</td><td>-0.1</td><td>positive</td></tr>\n",
       "\t<tr><td> 88</td><td>12.9</td><td> 2.7</td><td>0.1</td><td> 0.2</td><td>positive</td></tr>\n",
       "\t<tr><td>110</td><td>20.3</td><td> 3.7</td><td>0.6</td><td> 0.2</td><td>positive</td></tr>\n",
       "\t<tr><td> 99</td><td>17.5</td><td> 1.9</td><td>1.4</td><td> 0.3</td><td>positive</td></tr>\n",
       "\t<tr><td> 67</td><td>23.3</td><td> 7.4</td><td>1.8</td><td>-0.6</td><td>positive</td></tr>\n",
       "\t<tr><td> 88</td><td>16.5</td><td> 4.9</td><td>0.8</td><td> 0.1</td><td>positive</td></tr>\n",
       "\t<tr><td>134</td><td>16.4</td><td> 4.8</td><td>0.6</td><td> 0.1</td><td>positive</td></tr>\n",
       "\t<tr><td> 97</td><td>15.1</td><td> 1.8</td><td>1.2</td><td>-0.2</td><td>positive</td></tr>\n",
       "\t<tr><td> 99</td><td>17.5</td><td> 1.9</td><td>1.4</td><td> 0.3</td><td>positive</td></tr>\n",
       "\t<tr><td>113</td><td>17.2</td><td> 1.8</td><td>1.0</td><td> 0.0</td><td>positive</td></tr>\n",
       "\t<tr><td>139</td><td>16.4</td><td> 3.8</td><td>1.1</td><td>-0.2</td><td>positive</td></tr>\n",
       "\t<tr><td> 68</td><td>14.7</td><td> 7.8</td><td>0.6</td><td>-0.2</td><td>positive</td></tr>\n",
       "\t<tr><td> 99</td><td>13.0</td><td> 3.1</td><td>0.5</td><td>-0.1</td><td>positive</td></tr>\n",
       "\t<tr><td> 68</td><td>14.7</td><td> 7.8</td><td>0.6</td><td>-0.2</td><td>positive</td></tr>\n",
       "\t<tr><td> 99</td><td>13.0</td><td> 3.6</td><td>0.7</td><td>-0.1</td><td>positive</td></tr>\n",
       "\t<tr><td>110</td><td>15.2</td><td> 1.9</td><td>0.7</td><td>-0.2</td><td>positive</td></tr>\n",
       "\t<tr><td> 80</td><td>23.0</td><td>10.0</td><td>0.9</td><td>-0.1</td><td>positive</td></tr>\n",
       "\t<tr><td> 92</td><td>11.1</td><td> 2.0</td><td>0.7</td><td>-0.2</td><td>positive</td></tr>\n",
       "\t<tr><td> 94</td><td>20.5</td><td> 1.8</td><td>1.4</td><td>-0.5</td><td>positive</td></tr>\n",
       "\t<tr><td> 99</td><td>13.0</td><td> 3.6</td><td>0.7</td><td>-0.1</td><td>positive</td></tr>\n",
       "\t<tr><td> 88</td><td>12.9</td><td> 2.7</td><td>0.1</td><td> 0.2</td><td>positive</td></tr>\n",
       "\t<tr><td> 89</td><td>20.1</td><td> 7.3</td><td>1.1</td><td>-0.2</td><td>positive</td></tr>\n",
       "\t<tr><td> 65</td><td>25.3</td><td> 5.8</td><td>1.3</td><td> 0.2</td><td>positive</td></tr>\n",
       "</tbody>\n",
       "</table>\n"
      ],
      "text/latex": [
       "A data.frame: 360 × 6\n",
       "\\begin{tabular}{r|llllll}\n",
       " T3resin & Thyroxin & Triiodothyronine & Thyroidstimulating & TSH\\_value & Class\\\\\n",
       " <int> & <dbl> & <dbl> & <dbl> & <dbl> & <fct>\\\\\n",
       "\\hline\n",
       "\t 105 &  7.3 & 1.5 &  1.5 & -0.1 & negative\\\\\n",
       "\t 111 &  8.4 & 1.5 &  0.8 &  1.2 & negative\\\\\n",
       "\t 105 &  9.5 & 1.8 &  1.6 &  3.6 & negative\\\\\n",
       "\t 113 & 11.1 & 1.7 &  0.8 &  2.3 & negative\\\\\n",
       "\t  97 &  7.8 & 1.3 &  1.2 &  0.9 & negative\\\\\n",
       "\t 104 &  6.3 & 2.0 &  1.2 &  4.0 & negative\\\\\n",
       "\t 112 &  5.9 & 1.7 &  2.0 &  1.3 & negative\\\\\n",
       "\t 120 &  1.9 & 0.7 & 18.5 & 24.0 & negative\\\\\n",
       "\t 118 &  3.6 & 1.5 & 11.6 & 48.8 & negative\\\\\n",
       "\t 106 &  9.4 & 1.7 &  0.9 &  3.1 & negative\\\\\n",
       "\t 107 & 13.8 & 1.5 &  1.0 &  1.9 & negative\\\\\n",
       "\t 129 & 11.9 & 2.7 &  1.2 &  3.5 & negative\\\\\n",
       "\t 115 &  6.3 & 1.2 &  4.7 & 14.4 & negative\\\\\n",
       "\t 113 &  9.0 & 2.0 &  1.8 &  1.6 & negative\\\\\n",
       "\t 111 &  9.1 & 1.7 &  1.2 &  4.1 & negative\\\\\n",
       "\t 119 & 10.6 & 2.1 &  1.3 &  1.1 & negative\\\\\n",
       "\t  98 &  8.6 & 1.6 &  1.6 &  6.0 & negative\\\\\n",
       "\t 105 &  5.7 & 1.0 &  0.9 &  0.9 & negative\\\\\n",
       "\t 121 & 13.5 & 1.5 &  1.6 &  0.5 & negative\\\\\n",
       "\t 131 &  2.7 & 0.8 &  9.9 &  4.7 & negative\\\\\n",
       "\t 106 &  9.4 & 2.2 &  1.5 &  0.0 & negative\\\\\n",
       "\t 125 &  3.7 & 1.1 &  8.5 & 25.9 & negative\\\\\n",
       "\t  98 &  9.1 & 1.4 &  1.9 & -0.3 & negative\\\\\n",
       "\t 119 & 11.4 & 2.3 &  2.2 &  1.6 & negative\\\\\n",
       "\t 109 &  5.3 & 1.6 &  1.4 &  1.5 & negative\\\\\n",
       "\t 102 &  9.5 & 1.4 &  1.1 &  1.6 & negative\\\\\n",
       "\t 118 & 10.6 & 1.8 &  1.4 &  3.0 & negative\\\\\n",
       "\t 119 &  3.8 & 1.1 & 23.0 &  5.7 & negative\\\\\n",
       "\t 114 &  8.4 & 1.6 &  1.6 & -0.2 & negative\\\\\n",
       "\t 105 &  8.7 & 1.5 &  1.1 &  1.5 & negative\\\\\n",
       "\t ⋮ & ⋮ & ⋮ & ⋮ & ⋮ & ⋮\\\\\n",
       "\t 105 & 17.4 &  1.6 & 0.3 &  0.4 & positive\\\\\n",
       "\t 110 & 20.3 &  3.7 & 0.6 &  0.2 & positive\\\\\n",
       "\t  99 & 13.0 &  3.1 & 0.5 & -0.1 & positive\\\\\n",
       "\t  84 & 18.5 &  4.4 & 1.1 & -0.3 & positive\\\\\n",
       "\t 106 & 13.4 &  3.0 & 1.1 &  0.0 & positive\\\\\n",
       "\t 105 & 17.4 &  1.6 & 0.3 &  0.4 & positive\\\\\n",
       "\t  88 & 12.9 &  2.7 & 0.1 &  0.2 & positive\\\\\n",
       "\t  76 & 25.3 &  4.5 & 1.2 & -0.1 & positive\\\\\n",
       "\t  88 & 12.9 &  2.7 & 0.1 &  0.2 & positive\\\\\n",
       "\t 110 & 20.3 &  3.7 & 0.6 &  0.2 & positive\\\\\n",
       "\t  99 & 17.5 &  1.9 & 1.4 &  0.3 & positive\\\\\n",
       "\t  67 & 23.3 &  7.4 & 1.8 & -0.6 & positive\\\\\n",
       "\t  88 & 16.5 &  4.9 & 0.8 &  0.1 & positive\\\\\n",
       "\t 134 & 16.4 &  4.8 & 0.6 &  0.1 & positive\\\\\n",
       "\t  97 & 15.1 &  1.8 & 1.2 & -0.2 & positive\\\\\n",
       "\t  99 & 17.5 &  1.9 & 1.4 &  0.3 & positive\\\\\n",
       "\t 113 & 17.2 &  1.8 & 1.0 &  0.0 & positive\\\\\n",
       "\t 139 & 16.4 &  3.8 & 1.1 & -0.2 & positive\\\\\n",
       "\t  68 & 14.7 &  7.8 & 0.6 & -0.2 & positive\\\\\n",
       "\t  99 & 13.0 &  3.1 & 0.5 & -0.1 & positive\\\\\n",
       "\t  68 & 14.7 &  7.8 & 0.6 & -0.2 & positive\\\\\n",
       "\t  99 & 13.0 &  3.6 & 0.7 & -0.1 & positive\\\\\n",
       "\t 110 & 15.2 &  1.9 & 0.7 & -0.2 & positive\\\\\n",
       "\t  80 & 23.0 & 10.0 & 0.9 & -0.1 & positive\\\\\n",
       "\t  92 & 11.1 &  2.0 & 0.7 & -0.2 & positive\\\\\n",
       "\t  94 & 20.5 &  1.8 & 1.4 & -0.5 & positive\\\\\n",
       "\t  99 & 13.0 &  3.6 & 0.7 & -0.1 & positive\\\\\n",
       "\t  88 & 12.9 &  2.7 & 0.1 &  0.2 & positive\\\\\n",
       "\t  89 & 20.1 &  7.3 & 1.1 & -0.2 & positive\\\\\n",
       "\t  65 & 25.3 &  5.8 & 1.3 &  0.2 & positive\\\\\n",
       "\\end{tabular}\n"
      ],
      "text/markdown": [
       "\n",
       "A data.frame: 360 × 6\n",
       "\n",
       "| T3resin &lt;int&gt; | Thyroxin &lt;dbl&gt; | Triiodothyronine &lt;dbl&gt; | Thyroidstimulating &lt;dbl&gt; | TSH_value &lt;dbl&gt; | Class &lt;fct&gt; |\n",
       "|---|---|---|---|---|---|\n",
       "| 105 |  7.3 | 1.5 |  1.5 | -0.1 | negative |\n",
       "| 111 |  8.4 | 1.5 |  0.8 |  1.2 | negative |\n",
       "| 105 |  9.5 | 1.8 |  1.6 |  3.6 | negative |\n",
       "| 113 | 11.1 | 1.7 |  0.8 |  2.3 | negative |\n",
       "|  97 |  7.8 | 1.3 |  1.2 |  0.9 | negative |\n",
       "| 104 |  6.3 | 2.0 |  1.2 |  4.0 | negative |\n",
       "| 112 |  5.9 | 1.7 |  2.0 |  1.3 | negative |\n",
       "| 120 |  1.9 | 0.7 | 18.5 | 24.0 | negative |\n",
       "| 118 |  3.6 | 1.5 | 11.6 | 48.8 | negative |\n",
       "| 106 |  9.4 | 1.7 |  0.9 |  3.1 | negative |\n",
       "| 107 | 13.8 | 1.5 |  1.0 |  1.9 | negative |\n",
       "| 129 | 11.9 | 2.7 |  1.2 |  3.5 | negative |\n",
       "| 115 |  6.3 | 1.2 |  4.7 | 14.4 | negative |\n",
       "| 113 |  9.0 | 2.0 |  1.8 |  1.6 | negative |\n",
       "| 111 |  9.1 | 1.7 |  1.2 |  4.1 | negative |\n",
       "| 119 | 10.6 | 2.1 |  1.3 |  1.1 | negative |\n",
       "|  98 |  8.6 | 1.6 |  1.6 |  6.0 | negative |\n",
       "| 105 |  5.7 | 1.0 |  0.9 |  0.9 | negative |\n",
       "| 121 | 13.5 | 1.5 |  1.6 |  0.5 | negative |\n",
       "| 131 |  2.7 | 0.8 |  9.9 |  4.7 | negative |\n",
       "| 106 |  9.4 | 2.2 |  1.5 |  0.0 | negative |\n",
       "| 125 |  3.7 | 1.1 |  8.5 | 25.9 | negative |\n",
       "|  98 |  9.1 | 1.4 |  1.9 | -0.3 | negative |\n",
       "| 119 | 11.4 | 2.3 |  2.2 |  1.6 | negative |\n",
       "| 109 |  5.3 | 1.6 |  1.4 |  1.5 | negative |\n",
       "| 102 |  9.5 | 1.4 |  1.1 |  1.6 | negative |\n",
       "| 118 | 10.6 | 1.8 |  1.4 |  3.0 | negative |\n",
       "| 119 |  3.8 | 1.1 | 23.0 |  5.7 | negative |\n",
       "| 114 |  8.4 | 1.6 |  1.6 | -0.2 | negative |\n",
       "| 105 |  8.7 | 1.5 |  1.1 |  1.5 | negative |\n",
       "| ⋮ | ⋮ | ⋮ | ⋮ | ⋮ | ⋮ |\n",
       "| 105 | 17.4 |  1.6 | 0.3 |  0.4 | positive |\n",
       "| 110 | 20.3 |  3.7 | 0.6 |  0.2 | positive |\n",
       "|  99 | 13.0 |  3.1 | 0.5 | -0.1 | positive |\n",
       "|  84 | 18.5 |  4.4 | 1.1 | -0.3 | positive |\n",
       "| 106 | 13.4 |  3.0 | 1.1 |  0.0 | positive |\n",
       "| 105 | 17.4 |  1.6 | 0.3 |  0.4 | positive |\n",
       "|  88 | 12.9 |  2.7 | 0.1 |  0.2 | positive |\n",
       "|  76 | 25.3 |  4.5 | 1.2 | -0.1 | positive |\n",
       "|  88 | 12.9 |  2.7 | 0.1 |  0.2 | positive |\n",
       "| 110 | 20.3 |  3.7 | 0.6 |  0.2 | positive |\n",
       "|  99 | 17.5 |  1.9 | 1.4 |  0.3 | positive |\n",
       "|  67 | 23.3 |  7.4 | 1.8 | -0.6 | positive |\n",
       "|  88 | 16.5 |  4.9 | 0.8 |  0.1 | positive |\n",
       "| 134 | 16.4 |  4.8 | 0.6 |  0.1 | positive |\n",
       "|  97 | 15.1 |  1.8 | 1.2 | -0.2 | positive |\n",
       "|  99 | 17.5 |  1.9 | 1.4 |  0.3 | positive |\n",
       "| 113 | 17.2 |  1.8 | 1.0 |  0.0 | positive |\n",
       "| 139 | 16.4 |  3.8 | 1.1 | -0.2 | positive |\n",
       "|  68 | 14.7 |  7.8 | 0.6 | -0.2 | positive |\n",
       "|  99 | 13.0 |  3.1 | 0.5 | -0.1 | positive |\n",
       "|  68 | 14.7 |  7.8 | 0.6 | -0.2 | positive |\n",
       "|  99 | 13.0 |  3.6 | 0.7 | -0.1 | positive |\n",
       "| 110 | 15.2 |  1.9 | 0.7 | -0.2 | positive |\n",
       "|  80 | 23.0 | 10.0 | 0.9 | -0.1 | positive |\n",
       "|  92 | 11.1 |  2.0 | 0.7 | -0.2 | positive |\n",
       "|  94 | 20.5 |  1.8 | 1.4 | -0.5 | positive |\n",
       "|  99 | 13.0 |  3.6 | 0.7 | -0.1 | positive |\n",
       "|  88 | 12.9 |  2.7 | 0.1 |  0.2 | positive |\n",
       "|  89 | 20.1 |  7.3 | 1.1 | -0.2 | positive |\n",
       "|  65 | 25.3 |  5.8 | 1.3 |  0.2 | positive |\n",
       "\n"
      ],
      "text/plain": [
       "    T3resin Thyroxin Triiodothyronine Thyroidstimulating TSH_value Class   \n",
       "1   105      7.3     1.5               1.5               -0.1      negative\n",
       "2   111      8.4     1.5               0.8                1.2      negative\n",
       "3   105      9.5     1.8               1.6                3.6      negative\n",
       "4   113     11.1     1.7               0.8                2.3      negative\n",
       "5    97      7.8     1.3               1.2                0.9      negative\n",
       "6   104      6.3     2.0               1.2                4.0      negative\n",
       "7   112      5.9     1.7               2.0                1.3      negative\n",
       "8   120      1.9     0.7              18.5               24.0      negative\n",
       "9   118      3.6     1.5              11.6               48.8      negative\n",
       "10  106      9.4     1.7               0.9                3.1      negative\n",
       "11  107     13.8     1.5               1.0                1.9      negative\n",
       "12  129     11.9     2.7               1.2                3.5      negative\n",
       "13  115      6.3     1.2               4.7               14.4      negative\n",
       "14  113      9.0     2.0               1.8                1.6      negative\n",
       "15  111      9.1     1.7               1.2                4.1      negative\n",
       "16  119     10.6     2.1               1.3                1.1      negative\n",
       "17   98      8.6     1.6               1.6                6.0      negative\n",
       "18  105      5.7     1.0               0.9                0.9      negative\n",
       "19  121     13.5     1.5               1.6                0.5      negative\n",
       "20  131      2.7     0.8               9.9                4.7      negative\n",
       "21  106      9.4     2.2               1.5                0.0      negative\n",
       "22  125      3.7     1.1               8.5               25.9      negative\n",
       "23   98      9.1     1.4               1.9               -0.3      negative\n",
       "24  119     11.4     2.3               2.2                1.6      negative\n",
       "25  109      5.3     1.6               1.4                1.5      negative\n",
       "26  102      9.5     1.4               1.1                1.6      negative\n",
       "27  118     10.6     1.8               1.4                3.0      negative\n",
       "28  119      3.8     1.1              23.0                5.7      negative\n",
       "29  114      8.4     1.6               1.6               -0.2      negative\n",
       "30  105      8.7     1.5               1.1                1.5      negative\n",
       "⋮   ⋮       ⋮        ⋮                ⋮                  ⋮         ⋮       \n",
       "331 105     17.4      1.6             0.3                 0.4      positive\n",
       "332 110     20.3      3.7             0.6                 0.2      positive\n",
       "333  99     13.0      3.1             0.5                -0.1      positive\n",
       "334  84     18.5      4.4             1.1                -0.3      positive\n",
       "335 106     13.4      3.0             1.1                 0.0      positive\n",
       "336 105     17.4      1.6             0.3                 0.4      positive\n",
       "337  88     12.9      2.7             0.1                 0.2      positive\n",
       "338  76     25.3      4.5             1.2                -0.1      positive\n",
       "339  88     12.9      2.7             0.1                 0.2      positive\n",
       "340 110     20.3      3.7             0.6                 0.2      positive\n",
       "341  99     17.5      1.9             1.4                 0.3      positive\n",
       "342  67     23.3      7.4             1.8                -0.6      positive\n",
       "343  88     16.5      4.9             0.8                 0.1      positive\n",
       "344 134     16.4      4.8             0.6                 0.1      positive\n",
       "345  97     15.1      1.8             1.2                -0.2      positive\n",
       "346  99     17.5      1.9             1.4                 0.3      positive\n",
       "347 113     17.2      1.8             1.0                 0.0      positive\n",
       "348 139     16.4      3.8             1.1                -0.2      positive\n",
       "349  68     14.7      7.8             0.6                -0.2      positive\n",
       "350  99     13.0      3.1             0.5                -0.1      positive\n",
       "351  68     14.7      7.8             0.6                -0.2      positive\n",
       "352  99     13.0      3.6             0.7                -0.1      positive\n",
       "353 110     15.2      1.9             0.7                -0.2      positive\n",
       "354  80     23.0     10.0             0.9                -0.1      positive\n",
       "355  92     11.1      2.0             0.7                -0.2      positive\n",
       "356  94     20.5      1.8             1.4                -0.5      positive\n",
       "357  99     13.0      3.6             0.7                -0.1      positive\n",
       "358  88     12.9      2.7             0.1                 0.2      positive\n",
       "359  89     20.1      7.3             1.1                -0.2      positive\n",
       "360  65     25.3      5.8             1.3                 0.2      positive"
      ]
     },
     "metadata": {},
     "output_type": "display_data"
    },
    {
     "ename": "ERROR",
     "evalue": "Error in eval(expr, envir, enclos): object 'data_balanced_both' not found\n",
     "output_type": "error",
     "traceback": [
      "Error in eval(expr, envir, enclos): object 'data_balanced_both' not found\nTraceback:\n"
     ]
    }
   ],
   "source": [
    "\n",
    "data_balanced_under\n",
    "data_balanced_over\n",
    "data_balanced_both\n",
    "data.rose\n",
    "newSamples"
   ]
  },
  {
   "cell_type": "code",
   "execution_count": 180,
   "metadata": {},
   "outputs": [
    {
     "data": {
      "text/plain": [
       "    obs\n",
       "pred negative positive\n",
       "   0      180        0\n",
       "   1        0       35"
      ]
     },
     "metadata": {},
     "output_type": "display_data"
    }
   ],
   "source": [
    "mod1 <-glm(Class ~ .,data =newthyroid1,family =\"binomial\")\n",
    "pred1 <-ifelse ( predict (mod1,newdata=newthyroid1,type =\"response\") >= 0.5,1,0)\n",
    "table(pred=pred1,obs=newthyroid1$Class)\n"
   ]
  },
  {
   "cell_type": "code",
   "execution_count": 182,
   "metadata": {},
   "outputs": [
    {
     "data": {
      "text/plain": [
       "    obs\n",
       "pred negative positive\n",
       "   0       35        0\n",
       "   1        0       35"
      ]
     },
     "metadata": {},
     "output_type": "display_data"
    }
   ],
   "source": [
    "mod2 <-glm(Class ~ .,data =data_balanced_under,,family =\"binomial\")\n",
    "pred2 <-ifelse (predict (mod2,newdata=data_balanced_under,type =\"response\") >= 0.5,1,0)\n",
    "table(pred=pred2,obs=data_balanced_under$Class)"
   ]
  },
  {
   "cell_type": "code",
   "execution_count": 184,
   "metadata": {},
   "outputs": [
    {
     "data": {
      "text/plain": [
       "    obs\n",
       "pred negative positive\n",
       "   0      180        0\n",
       "   1        0      180"
      ]
     },
     "metadata": {},
     "output_type": "display_data"
    }
   ],
   "source": [
    "mod3 <-glm(Class ~ .,data =data_balanced_over,,family =\"binomial\")\n",
    "pred3 <- ifelse(predict (mod3,newdata=data_balanced_over,type =\"response\") >= 0.5,1,0)\n",
    "table(pred=pred3,obs=data_balanced_over$Class)"
   ]
  },
  {
   "cell_type": "code",
   "execution_count": 194,
   "metadata": {},
   "outputs": [
    {
     "ename": "ERROR",
     "evalue": "Error in is.data.frame(data): object 'data_balanced_both' not found\n",
     "output_type": "error",
     "traceback": [
      "Error in is.data.frame(data): object 'data_balanced_both' not found\nTraceback:\n",
      "1. glm(Class ~ ., data = data_balanced_both, family = \"binomial\")",
      "2. eval(mf, parent.frame())",
      "3. eval(mf, parent.frame())",
      "4. stats::model.frame(formula = Class ~ ., data = data_balanced_both, \n .     drop.unused.levels = TRUE)",
      "5. model.frame.default(formula = Class ~ ., data = data_balanced_both, \n .     drop.unused.levels = TRUE)",
      "6. is.data.frame(data)"
     ]
    }
   ],
   "source": [
    "mod4 <-glm(Class ~ .,data =data_balanced_both,family =\"binomial\")\n",
    "pred4<- ifelse (predict (mod4,newdata=data_balanced_both,type =\"response\") >= 0.5,1,0)\n",
    "table(pred=pred4,obs=data_balanced_both$Class)\n"
   ]
  },
  {
   "cell_type": "code",
   "execution_count": 192,
   "metadata": {},
   "outputs": [
    {
     "data": {
      "text/plain": [
       "    obs\n",
       "pred negative positive\n",
       "   0       97       13\n",
       "   1        8       97"
      ]
     },
     "metadata": {},
     "output_type": "display_data"
    }
   ],
   "source": [
    "mod5 <-glm(Class ~ .,data =data.rose,family =\"binomial\")\n",
    "pred5 <- ifelse (predict (mod5,newdata=data.rose,type =\"response\") >= 0.5,1,0)\n",
    "table(pred=pred5,obs=data.rose$Class)\n"
   ]
  },
  {
   "cell_type": "code",
   "execution_count": 193,
   "metadata": {},
   "outputs": [
    {
     "data": {
      "text/plain": [
       "    obs\n",
       "pred negative positive\n",
       "   0        0      145"
      ]
     },
     "metadata": {},
     "output_type": "display_data"
    }
   ],
   "source": [
    "mod6 <-glm(Class ~ .,data =newSamples,family =\"binomial\")\n",
    "pred6 <- ifelse (predict (mod6,newdata=newSamples,type =\"response\") >= 0.5,1,0)\n",
    "table(pred=pred6,obs=newSamples$Class)\n"
   ]
  }
 ],
 "metadata": {
  "kernelspec": {
   "display_name": "R",
   "language": "R",
   "name": "ir"
  },
  "language_info": {
   "codemirror_mode": "r",
   "file_extension": ".r",
   "mimetype": "text/x-r-source",
   "name": "R",
   "pygments_lexer": "r",
   "version": "3.6.1"
  }
 },
 "nbformat": 4,
 "nbformat_minor": 2
}
